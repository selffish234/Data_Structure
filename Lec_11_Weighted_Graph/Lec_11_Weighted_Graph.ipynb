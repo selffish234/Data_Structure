{
 "cells": [
  {
   "cell_type": "markdown",
   "id": "dec2d18a",
   "metadata": {},
   "source": [
    "# Kruskal 알고리즘의 구현"
   ]
  },
  {
   "cell_type": "code",
   "execution_count": 30,
   "id": "d9868acf",
   "metadata": {
    "ExecuteTime": {
     "end_time": "2023-12-03T11:58:24.727021Z",
     "start_time": "2023-12-03T11:58:24.720029Z"
    }
   },
   "outputs": [],
   "source": [
    "parent = []\n",
    "set_size = 0\n",
    "def init_set(nSets):\n",
    "    global set_size, parent\n",
    "    set_size = nSets;\n",
    "    for i in range(nSets):\n",
    "        parent.append(-1)\n",
    "\n",
    "def find(id):\n",
    "    while (parent[id] >= 0):\n",
    "        id = parent[id]\n",
    "    return id;\n",
    "\n",
    "def union(s1, s2):\n",
    "    global set_size\n",
    "    parent[s1] = s2\n",
    "    set_size = set_size -1"
   ]
  },
  {
   "cell_type": "code",
   "execution_count": 31,
   "id": "685f47d8",
   "metadata": {
    "ExecuteTime": {
     "end_time": "2023-12-03T11:58:24.898149Z",
     "start_time": "2023-12-03T11:58:24.890077Z"
    }
   },
   "outputs": [],
   "source": [
    "def MSTKruskal(vertex, adj):\n",
    "    vsize = len(vertex)\n",
    "    init_set(vsize)\n",
    "    eList = []\n",
    "\n",
    "    for i in range(vsize-1):\n",
    "        for j in range(i+1, vsize):\n",
    "            if adj[i][j] != None:\n",
    "                eList.append((i, j, adj[i][j]))\n",
    "                \n",
    "    eList.sort(key = lambda e : e[2], reverse = True)\n",
    "    \n",
    "    edgeAccepted = 0\n",
    "    \n",
    "    while (edgeAccepted < vsize -1):\n",
    "        e = eList.pop(-1)\n",
    "        uset = find(e[0])\n",
    "        vset = find(e[1])\n",
    "        \n",
    "        if uset != vset:\n",
    "            print(\"간선 추가 : (%s, %s, %d)\" %\n",
    "                 (vertex[e[0]], vertex[e[1]], e[2]))\n",
    "            union(uset, vset)\n",
    "            edgeAccepted += 1"
   ]
  },
  {
   "cell_type": "code",
   "execution_count": 32,
   "id": "fc9e3119",
   "metadata": {
    "ExecuteTime": {
     "end_time": "2023-12-03T11:58:25.238012Z",
     "start_time": "2023-12-03T11:58:25.218975Z"
    },
    "scrolled": true
   },
   "outputs": [
    {
     "name": "stdout",
     "output_type": "stream",
     "text": [
      "MST By Kruskal's Algorithm\n",
      "간선 추가 : (A, F, 10)\n",
      "간선 추가 : (C, D, 12)\n",
      "간선 추가 : (B, G, 15)\n",
      "간선 추가 : (B, C, 16)\n",
      "간선 추가 : (D, E, 22)\n",
      "간선 추가 : (E, F, 27)\n"
     ]
    }
   ],
   "source": [
    "vertex = ['A', 'B', 'C', 'D', 'E', 'F', 'G']\n",
    "weight = [[None, 29, None, None, None, 10, None],\n",
    "          [29, None, 16, None, None, None, 15],\n",
    "          [None, 16, None, 12, None, None, None],\n",
    "          [None, None, 12, None, 22, None, 18],\n",
    "          [None, None, None, 22, None, 27, 25],\n",
    "          [10, None, None, None, 27, None, None],\n",
    "          [None, 15, None, 18, 25, None, None]]\n",
    "print(\"MST By Kruskal's Algorithm\")\n",
    "MSTKruskal(vertex, weight)"
   ]
  },
  {
   "cell_type": "markdown",
   "id": "6c236865",
   "metadata": {},
   "source": [
    "# 연습문제  \n",
    "  \n",
    "- 11.3  \n",
    "AB - BD - CE - DE  \n",
    "  \n",
    "  \n",
    "- 11.4  \n",
    "A - B - D - E - C  \n",
    "  \n",
    "  \n",
    "- 11.7  \n",
    "Kruskal: O(e log e), Prim: O(n^2)  \n",
    "\n",
    "  \n",
    "- 11.10  \n",
    "\n",
    "step1: [0, 14, 7, 9, 999, 999]  \n",
    "step2: [0, 14, 7, 9, 22, 999]  \n",
    "step3: [0, 14, 7, 9, 20, 999]  \n",
    "step4: [0, 14, 7, 9, 20, 26]  \n",
    "step5: [0, 14, 7, 9, 20, 26]  \n",
    "step6: [0, 14, 7, 9, 20, 26]  "
   ]
  },
  {
   "cell_type": "markdown",
   "id": "5b79d6ee",
   "metadata": {},
   "source": [
    "# 실습문제 11.3"
   ]
  },
  {
   "cell_type": "code",
   "execution_count": 34,
   "id": "fe1977dd",
   "metadata": {
    "ExecuteTime": {
     "end_time": "2023-12-03T12:06:50.946956Z",
     "start_time": "2023-12-03T12:06:50.933517Z"
    }
   },
   "outputs": [],
   "source": [
    "import heapq\n",
    "\n",
    "parent = []\n",
    "set_size = 0\n",
    "\n",
    "def init_set(nSets):\n",
    "    global set_size, parent\n",
    "    set_size = nSets\n",
    "    for i in range(nSets):\n",
    "        parent.append(-1)\n",
    "\n",
    "def find(id):\n",
    "    while parent[id] >= 0:\n",
    "        id = parent[id]\n",
    "    return id\n",
    "\n",
    "def union(s1, s2):\n",
    "    global set_size\n",
    "    parent[s1] = s2\n",
    "    set_size -= 1\n",
    "\n",
    "def MSTKruskal2(vertex, adj):\n",
    "    vsize = len(vertex)\n",
    "    init_set(vsize)\n",
    "    eList = []\n",
    "\n",
    "    for i in range(vsize - 1):\n",
    "        for j in range(i + 1, vsize):\n",
    "            if adj[i][j] is not None:\n",
    "                heapq.heappush(eList, (i, j, adj[i][j]))\n",
    "\n",
    "    edgeAccepted = 0\n",
    "\n",
    "    while edgeAccepted < vsize - 1:\n",
    "        e = heapq.heappop(eList)\n",
    "        uset = find(e[0])\n",
    "        vset = find(e[1])\n",
    "\n",
    "        if uset != vset:\n",
    "            print(\"간선 추가 : (%s, %s, %d)\" %\n",
    "                  (vertex[e[0]], vertex[e[1]], e[2]))\n",
    "            union(uset, vset)\n",
    "            edgeAccepted += 1"
   ]
  },
  {
   "cell_type": "code",
   "execution_count": 35,
   "id": "a33c785b",
   "metadata": {
    "ExecuteTime": {
     "end_time": "2023-12-03T12:06:51.073059Z",
     "start_time": "2023-12-03T12:06:51.066609Z"
    }
   },
   "outputs": [
    {
     "name": "stdout",
     "output_type": "stream",
     "text": [
      "MST By Kruskal's Algorithm(heap)\n",
      "간선 추가 : (A, B, 29)\n",
      "간선 추가 : (A, F, 10)\n",
      "간선 추가 : (B, C, 16)\n",
      "간선 추가 : (B, G, 15)\n",
      "간선 추가 : (C, D, 12)\n",
      "간선 추가 : (D, E, 22)\n"
     ]
    }
   ],
   "source": [
    "vertex = ['A', 'B', 'C', 'D', 'E', 'F', 'G']\n",
    "weight = [[None, 29, None, None, None, 10, None],\n",
    "          [29, None, 16, None, None, None, 15],\n",
    "          [None, 16, None, 12, None, None, None],\n",
    "          [None, None, 12, None, 22, None, 18],\n",
    "          [None, None, None, 22, None, 27, 25],\n",
    "          [10, None, None, None, 27, None, None],\n",
    "          [None, 15, None, 18, 25, None, None]]\n",
    "print(\"MST By Kruskal's Algorithm(heap)\")\n",
    "MSTKruskal2(vertex, weight)"
   ]
  },
  {
   "cell_type": "code",
   "execution_count": null,
   "id": "f8408ac3",
   "metadata": {},
   "outputs": [],
   "source": []
  }
 ],
 "metadata": {
  "kernelspec": {
   "display_name": "Python 3 (ipykernel)",
   "language": "python",
   "name": "python3"
  },
  "language_info": {
   "codemirror_mode": {
    "name": "ipython",
    "version": 3
   },
   "file_extension": ".py",
   "mimetype": "text/x-python",
   "name": "python",
   "nbconvert_exporter": "python",
   "pygments_lexer": "ipython3",
   "version": "3.9.12"
  },
  "toc": {
   "base_numbering": 1,
   "nav_menu": {},
   "number_sections": true,
   "sideBar": true,
   "skip_h1_title": false,
   "title_cell": "Table of Contents",
   "title_sidebar": "Contents",
   "toc_cell": false,
   "toc_position": {},
   "toc_section_display": true,
   "toc_window_display": false
  }
 },
 "nbformat": 4,
 "nbformat_minor": 5
}
