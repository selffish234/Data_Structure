{
 "cells": [
  {
   "cell_type": "markdown",
   "id": "7b918f93",
   "metadata": {},
   "source": [
    "# 간단한 정렬 알고리즘"
   ]
  },
  {
   "cell_type": "code",
   "execution_count": 6,
   "id": "143f9ff6",
   "metadata": {
    "ExecuteTime": {
     "end_time": "2023-10-21T07:26:15.664589Z",
     "start_time": "2023-10-21T07:26:15.651752Z"
    }
   },
   "outputs": [],
   "source": [
    "def printStep(arr, val):\n",
    "    print(\"Step %2d = \"%val, end='')\n",
    "    print(arr)"
   ]
  },
  {
   "cell_type": "markdown",
   "id": "c21ceb8a",
   "metadata": {},
   "source": [
    "## 버블 정렬(bubble short)"
   ]
  },
  {
   "cell_type": "code",
   "execution_count": 8,
   "id": "35d680ca",
   "metadata": {
    "ExecuteTime": {
     "end_time": "2023-10-21T07:26:17.896433Z",
     "start_time": "2023-10-21T07:26:17.883336Z"
    }
   },
   "outputs": [],
   "source": [
    "def bubble_sort(A):\n",
    "    n = len(A)\n",
    "    for i in range(n-1, 0, -1):\n",
    "        bChanged = False\n",
    "        for j in range(i):\n",
    "            if (A[j]>A[j+1]):\n",
    "                A[j], A[j+1] = A[j+1], A[j]\n",
    "                bChanged = True\n",
    "        if not bChanged: break;\n",
    "        printStep(A, n - i);"
   ]
  },
  {
   "cell_type": "code",
   "execution_count": 17,
   "id": "f96472f9",
   "metadata": {
    "ExecuteTime": {
     "end_time": "2023-10-21T07:37:22.521744Z",
     "start_time": "2023-10-21T07:37:22.513684Z"
    }
   },
   "outputs": [
    {
     "name": "stdout",
     "output_type": "stream",
     "text": [
      "Original :  [5, 3, 8, 4, 9, 1, 6, 2, 7]\n",
      "Step  1 = [3, 5, 4, 8, 1, 6, 2, 7, 9]\n",
      "Step  2 = [3, 4, 5, 1, 6, 2, 7, 8, 9]\n",
      "Step  3 = [3, 4, 1, 5, 2, 6, 7, 8, 9]\n",
      "Step  4 = [3, 1, 4, 2, 5, 6, 7, 8, 9]\n",
      "Step  5 = [1, 3, 2, 4, 5, 6, 7, 8, 9]\n",
      "Step  6 = [1, 2, 3, 4, 5, 6, 7, 8, 9]\n",
      "Selection :  [1, 2, 3, 4, 5, 6, 7, 8, 9]\n"
     ]
    }
   ],
   "source": [
    "# 테스트 프로그램\n",
    "data = [5, 3, 8, 4, 9, 1, 6, 2, 7]\n",
    "print(\"Original : \", data)\n",
    "bubble_sort(data)\n",
    "print(\"Selection : \", data)"
   ]
  },
  {
   "cell_type": "markdown",
   "id": "79c9a4eb",
   "metadata": {},
   "source": [
    "## 선택 정렬 알고리즘"
   ]
  },
  {
   "cell_type": "code",
   "execution_count": 10,
   "id": "2c4d20c2",
   "metadata": {
    "ExecuteTime": {
     "end_time": "2023-10-21T07:28:53.997674Z",
     "start_time": "2023-10-21T07:28:53.984088Z"
    }
   },
   "outputs": [],
   "source": [
    "def selection_sort(A) :\n",
    "    n = len(A)\n",
    "    for i in range(n-1):\n",
    "        least = i;\n",
    "        for j in range(i+1, n):\n",
    "            if (A[j]<A[least]):\n",
    "                least = j\n",
    "        A[i], A[least] = A[least], A[i]\n",
    "        printStep(A, i+1);"
   ]
  },
  {
   "cell_type": "code",
   "execution_count": 13,
   "id": "41380ea5",
   "metadata": {
    "ExecuteTime": {
     "end_time": "2023-10-21T07:30:45.036972Z",
     "start_time": "2023-10-21T07:30:45.018032Z"
    }
   },
   "outputs": [
    {
     "name": "stdout",
     "output_type": "stream",
     "text": [
      "Original :  [5, 3, 8, 4, 9, 1, 6, 2, 7]\n",
      "Step  1 = [1, 3, 8, 4, 9, 5, 6, 2, 7]\n",
      "Step  2 = [1, 2, 8, 4, 9, 5, 6, 3, 7]\n",
      "Step  3 = [1, 2, 3, 4, 9, 5, 6, 8, 7]\n",
      "Step  4 = [1, 2, 3, 4, 9, 5, 6, 8, 7]\n",
      "Step  5 = [1, 2, 3, 4, 5, 9, 6, 8, 7]\n",
      "Step  6 = [1, 2, 3, 4, 5, 6, 9, 8, 7]\n",
      "Step  7 = [1, 2, 3, 4, 5, 6, 7, 8, 9]\n",
      "Step  8 = [1, 2, 3, 4, 5, 6, 7, 8, 9]\n",
      "Selection :  [1, 2, 3, 4, 5, 6, 7, 8, 9]\n"
     ]
    }
   ],
   "source": [
    "# 테스트 프로그램\n",
    "data = [5, 3, 8, 4, 9, 1, 6, 2, 7]\n",
    "print(\"Original : \", data)\n",
    "selection_sort(data)\n",
    "print(\"Selection : \", data)"
   ]
  },
  {
   "cell_type": "markdown",
   "id": "bbe84c68",
   "metadata": {},
   "source": [
    "## 삽입 정렬 알고리즘"
   ]
  },
  {
   "cell_type": "code",
   "execution_count": 46,
   "id": "8bf30fa9",
   "metadata": {
    "ExecuteTime": {
     "end_time": "2023-10-21T09:44:14.516084Z",
     "start_time": "2023-10-21T09:44:14.512072Z"
    }
   },
   "outputs": [],
   "source": [
    "def insertion_sort(A):\n",
    "    n = len(A)\n",
    "    for i in range(1, n):\n",
    "        key = A[i]\n",
    "        j = i-1\n",
    "        while j>=0 and A[j] > key:\n",
    "            A[j+1] = A[j]\n",
    "            j -= 1\n",
    "        A[j+1] = key\n",
    "        printStep(A, i)"
   ]
  },
  {
   "cell_type": "code",
   "execution_count": 47,
   "id": "4e8f5b80",
   "metadata": {
    "ExecuteTime": {
     "end_time": "2023-10-21T09:44:16.020069Z",
     "start_time": "2023-10-21T09:44:16.010053Z"
    }
   },
   "outputs": [
    {
     "name": "stdout",
     "output_type": "stream",
     "text": [
      "Original :  [5, 3, 8, 4, 9, 1, 6, 2, 7]\n",
      "Step  1 = [3, 5, 8, 4, 9, 1, 6, 2, 7]\n",
      "Step  2 = [3, 5, 8, 4, 9, 1, 6, 2, 7]\n",
      "Step  3 = [3, 4, 5, 8, 9, 1, 6, 2, 7]\n",
      "Step  4 = [3, 4, 5, 8, 9, 1, 6, 2, 7]\n",
      "Step  5 = [1, 3, 4, 5, 8, 9, 6, 2, 7]\n",
      "Step  6 = [1, 3, 4, 5, 6, 8, 9, 2, 7]\n",
      "Step  7 = [1, 2, 3, 4, 5, 6, 8, 9, 7]\n",
      "Step  8 = [1, 2, 3, 4, 5, 6, 7, 8, 9]\n",
      "Selection :  [1, 2, 3, 4, 5, 6, 7, 8, 9]\n"
     ]
    }
   ],
   "source": [
    "# 테스트 프로그램\n",
    "data = [5, 3, 8, 4, 9, 1, 6, 2, 7]\n",
    "print(\"Original : \", data)\n",
    "insertion_sort(data)\n",
    "print(\"Selection : \", data)"
   ]
  },
  {
   "cell_type": "markdown",
   "id": "839eb632",
   "metadata": {},
   "source": [
    "## 집합 클래스 수정.ver"
   ]
  },
  {
   "cell_type": "code",
   "execution_count": 96,
   "id": "dd94eaeb",
   "metadata": {
    "ExecuteTime": {
     "end_time": "2023-10-21T12:47:46.083435Z",
     "start_time": "2023-10-21T12:47:46.056085Z"
    }
   },
   "outputs": [],
   "source": [
    "\n",
    "class Set:\n",
    "    def __init__(self):\n",
    "        self.items = []\n",
    "    \n",
    "    def size(self):\n",
    "        return len(self.items)\n",
    "    def display(self, msg):\n",
    "        print(msg, self.items)\n",
    "    def contains(self, item):\n",
    "        for i in range(len(self.items)):\n",
    "            if self.items[i] == item:\n",
    "                return True\n",
    "        return False\n",
    "    def insert(self, elem):\n",
    "        if elem not in self.items:\n",
    "            self.items.append(elem)\n",
    "    def delete(self, elem):\n",
    "        if elem in self.items:\n",
    "            self.items.remove(elem)\n",
    "#     def union(self, setB):\n",
    "#         setC = Set()\n",
    "#         setC.items = list(self.items)\n",
    "#         for elem in setB.items:\n",
    "#             if elem not in self.items:\n",
    "#                 setC.items.append(elem)\n",
    "#         return setC\n",
    "    def intersect(self, setB):\n",
    "        setC = Set()\n",
    "        for elem in setB.items:\n",
    "            if elem in self.items:\n",
    "                setC.items.append(elem)\n",
    "        return setC\n",
    "    def difference(self, setB):\n",
    "        setC = Set()\n",
    "        for elem in self.items:\n",
    "            if elem not in setB.items:\n",
    "                setC.items.append(elem)\n",
    "        return setC\n",
    "    def is_subset(self, setB):# 현재 집합이 다른 집합 setB의 부분집합인지 판별\n",
    "        for elem in self.items:\n",
    "            if not setB.contains(elem):\n",
    "                return False\n",
    "        return True\n",
    "    def propersubset(self, setB): # 현재 집합이 다른 집합 setB의 진부분집합인지 판별\n",
    "        if self.is_subset(setB) and len(self.items) < len(setB.items):\n",
    "            return True\n",
    "        return False\n",
    "    \n",
    "# 수정된 코드들\n",
    "    #수정된 insert 코드\n",
    "    def insert2(self, elem): #정렬된 상태를 유지하면서 elem을 삽입\n",
    "        if elem in self.items: return # 이미 있음\n",
    "        for idx in range(len(self.items)): # loop: n번\n",
    "            if elem < self.items[idx]:  # 삽입할 위치 idx를 찾음\n",
    "                self.items.insert(idx, elem) # 그 위치에 삽입\n",
    "                return\n",
    "            self.items.append(elem)  # 맨뒤에 삽입\n",
    "     # 추가된 연산, 두 집합이 같은지 비교하는 방법\n",
    "    def __eq__(self, setB): #두 집합 self, setB가 같은 집합인가?\n",
    "        if self.size() != setB.size(): # 원소의 갯수가 같아야 함\n",
    "            return False\n",
    "        for idx in range(len(self.items)): #loop: n번\n",
    "            if self.items[idx] != setB.items[idx] : #원소별로 같은지 검사\n",
    "                return False\n",
    "        return True\n",
    "    def union(self, setB): # 집합 self와 집합 setB의 합집합\n",
    "        newSet = Set() # 반환할 합집합\n",
    "        a = 0 # 집합 self의 원소에 대한 인덱스\n",
    "        b = 0  # 집합 setB의 원소에 대한 인덱스\n",
    "        while a < len(self.items ) and b < len(setB.items):\n",
    "            valueA = self.items[a] # 집합 self의 현재 원소\n",
    "            valueB = setB.items[b] # 집합 setB의 현재 원소\n",
    "            if valueA < valueB: #self의 원소가 더 작으면\n",
    "                newSet.items.append(valueA) #이 원소를 합집합에 추가\n",
    "                a += 1 # self의 현재원소 인덱스 증가\n",
    "            elif valueA > valueB: # setB의 원소가 더 작으면\n",
    "                newSet.items.append(valueB) # #이 원소를 합집합에 추가\n",
    "                b += 1 # setB의 현재원소 인덱스 증가\n",
    "            else : # 중복되는 원소\n",
    "                newSet.items.append(valueA) #하나만 추가\n",
    "                a += 1 #self와 setB의 인덱스 모두 증가\n",
    "                b += 1\n",
    "            while a < len(self.items): #self에 남은 원소를 모두 추가\n",
    "                newSet.items.append(self.items[a])\n",
    "                a += 1\n",
    "            while b < len(setB.items): #setB에 남은 원소를 모두 추가\n",
    "                newSet.items.append(setB.items[b])\n",
    "                b += 1\n",
    "            return newSet #합집합 반환\n",
    "\n",
    "    # 정렬된 리스트의 효율적인 교집합\n",
    "    def intersection(self, setB ):\n",
    "        newSet = Set()\n",
    "        a = 0\n",
    "        b = 0\n",
    "        while a < len(self.items ) and b < len(setB.items):\n",
    "            valueA = self.items[a]\n",
    "            valueB = setB.items[b]\n",
    "            if valueA == valueB:\n",
    "                newSet.items.append(valueA)\n",
    "                a += 1\n",
    "                b += 1\n",
    "            elif valueA < valueB:\n",
    "                a += 1\n",
    "            else:\n",
    "                b += 1\n",
    "        return newSet\n",
    "    \n",
    "    #정렬된 리스트의 효육적인 차집합\n",
    "    def difference(self, setB):\n",
    "        newSet = Set()\n",
    "        a = 0\n",
    "        b = 0\n",
    "        while a < len(self.items ) and b < len(setB.items):\n",
    "            valueA = self.items[a]\n",
    "            valueB = setB.items[b]\n",
    "            if valueA < valueB:\n",
    "                newSet.items.append(valueA)\n",
    "                a += 1\n",
    "            elif valueA > valueB:\n",
    "                b += 1\n",
    "            else:\n",
    "                a += 1\n",
    "        \n",
    "        while a < len(self.items):\n",
    "            newSet.items.append(self.items[a])\n",
    "            a += 1\n",
    "        \n",
    "        return newSet "
   ]
  },
  {
   "cell_type": "markdown",
   "id": "1b661efd",
   "metadata": {},
   "source": [
    "## 개선된 합집합 알고리즘"
   ]
  },
  {
   "cell_type": "code",
   "execution_count": 71,
   "id": "0f1f16c1",
   "metadata": {
    "ExecuteTime": {
     "end_time": "2023-10-21T12:11:42.539782Z",
     "start_time": "2023-10-21T12:11:42.533622Z"
    }
   },
   "outputs": [],
   "source": [
    "# def union(self, setB): # 집합 self와 집합 setB의 합집합\n",
    "#     newSet = Set() # 반환할 합집합\n",
    "#     a = 0 # 집합 self의 원소에 대한 인덱스\n",
    "#     b = 0  # 집합 setB의 원소에 대한 인덱스\n",
    "#     while a < len(self.items ) and b < len(setB.items):\n",
    "#         valueA = self.items[a] # 집합 self의 현재 원소\n",
    "#         valueB = setB.items[b] # 집합 setB의 현재 원소\n",
    "#         if valueA < valueB: #self의 원소가 더 작으면\n",
    "#             newSet.items.append(valueA) #이 원소를 합집합에 추가\n",
    "#             a += 1 # self의 현재원소 인덱스 증가\n",
    "#         elif valueA > valueB: # setB의 원소가 더 작으면\n",
    "#             newSet.items.append(valueB) # #이 원소를 합집합에 추가\n",
    "#             b += 1 # setB의 현재원소 인덱스 증가\n",
    "#         else : # 중복되는 원소\n",
    "#             newSet.items.append(valueA) #하나만 추가\n",
    "#             a += 1 #self와 setB의 인덱스 모두 증가\n",
    "#             b += 1\n",
    "#         while a < len(self.items): #self에 남은 원소를 모두 추가\n",
    "#             newSet.items.append(self.items[a])\n",
    "#             a += 1\n",
    "#         while b < len(setB.items): #setB에 남은 원소를 모두 추가\n",
    "#             newSet.items.append(setB.items[b])\n",
    "#             b += 1\n",
    "#         return newSet #합집합 반환"
   ]
  },
  {
   "cell_type": "code",
   "execution_count": 99,
   "id": "58d266b6",
   "metadata": {
    "ExecuteTime": {
     "end_time": "2023-10-21T12:49:06.785924Z",
     "start_time": "2023-10-21T12:49:06.779826Z"
    }
   },
   "outputs": [
    {
     "name": "stdout",
     "output_type": "stream",
     "text": [
      "Set 1: [1, 3, 4, 50, 80]\n",
      "Set 2: [2, 4, 5, 6, 8]\n",
      "교집합 결과 [4]\n"
     ]
    }
   ],
   "source": [
    "# 테스트 코드\n",
    "set1 = Set()\n",
    "set2 = Set()\n",
    "\n",
    "set1.items = [1, 3, 4, 50, 80]\n",
    "set2.items = [2, 4, 5, 6, 8]\n",
    "\n",
    "result_set = set1.intersection(set2)\n",
    "\n",
    "print(\"Set 1:\", set1.items)\n",
    "print(\"Set 2:\", set2.items)\n",
    "print(\"교집합 결과\", result_set.items)"
   ]
  },
  {
   "cell_type": "code",
   "execution_count": 100,
   "id": "795576c5",
   "metadata": {
    "ExecuteTime": {
     "end_time": "2023-10-21T12:49:34.915632Z",
     "start_time": "2023-10-21T12:49:34.905566Z"
    }
   },
   "outputs": [
    {
     "name": "stdout",
     "output_type": "stream",
     "text": [
      "Set 1: [1, 3, 4, 50, 80]\n",
      "Set 2: [2, 4, 5, 6, 8]\n",
      "차집합 결과 [1, 3, 50, 80]\n"
     ]
    }
   ],
   "source": [
    "# 테스트 코드\n",
    "set1 = Set()\n",
    "set2 = Set()\n",
    "\n",
    "set1.items = [1, 3, 4, 50, 80]\n",
    "set2.items = [2, 4, 5, 6, 8]\n",
    "\n",
    "result_set = set1.difference(set2)\n",
    "\n",
    "print(\"Set 1:\", set1.items)\n",
    "print(\"Set 2:\", set2.items)\n",
    "print(\"차집합 결과\", result_set.items)"
   ]
  },
  {
   "cell_type": "markdown",
   "id": "c5329b0c",
   "metadata": {},
   "source": [
    "# 연습문제"
   ]
  },
  {
   "cell_type": "markdown",
   "id": "be9c1a4d",
   "metadata": {},
   "source": [
    "## 7.1"
   ]
  },
  {
   "cell_type": "code",
   "execution_count": 32,
   "id": "bfce5444",
   "metadata": {
    "ExecuteTime": {
     "end_time": "2023-10-21T08:33:07.990122Z",
     "start_time": "2023-10-21T08:33:07.973304Z"
    }
   },
   "outputs": [
    {
     "name": "stdout",
     "output_type": "stream",
     "text": [
      "Original :  [8, 3, 4, 9, 7]\n",
      "Step  1 = [3, 8, 4, 9, 7]\n",
      "Step  2 = [3, 4, 8, 9, 7]\n",
      "Step  3 = [3, 4, 7, 9, 8]\n",
      "Step  4 = [3, 4, 7, 8, 9]\n",
      "Selection :  [3, 4, 7, 8, 9]\n"
     ]
    }
   ],
   "source": [
    "# 선택정렬 사용 selection_sort\n",
    "data = [8, 3, 4, 9, 7]\n",
    "print(\"Original : \", data)\n",
    "selection_sort(data)\n",
    "print(\"Selection : \", data)"
   ]
  },
  {
   "cell_type": "markdown",
   "id": "50c343f0",
   "metadata": {},
   "source": [
    "## 7.2"
   ]
  },
  {
   "cell_type": "code",
   "execution_count": 35,
   "id": "558ceaba",
   "metadata": {
    "ExecuteTime": {
     "end_time": "2023-10-21T08:35:48.936211Z",
     "start_time": "2023-10-21T08:35:48.922794Z"
    }
   },
   "outputs": [
    {
     "name": "stdout",
     "output_type": "stream",
     "text": [
      "Original :  [8, 3, 4, 9, 7]\n",
      "Step  1 = [3, 8, 4, 9, 7]\n",
      "Step  2 = [3, 4, 8, 9, 7]\n",
      "Step  3 = [3, 4, 8, 9, 7]\n",
      "Step  4 = [3, 4, 7, 8, 9]\n",
      "Selection :  [3, 4, 7, 8, 9]\n"
     ]
    }
   ],
   "source": [
    "# 삽입정렬 사용 insertion_sort\n",
    "data = [8, 3, 4, 9, 7]\n",
    "print(\"Original : \", data)\n",
    "insertion_sort(data)\n",
    "print(\"Selection : \", data)"
   ]
  },
  {
   "cell_type": "markdown",
   "id": "ee3fbc2e",
   "metadata": {},
   "source": [
    "## 7.3"
   ]
  },
  {
   "cell_type": "code",
   "execution_count": 101,
   "id": "7c766159",
   "metadata": {
    "ExecuteTime": {
     "end_time": "2023-10-21T12:55:41.460693Z",
     "start_time": "2023-10-21T12:55:41.455619Z"
    }
   },
   "outputs": [
    {
     "name": "stdout",
     "output_type": "stream",
     "text": [
      "Original :  [9, 6, 7, 3, 5]\n",
      "Step  1 = [6, 7, 3, 5, 9]\n",
      "Step  2 = [6, 3, 5, 7, 9]\n",
      "Step  3 = [3, 5, 6, 7, 9]\n",
      "Selection :  [3, 5, 6, 7, 9]\n"
     ]
    }
   ],
   "source": [
    "# 버블정렬 사용 bubble_sort\n",
    "data = [9, 6, 7, 3, 5]\n",
    "print(\"Original : \", data)\n",
    "bubble_sort(data)\n",
    "print(\"Selection : \", data)"
   ]
  },
  {
   "cell_type": "markdown",
   "id": "9fa0447e",
   "metadata": {},
   "source": [
    "## 7.6"
   ]
  },
  {
   "cell_type": "markdown",
   "id": "d53cc119",
   "metadata": {},
   "source": [
    "### 선택 정렬"
   ]
  },
  {
   "cell_type": "code",
   "execution_count": 50,
   "id": "cab88dff",
   "metadata": {
    "ExecuteTime": {
     "end_time": "2023-10-21T09:53:10.172013Z",
     "start_time": "2023-10-21T09:53:10.161913Z"
    }
   },
   "outputs": [
    {
     "name": "stdout",
     "output_type": "stream",
     "text": [
      "Original :  [7, 4, 9, 6, 3, 8, 7, 5]\n",
      "Step  1 = [3, 4, 9, 6, 7, 8, 7, 5]\n",
      "Step  2 = [3, 4, 9, 6, 7, 8, 7, 5]\n",
      "Step  3 = [3, 4, 5, 6, 7, 8, 7, 9]\n",
      "Step  4 = [3, 4, 5, 6, 7, 8, 7, 9]\n",
      "Step  5 = [3, 4, 5, 6, 7, 8, 7, 9]\n",
      "Step  6 = [3, 4, 5, 6, 7, 7, 8, 9]\n",
      "Step  7 = [3, 4, 5, 6, 7, 7, 8, 9]\n",
      "Selection :  [3, 4, 5, 6, 7, 7, 8, 9]\n"
     ]
    }
   ],
   "source": [
    "data = [7, 4, 9, 6, 3, 8, 7, 5]\n",
    "print(\"Original : \", data)\n",
    "selection_sort(data)\n",
    "print(\"Selection : \", data)"
   ]
  },
  {
   "cell_type": "markdown",
   "id": "892dcdd9",
   "metadata": {},
   "source": [
    "### 삽입 정렬"
   ]
  },
  {
   "cell_type": "code",
   "execution_count": 51,
   "id": "de471d79",
   "metadata": {
    "ExecuteTime": {
     "end_time": "2023-10-21T09:55:04.459829Z",
     "start_time": "2023-10-21T09:55:04.453801Z"
    },
    "scrolled": true
   },
   "outputs": [
    {
     "name": "stdout",
     "output_type": "stream",
     "text": [
      "Original :  [7, 4, 9, 6, 3, 8, 7, 5]\n",
      "Step  1 = [4, 7, 9, 6, 3, 8, 7, 5]\n",
      "Step  2 = [4, 7, 9, 6, 3, 8, 7, 5]\n",
      "Step  3 = [4, 6, 7, 9, 3, 8, 7, 5]\n",
      "Step  4 = [3, 4, 6, 7, 9, 8, 7, 5]\n",
      "Step  5 = [3, 4, 6, 7, 8, 9, 7, 5]\n",
      "Step  6 = [3, 4, 6, 7, 7, 8, 9, 5]\n",
      "Step  7 = [3, 4, 5, 6, 7, 7, 8, 9]\n",
      "Selection :  [3, 4, 5, 6, 7, 7, 8, 9]\n"
     ]
    }
   ],
   "source": [
    "data = [7, 4, 9, 6, 3, 8, 7, 5]\n",
    "print(\"Original : \", data)\n",
    "insertion_sort(data)\n",
    "print(\"Selection : \", data)"
   ]
  },
  {
   "cell_type": "markdown",
   "id": "8d0376c9",
   "metadata": {},
   "source": [
    "### 버블 정렬"
   ]
  },
  {
   "cell_type": "code",
   "execution_count": 52,
   "id": "329d8cf6",
   "metadata": {
    "ExecuteTime": {
     "end_time": "2023-10-21T09:55:45.816412Z",
     "start_time": "2023-10-21T09:55:45.805352Z"
    }
   },
   "outputs": [
    {
     "name": "stdout",
     "output_type": "stream",
     "text": [
      "Original :  [7, 4, 9, 6, 3, 8, 7, 5]\n",
      "Step  1 = [4, 7, 6, 3, 8, 7, 5, 9]\n",
      "Step  2 = [4, 6, 3, 7, 7, 5, 8, 9]\n",
      "Step  3 = [4, 3, 6, 7, 5, 7, 8, 9]\n",
      "Step  4 = [3, 4, 6, 5, 7, 7, 8, 9]\n",
      "Step  5 = [3, 4, 5, 6, 7, 7, 8, 9]\n",
      "Selection :  [3, 4, 5, 6, 7, 7, 8, 9]\n"
     ]
    }
   ],
   "source": [
    "data = [7, 4, 9, 6, 3, 8, 7, 5]\n",
    "print(\"Original : \", data)\n",
    "bubble_sort(data)\n",
    "print(\"Selection : \", data)"
   ]
  },
  {
   "cell_type": "code",
   "execution_count": null,
   "id": "deef774b",
   "metadata": {},
   "outputs": [],
   "source": []
  },
  {
   "cell_type": "code",
   "execution_count": null,
   "id": "efbfddf8",
   "metadata": {},
   "outputs": [],
   "source": []
  },
  {
   "cell_type": "code",
   "execution_count": null,
   "id": "58c9a7cc",
   "metadata": {},
   "outputs": [],
   "source": []
  },
  {
   "cell_type": "code",
   "execution_count": null,
   "id": "346820bf",
   "metadata": {},
   "outputs": [],
   "source": []
  }
 ],
 "metadata": {
  "kernelspec": {
   "display_name": "Python 3 (ipykernel)",
   "language": "python",
   "name": "python3"
  },
  "language_info": {
   "codemirror_mode": {
    "name": "ipython",
    "version": 3
   },
   "file_extension": ".py",
   "mimetype": "text/x-python",
   "name": "python",
   "nbconvert_exporter": "python",
   "pygments_lexer": "ipython3",
   "version": "3.9.12"
  },
  "toc": {
   "base_numbering": 1,
   "nav_menu": {},
   "number_sections": true,
   "sideBar": true,
   "skip_h1_title": false,
   "title_cell": "Table of Contents",
   "title_sidebar": "Contents",
   "toc_cell": false,
   "toc_position": {},
   "toc_section_display": true,
   "toc_window_display": false
  }
 },
 "nbformat": 4,
 "nbformat_minor": 5
}
