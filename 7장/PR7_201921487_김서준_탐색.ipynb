{
 "cells": [
  {
   "cell_type": "markdown",
   "id": "9a27ed83",
   "metadata": {},
   "source": [
    "# 탐색"
   ]
  },
  {
   "cell_type": "markdown",
   "id": "41600fb9",
   "metadata": {},
   "source": [
    "## 순차 탐색 알고리즘"
   ]
  },
  {
   "cell_type": "code",
   "execution_count": 2,
   "id": "365068b2",
   "metadata": {
    "ExecuteTime": {
     "end_time": "2023-11-12T13:09:22.909602Z",
     "start_time": "2023-11-12T13:09:22.893382Z"
    }
   },
   "outputs": [],
   "source": [
    "def sequential_search(A, key, low, high): #순차탐색\n",
    "    for i in range(low, high+1): # i : low, low+1, ..., high\n",
    "        if A[i].key == key: #탐색 선공하면\n",
    "            return i #인덱스 반환\n",
    "    return None #탐색에 실패하면 None 반환"
   ]
  },
  {
   "cell_type": "markdown",
   "id": "dbfa0f32",
   "metadata": {},
   "source": [
    "## 이진 탐색 알고리즘"
   ]
  },
  {
   "cell_type": "code",
   "execution_count": 3,
   "id": "83546a9c",
   "metadata": {
    "ExecuteTime": {
     "end_time": "2023-11-12T13:31:14.108090Z",
     "start_time": "2023-11-12T13:31:14.094991Z"
    }
   },
   "outputs": [],
   "source": [
    "def binary_search(A, key, low, high):\n",
    "    if (low <= high): # 항목들이 남아 있으면(종료조건)\n",
    "        middle = (low + high) // 2 #정수 나눗셈 // 에 주의\n",
    "        if key == A[middle].key: #탐색 성공\n",
    "            return middle\n",
    "        elif (key<A[middle].key): # 왼쪽 부분 리스트 탐색\n",
    "            return binary_search(A, key, low, middle -1)\n",
    "        else: #오른쪽 부분리스트 탐색\n",
    "            return binary_search(A, key, middle +1, high)\n",
    "    return None"
   ]
  },
  {
   "cell_type": "markdown",
   "id": "7c46ac8b",
   "metadata": {},
   "source": [
    "## 보간 탐색"
   ]
  },
  {
   "cell_type": "code",
   "execution_count": 4,
   "id": "84bcee96",
   "metadata": {
    "ExecuteTime": {
     "end_time": "2023-11-12T13:31:14.789907Z",
     "start_time": "2023-11-12T13:31:14.777959Z"
    }
   },
   "outputs": [],
   "source": [
    "def interpolaton_search(A, key, low, high):\n",
    "    if (low <= high): # 항목들이 남아 있으면(종료조건)\n",
    "        middle = int(low + (high-low)*(key-A[low].key) / (A[high].key-A[low].key))\n",
    "        if key == A[middle].key: #탐색 성공\n",
    "            return middle\n",
    "        elif (key<A[middle].key): # 왼쪽 부분 리스트 탐색\n",
    "            return binary_search(A, key, low, middle -1)\n",
    "        else: #오른쪽 부분리스트 탐색\n",
    "            return binary_search(A, key, middle +1, high)\n",
    "    return None"
   ]
  },
  {
   "cell_type": "markdown",
   "id": "4f0a3e07",
   "metadata": {},
   "source": [
    "## 맵\n",
    " 맵 ADT를 구현\n",
    " - 리스트를 이용해 순차 탐색 맵을 구현하는 방법\n",
    " - 리스트를 정렬해서 이진 탐색 맵을 구현하는 방법\n",
    " - 선형조사법으로 해시 맵을 구현하는 방법\n",
    " - 체이닝으로 해시 맵을 구현하는 방법"
   ]
  },
  {
   "cell_type": "markdown",
   "id": "2f6cb85d",
   "metadata": {},
   "source": [
    "## 엔트리 클래스"
   ]
  },
  {
   "cell_type": "code",
   "execution_count": 6,
   "id": "7dd5bd2b",
   "metadata": {
    "ExecuteTime": {
     "end_time": "2023-11-12T13:31:26.358384Z",
     "start_time": "2023-11-12T13:31:26.347600Z"
    }
   },
   "outputs": [],
   "source": [
    "class Entry:\n",
    "    def __init__(self, key, value):\n",
    "        self.key = key\n",
    "        self.value = value\n",
    "    \n",
    "    def __str__(self):\n",
    "        return str(\"%s:%s\"%(self.key, self.value))"
   ]
  },
  {
   "cell_type": "markdown",
   "id": "653913e8",
   "metadata": {},
   "source": [
    "## 리스트를 이용한 순차탐색 맵"
   ]
  },
  {
   "cell_type": "code",
   "execution_count": 21,
   "id": "55a14128",
   "metadata": {
    "ExecuteTime": {
     "end_time": "2023-11-12T13:48:57.031940Z",
     "start_time": "2023-11-12T13:48:57.023870Z"
    }
   },
   "outputs": [],
   "source": [
    "class SequentialMap:\n",
    "    def __init__(self):\n",
    "        self.table = []\n",
    "    def insert(self, key, value):\n",
    "        self.table.append(Entry(key, value))\n",
    "    def search(self, key):\n",
    "        pos = sequential_search(self.table, key, 0, self.size()-1)\n",
    "        if pos is not None : return self.table[pos]\n",
    "        else : return None\n",
    "    def delete(self, key):\n",
    "        for i in range(self.size()):\n",
    "            if self.table[i].key == key:\n",
    "                self.table.pop(i)\n",
    "                return\n",
    "    def display(self, message=\"\"):\n",
    "        print(message)\n",
    "        for entry in self.table:\n",
    "            print(f\"Key: {entry.key}, Value: {entry.value}\")\n",
    "    def size(self):\n",
    "        return len(self.table)"
   ]
  },
  {
   "cell_type": "markdown",
   "id": "ca4a9ca7",
   "metadata": {},
   "source": [
    "## 테스트 프로그램"
   ]
  },
  {
   "cell_type": "code",
   "execution_count": 22,
   "id": "96564f4c",
   "metadata": {
    "ExecuteTime": {
     "end_time": "2023-11-12T13:48:58.856451Z",
     "start_time": "2023-11-12T13:48:58.841276Z"
    }
   },
   "outputs": [
    {
     "name": "stdout",
     "output_type": "stream",
     "text": [
      "나의 단어장: \n",
      "Key: data, Value: 자료\n",
      "Key: structure, Value: 구조\n",
      "Key: sequential search, Value: 선형 탐색\n",
      "Key: game, Value: 게임\n",
      "Key: binary search, Value: 이진 탐색\n",
      "탐색:game --> game:게임\n",
      "탐색:over --> None\n",
      "탐색:data --> data:자료\n",
      "나의 단어장:\n",
      "Key: data, Value: 자료\n",
      "Key: structure, Value: 구조\n",
      "Key: sequential search, Value: 선형 탐색\n",
      "Key: binary search, Value: 이진 탐색\n"
     ]
    }
   ],
   "source": [
    "map  = SequentialMap()\n",
    "map.insert('data', \"자료\")\n",
    "map.insert(\"structure\", \"구조\")\n",
    "map.insert(\"sequential search\", \"선형 탐색\")\n",
    "map.insert(\"game\", \"게임\")\n",
    "map.insert(\"binary search\", \"이진 탐색\")\n",
    "map.display(\"나의 단어장: \")\n",
    "\n",
    "print(\"탐색:game -->\", map.search(\"game\"))\n",
    "print(\"탐색:over -->\", map.search(\"over\"))\n",
    "print(\"탐색:data -->\", map.search('data'))\n",
    "\n",
    "map.delete('game')\n",
    "map.display(\"나의 단어장:\")"
   ]
  },
  {
   "cell_type": "markdown",
   "id": "96a3c6d6",
   "metadata": {},
   "source": [
    "# 연습문제"
   ]
  },
  {
   "cell_type": "markdown",
   "id": "2c04635d",
   "metadata": {},
   "source": [
    "## 7.10\n",
    "(1) 순차탐색  \n",
    "## 7.11  \n",
    "(3) 피보나치 수열에 따라 다음에 비교할 대상을 선정하여 검색한다  \n",
    "## 7.12  \n",
    "(1) 순차 탐색:   \n",
    "비교10번  \n",
    "(2) 이진 탐색:  \n",
    "- 비교1: 인덱스 7 키 23  \n",
    "- 비교2: 인덱스 11 키 31  \n",
    "- 비교3 : 인덱스 9 키 28 -> 탐색완료  \n",
    "비교 3번  \n",
    "(3) 보간탐색:  \n",
    "비교 1번  \n",
    "## 7.13    \n",
    "27에 대한 해시값: h(27) = 27 % 13 = 1  \n",
    "130에 대한 해시값: h(130) = 130 % 13 = 0  \n",
    "답: (3)  \n",
    "## 7.14  \n",
    "(1)    \n",
    "인덱스    \n",
    "0 ,   1,    2 ,   3 ,    4 ,    5 ,   6 ,    7 ,    8 ,    9 ,   10   \n",
    "키값    \n",
    "44, 12, 13, 88, 23, 94, 11, 39, 20, 16, 5  \n",
    "(2)  \n",
    "인덱스  \n",
    "0 , 1 , 2 , 3 , 4 , 5 , 6 , 7 , 8 , 9 , 10  \n",
    "키값  \n",
    "44, 12, 13, 23, 88, 94, 11, 39, 16, 5, 20  \n",
    "(3)  \n",
    "인덱스  \n",
    "0 , 1 , 2 , 3 , 4 , 5 , 6 , 7 , 8 , 9 , 10  \n",
    "키값  \n",
    "44, 12, 13, 88, 23, 94, 5, 39, 20, 16, 11  \n",
    "(4)  \n",
    "인덱스  \n",
    "0 , 1 , 2 , 3 , 4 , 5 , 6 , 7 , 8 , 9 , 10  \n",
    "키값  \n",
    "44, 12, 13, 88, 23, 94, 11, 39, 20, 16, 5  \n",
    "\n",
    "## 7.17 \n",
    "일관성 : 동일한 입력에 대해서는 항상 동일한 해시값을 반환해야 한다. 즉, 함수는 예측 가능하게 동작해야 한다.  \n",
    "\n",
    "고유성 : 서로 다른 입력값에 대해서 해시값이 최대한 충돌하지 않도록 하는 것이 중요하다. 이는 해시값의 분포가 균등하여야 함.  \n",
    "\n",
    "빠른 계산 속도: 해시 함수는 빠르게 계산할 수 있어야 한다. 빠른 해시 함수는 전체 해시 테이블의 성능을 향상시킨다.  "
   ]
  },
  {
   "cell_type": "markdown",
   "id": "15a7df12",
   "metadata": {},
   "source": [
    "def sequential_search(A, key, low, high): #순차탐색\n",
    "    for i in range(low, high+1): # i : low, low+1, ..., high\n",
    "        if A[i].key == key: #탐색 선공하면\n",
    "            return i #인덱스 반환\n",
    "    return None #탐색에 실패하면 None 반환\n",
    "def binary_search(A, key, low, high):\n",
    "    if (low <= high): # 항목들이 남아 있으면(종료조건)\n",
    "        middle = (low + high) // 2 #정수 나눗셈 // 에 주의\n",
    "        if key == A[middle].key: #탐색 성공\n",
    "            return middle\n",
    "        elif (key<A[middle].key): # 왼쪽 부분 리스트 탐색\n",
    "            return binary_search(A, key, low, middle -1)\n",
    "        else: #오른쪽 부분리스트 탐색\n",
    "            return binary_search(A, key, middle +1, high)\n",
    "    return None\n",
    "def interpolaton_search(A, key, low, high):\n",
    "    if (low <= high): # 항목들이 남아 있으면(종료조건)\n",
    "        middle = int(low + (high-low)*(key-A[low].key) / (A[high].key-A[low].key))\n",
    "        if key == A[middle].key: #탐색 성공\n",
    "            return middle\n",
    "        elif (key<A[middle].key): # 왼쪽 부분 리스트 탐색\n",
    "            return binary_search(A, key, low, middle -1)\n",
    "        else: #오른쪽 부분리스트 탐색\n",
    "            return binary_search(A, key, middle +1, high)\n",
    "    return None"
   ]
  },
  {
   "cell_type": "code",
   "execution_count": 23,
   "id": "073c3118",
   "metadata": {
    "ExecuteTime": {
     "end_time": "2023-11-12T14:09:43.915314Z",
     "start_time": "2023-11-12T14:09:43.893172Z"
    }
   },
   "outputs": [
    {
     "name": "stdout",
     "output_type": "stream",
     "text": [
      "28을 찾을 때의 비교 연산 횟수: 1회\n"
     ]
    }
   ],
   "source": [
    "def interpolation_search_comparison(A, key):\n",
    "    low, high = 0, len(A) - 1\n",
    "    comparisons = 0\n",
    "\n",
    "    while low <= high:\n",
    "        comparisons += 1\n",
    "\n",
    "        # 예측된 위치 계산\n",
    "        middle = low + int((high - low) * (key - A[low]) / (A[high] - A[low]))\n",
    "\n",
    "        if key == A[middle]:\n",
    "            return comparisons\n",
    "        elif key < A[middle]:\n",
    "            high = middle - 1\n",
    "        else:\n",
    "            low = middle + 1\n",
    "\n",
    "    return comparisons\n",
    "\n",
    "# 주어진 리스트\n",
    "A = [8, 11, 12, 15, 16, 19, 20, 23, 25, 28, 29, 31, 33, 35, 38, 40]\n",
    "key_to_find = 28\n",
    "\n",
    "# 보간 탐색을 통한 비교 연산 횟수 계산\n",
    "comparisons = interpolation_search_comparison(A, key_to_find)\n",
    "\n",
    "# 결과 출력\n",
    "print(f\"28을 찾을 때의 비교 연산 횟수: {comparisons}회\")\n"
   ]
  },
  {
   "cell_type": "markdown",
   "id": "e245b0bd",
   "metadata": {},
   "source": [
    "# 실습문제 7.5"
   ]
  },
  {
   "cell_type": "code",
   "execution_count": 30,
   "id": "2e20ff59",
   "metadata": {
    "ExecuteTime": {
     "end_time": "2023-11-12T14:56:48.804997Z",
     "start_time": "2023-11-12T14:56:48.783345Z"
    }
   },
   "outputs": [
    {
     "name": "stdout",
     "output_type": "stream",
     "text": [
      "Binary Map:\n",
      "Key: 3, Value: 삼\n",
      "Key: 1, Value: 일\n",
      "Key: 5, Value: 오\n",
      "Key: 2, Value: 이\n",
      "Key: 4, Value: \n",
      "Key 2 not found.\n",
      "Binary Map after deleting Key 3:\n",
      "Key: 1, Value: 일\n",
      "Key: 5, Value: 오\n",
      "Key: 2, Value: 이\n",
      "Key: 4, Value: \n",
      "Size of Binary Map: 4\n"
     ]
    }
   ],
   "source": [
    "def binary_search(A, key, low, high):\n",
    "    if (low <= high):  # 항목들이 남아 있으면(종료조건)\n",
    "        middle = (low + high) // 2  # 정수 나눗셈 // 에 주의\n",
    "        if key == A[middle].key:  # 탐색 성공\n",
    "            return middle\n",
    "        elif key < A[middle].key:  # 왼쪽 부분 리스트 탐색\n",
    "            return binary_search(A, key, low, middle - 1)\n",
    "        else:  # 오른쪽 부분리스트 탐색\n",
    "            return binary_search(A, key, middle + 1, high)\n",
    "    return None\n",
    "\n",
    "class Entry:\n",
    "    def __init__(self, key, value):\n",
    "        self.key = key\n",
    "        self.value = value\n",
    "    \n",
    "    def __str__(self):\n",
    "        return str(\"%s:%s\"%(self.key, self.value))\n",
    "\n",
    "class BinarySearchMap:\n",
    "    def __init__(self):\n",
    "        self.table = []\n",
    "\n",
    "    def insert(self, key, value):\n",
    "        entry = Entry(key, value)\n",
    "        if not self.table:\n",
    "            self.table.append(entry)\n",
    "        else:\n",
    "            index = binary_search(self.table, key, 0, self.size() - 1)\n",
    "            if index is None:\n",
    "                self.table.append(entry)\n",
    "            else:\n",
    "                self.table.insert(index, entry)\n",
    "\n",
    "    def search(self, key):\n",
    "        index = binary_search(self.table, key, 0, self.size() - 1)\n",
    "        if index is not None:\n",
    "            return self.table[index]\n",
    "        else:\n",
    "            return None\n",
    "\n",
    "    def delete(self, key):\n",
    "        index = binary_search(self.table, key, 0, self.size() - 1)\n",
    "        if index is not None:\n",
    "            self.table.pop(index)\n",
    "\n",
    "    def display(self, message=\"\"):\n",
    "        print(message)\n",
    "        for entry in self.table:\n",
    "            print(f\"Key: {entry.key}, Value: {entry.value}\")\n",
    "\n",
    "    def size(self):\n",
    "        return len(self.table)\n",
    "\n",
    "\n",
    "# 테스트 코드\n",
    "binary_map = BinarySearchMap()\n",
    "\n",
    "# insert 테스트\n",
    "binary_map.insert(3, \"삼\")\n",
    "binary_map.insert(1, \"일\")\n",
    "binary_map.insert(5, \"오\")\n",
    "binary_map.insert(2, \"이\")\n",
    "binary_map.insert(4, \"사\")\n",
    "\n",
    "# display 테스트\n",
    "binary_map.display(\"Binary Map:\")\n",
    "\n",
    "# search 테스트\n",
    "search_key = 2\n",
    "result = binary_map.search(search_key)\n",
    "if result:\n",
    "    print(f\"Search Result for Key {search_key}: {result}\")\n",
    "else:\n",
    "    print(f\"Key {search_key} not found.\")\n",
    "\n",
    "# delete 테스트\n",
    "delete_key = 3\n",
    "binary_map.delete(delete_key)\n",
    "binary_map.display(f\"Binary Map after deleting Key {delete_key}:\")\n",
    "\n",
    "# size 테스트\n",
    "print(f\"Size of Binary Map: {binary_map.size()}\")\n"
   ]
  },
  {
   "cell_type": "code",
   "execution_count": 31,
   "id": "c1659834",
   "metadata": {
    "ExecuteTime": {
     "end_time": "2023-11-12T14:57:24.010971Z",
     "start_time": "2023-11-12T14:57:24.004119Z"
    }
   },
   "outputs": [
    {
     "name": "stdout",
     "output_type": "stream",
     "text": [
      "Key 2 not found.\n"
     ]
    }
   ],
   "source": [
    "search_key = 2\n",
    "result = binary_map.search(search_key)\n",
    "if result:\n",
    "    print(f\"Search Result for Key {search_key}: {result.key}\")\n",
    "else:\n",
    "    print(f\"Key {search_key} not found.\")"
   ]
  },
  {
   "cell_type": "code",
   "execution_count": null,
   "id": "b2f64f60",
   "metadata": {},
   "outputs": [],
   "source": [
    "class SequentialMap:\n",
    "    def __init__(self):\n",
    "        self.table = []\n",
    "    def insert(self, key, value):\n",
    "        self.table.append(Entry(key, value))\n",
    "    def search(self, key):\n",
    "        pos = sequential_search(self.table, key, 0, self.size()-1)\n",
    "        if pos is not None : return self.table[pos]\n",
    "        else : return None\n",
    "    def delete(self, key):\n",
    "        for i in range(self.size()):\n",
    "            if self.table[i].key == key:\n",
    "                self.table.pop(i)\n",
    "                return\n",
    "    def display(self, message=\"\"):\n",
    "        print(message)\n",
    "        for entry in self.table:\n",
    "            print(f\"Key: {entry.key}, Value: {entry.value}\")\n",
    "    def size(self):\n",
    "        return len(self.table)"
   ]
  },
  {
   "cell_type": "code",
   "execution_count": 32,
   "id": "b273839d",
   "metadata": {
    "ExecuteTime": {
     "end_time": "2023-11-12T15:02:47.933564Z",
     "start_time": "2023-11-12T15:02:47.916753Z"
    }
   },
   "outputs": [
    {
     "name": "stdout",
     "output_type": "stream",
     "text": [
      "Key 3 found at index 2\n",
      "Corresponding Entry: 3:삼\n"
     ]
    }
   ],
   "source": [
    "# 예제 데이터 생성\n",
    "entries = [Entry(1, \"일\"), Entry(2, \"이\"), Entry(3, \"삼\"), Entry(4, \"사\"), Entry(5, \"오\")]\n",
    "\n",
    "# binary_search 함수를 테스트하는 코드\n",
    "search_key = 3\n",
    "result = binary_search(entries, search_key, 0, len(entries) - 1)\n",
    "\n",
    "if result is not None:\n",
    "    print(f\"Key {search_key} found at index {result}\")\n",
    "    print(f\"Corresponding Entry: {entries[result]}\")\n",
    "else:\n",
    "    print(f\"Key {search_key} not found.\")\n"
   ]
  },
  {
   "cell_type": "code",
   "execution_count": 33,
   "id": "7287021d",
   "metadata": {
    "ExecuteTime": {
     "end_time": "2023-11-12T15:06:11.906578Z",
     "start_time": "2023-11-12T15:06:11.889163Z"
    },
    "scrolled": true
   },
   "outputs": [
    {
     "name": "stdout",
     "output_type": "stream",
     "text": [
      "테이블에 있는 모든 엔트리:\n",
      "Key: 1, Value: one\n",
      "Key: 3, Value: three\n",
      "Key: 2, Value: two\n",
      "Key: 5, Value: five\n",
      "Key: 4, Value: four\n",
      "키가 3인 엔트리: None\n",
      "키가 3인 엔트리를 삭제한 후:\n",
      "Key: 1, Value: one\n",
      "Key: 3, Value: three\n",
      "Key: 2, Value: two\n",
      "Key: 5, Value: five\n",
      "Key: 4, Value: four\n"
     ]
    }
   ],
   "source": [
    "def binary_search(A, key, low, high):\n",
    "    if (low <= high):  # 항목들이 남아 있으면(종료조건)\n",
    "        middle = (low + high) // 2  # 정수 나눗셈 // 에 주의\n",
    "        if key == A[middle].key:  # 탐색 성공\n",
    "            return middle\n",
    "        elif key < A[middle].key:  # 왼쪽 부분 리스트 탐색\n",
    "            return binary_search(A, key, low, middle - 1)\n",
    "        else:  # 오른쪽 부분리스트 탐색\n",
    "            return binary_search(A, key, middle + 1, high)\n",
    "    return None\n",
    "\n",
    "class Entry:\n",
    "    def __init__(self, key, value):\n",
    "        self.key = key\n",
    "        self.value = value\n",
    "    \n",
    "    def __str__(self):\n",
    "        return str(\"%s:%s\"%(self.key, self.value))\n",
    "\n",
    "class BinarySearchMap:\n",
    "    def __init__(self):\n",
    "        self.table = []\n",
    "\n",
    "    def insert(self, key, value):\n",
    "        entry = Entry(key, value)\n",
    "        if not self.table:\n",
    "            self.table.append(entry)\n",
    "        else:\n",
    "            index = binary_search(self.table, key, 0, self.size() - 1)\n",
    "            if index is None:\n",
    "                self.table.append(entry)\n",
    "            else:\n",
    "                self.table.insert(index, entry)\n",
    "\n",
    "    def search(self, key):\n",
    "        index = binary_search(self.table, key, 0, self.size() - 1)\n",
    "        if index is not None:\n",
    "            return self.table[index]\n",
    "        else:\n",
    "            return None\n",
    "\n",
    "    def delete(self, key):\n",
    "        index = binary_search(self.table, key, 0, self.size() - 1)\n",
    "        if index is not None:\n",
    "            self.table.pop(index)\n",
    "\n",
    "    def display(self, message=\"\"):\n",
    "        print(message)\n",
    "        for entry in self.table:\n",
    "            print(f\"Key: {entry.key}, Value: {entry.value}\")\n",
    "\n",
    "    def size(self):\n",
    "        return len(self.table)\n",
    "\n",
    "# 테스트 코드\n",
    "map = BinarySearchMap()\n",
    "map.insert(1, \"one\")\n",
    "map.insert(3, \"three\")\n",
    "map.insert(2, \"two\")\n",
    "map.insert(5, \"five\")\n",
    "map.insert(4, \"four\")\n",
    "map.display(\"테이블에 있는 모든 엔트리:\")\n",
    "print(\"키가 3인 엔트리:\", map.search(3))\n",
    "map.delete(3)\n",
    "map.display(\"키가 3인 엔트리를 삭제한 후:\")\n"
   ]
  },
  {
   "cell_type": "code",
   "execution_count": 34,
   "id": "4e3850e4",
   "metadata": {
    "ExecuteTime": {
     "end_time": "2023-11-12T15:09:56.095747Z",
     "start_time": "2023-11-12T15:09:56.067415Z"
    }
   },
   "outputs": [
    {
     "name": "stdout",
     "output_type": "stream",
     "text": [
      "테이블에 있는 모든 엔트리:\n",
      "Key: 1, Value: one\n",
      "Key: 3, Value: three\n",
      "Key: 2, Value: two\n",
      "Key: 5, Value: five\n",
      "Key: 4, Value: four\n",
      "키가 3인 엔트리: None\n",
      "키가 3인 엔트리를 삭제한 후:\n",
      "Key: 1, Value: one\n",
      "Key: 3, Value: three\n",
      "Key: 2, Value: two\n",
      "Key: 5, Value: five\n",
      "Key: 4, Value: four\n"
     ]
    }
   ],
   "source": [
    "def binary_search(A, key, low, high):\n",
    "    if (low <= high):  # 항목들이 남아 있으면(종료조건)\n",
    "        middle = (low + high) // 2  # 정수 나눗셈 // 에 주의\n",
    "        if key == A[middle].key:  # 탐색 성공\n",
    "            return middle\n",
    "        elif key < A[middle].key:  # 왼쪽 부분 리스트 탐색\n",
    "            return binary_search(A, key, low, middle - 1)\n",
    "        else:  # 오른쪽 부분리스트 탐색\n",
    "            return binary_search(A, key, middle + 1, high)\n",
    "    return -1\n",
    "\n",
    "class Entry:\n",
    "    def __init__(self, key, value):\n",
    "        self.key = key\n",
    "        self.value = value\n",
    "    \n",
    "    def __str__(self):\n",
    "        return str(\"%s:%s\"%(self.key, self.value))\n",
    "\n",
    "class BinarySearchMap:\n",
    "    def __init__(self):\n",
    "        self.table = []\n",
    "\n",
    "    def insert(self, key, value):\n",
    "        entry = Entry(key, value)\n",
    "        if not self.table:\n",
    "            self.table.append(entry)\n",
    "        else:\n",
    "            index = binary_search(self.table, key, 0, self.size() - 1)\n",
    "            if index is None or index == -1:\n",
    "                self.table.append(entry)\n",
    "            else:\n",
    "                self.table.insert(index, entry)\n",
    "\n",
    "    def search(self, key):\n",
    "        index = binary_search(self.table, key, 0, self.size() - 1)\n",
    "        if index is not None and index != -1:\n",
    "            return self.table[index]\n",
    "        else:\n",
    "            return None\n",
    "\n",
    "    def delete(self, key):\n",
    "        index = binary_search(self.table, key, 0, self.size() - 1)\n",
    "        if index is not None and index != -1:\n",
    "            self.table.pop(index)\n",
    "\n",
    "    def display(self, message=\"\"):\n",
    "        print(message)\n",
    "        for entry in self.table:\n",
    "            print(f\"Key: {entry.key}, Value: {entry.value}\")\n",
    "\n",
    "    def size(self):\n",
    "        return len(self.table)\n",
    "\n",
    "# 테스트 코드\n",
    "map = BinarySearchMap()\n",
    "map.insert(1, \"one\")\n",
    "map.insert(3, \"three\")\n",
    "map.insert(2, \"two\")\n",
    "map.insert(5, \"five\")\n",
    "map.insert(4, \"four\")\n",
    "map.display(\"테이블에 있는 모든 엔트리:\")\n",
    "print(\"키가 3인 엔트리:\", map.search(3))\n",
    "map.delete(3)\n",
    "map.display(\"키가 3인 엔트리를 삭제한 후:\")\n"
   ]
  }
 ],
 "metadata": {
  "kernelspec": {
   "display_name": "Python 3 (ipykernel)",
   "language": "python",
   "name": "python3"
  },
  "language_info": {
   "codemirror_mode": {
    "name": "ipython",
    "version": 3
   },
   "file_extension": ".py",
   "mimetype": "text/x-python",
   "name": "python",
   "nbconvert_exporter": "python",
   "pygments_lexer": "ipython3",
   "version": "3.9.12"
  },
  "toc": {
   "base_numbering": 1,
   "nav_menu": {},
   "number_sections": true,
   "sideBar": true,
   "skip_h1_title": false,
   "title_cell": "Table of Contents",
   "title_sidebar": "Contents",
   "toc_cell": false,
   "toc_position": {},
   "toc_section_display": true,
   "toc_window_display": false
  }
 },
 "nbformat": 4,
 "nbformat_minor": 5
}
