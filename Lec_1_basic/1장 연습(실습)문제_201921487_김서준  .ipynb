{
 "cells": [
  {
   "cell_type": "code",
   "execution_count": 3,
   "id": "b2e58c65",
   "metadata": {
    "ExecuteTime": {
     "end_time": "2023-09-19T12:50:26.064087Z",
     "start_time": "2023-09-19T12:50:26.046581Z"
    },
    "scrolled": false
   },
   "outputs": [
    {
     "name": "stdout",
     "output_type": "stream",
     "text": [
      "5\n",
      "4\n",
      "3\n",
      "2\n",
      "1\n",
      "0\n"
     ]
    },
    {
     "data": {
      "text/plain": [
       "15"
      ]
     },
     "execution_count": 3,
     "metadata": {},
     "output_type": "execute_result"
    }
   ],
   "source": [
    "# 1장 실습문제 1.13\n",
    "def sum(n): #sum() 함수 생성\n",
    "    print(n) #파라미터 n을 출력\n",
    "    if n<1: #만약 n이 1보다 작으면\n",
    "        return 0; # 0을 반환\n",
    "    else: #아니라면\n",
    "        return n + sum(n-1) # n에 sum(n-1)을 더한값을 반환\n",
    "    \n",
    "sum(5)"
   ]
  },
  {
   "cell_type": "code",
   "execution_count": 4,
   "id": "815138df",
   "metadata": {
    "ExecuteTime": {
     "end_time": "2023-09-19T12:50:27.542214Z",
     "start_time": "2023-09-19T12:50:27.529086Z"
    }
   },
   "outputs": [
    {
     "name": "stdout",
     "output_type": "stream",
     "text": [
      "***************"
     ]
    }
   ],
   "source": [
    "#1장 실습문제 1.14\n",
    "def asterisk(i): #asterisk() 라는 함수 작성\n",
    "    if i > 1: #만약 i가 1보다 크다면\n",
    "        asterisk(i/2) #i를 반으로 나눈수를 asterisk 함수의 파라미로 해서 함수 호출\n",
    "        asterisk(i/2) #i를 반으로 나눈수를 asterisk 함수의 파라미로 해서 함수 호출\n",
    "    print(\"*\", end=\"\")\n",
    "    \n",
    "asterisk(5) #*는 15개가 출력된다.\n",
    "#asterisk(5), asterisk(2.5), asterisk(2.5), asterisk(1.25), asterisk(1.25), asterisk(1.25), asterisk(1.25), asterisk(0.625), asterisk(0.625), asterisk(0.625), asterisk(0.625), asterisk(0.625), asterisk(0.625), asterisk(0.625), asterisk(0.625)\n",
    "#위 15개 각각의 함수당 1개씩 출력됨"
   ]
  }
 ],
 "metadata": {
  "kernelspec": {
   "display_name": "Python 3 (ipykernel)",
   "language": "python",
   "name": "python3"
  },
  "language_info": {
   "codemirror_mode": {
    "name": "ipython",
    "version": 3
   },
   "file_extension": ".py",
   "mimetype": "text/x-python",
   "name": "python",
   "nbconvert_exporter": "python",
   "pygments_lexer": "ipython3",
   "version": "3.9.12"
  },
  "toc": {
   "base_numbering": 1,
   "nav_menu": {},
   "number_sections": true,
   "sideBar": true,
   "skip_h1_title": false,
   "title_cell": "Table of Contents",
   "title_sidebar": "Contents",
   "toc_cell": false,
   "toc_position": {},
   "toc_section_display": true,
   "toc_window_display": false
  }
 },
 "nbformat": 4,
 "nbformat_minor": 5
}
