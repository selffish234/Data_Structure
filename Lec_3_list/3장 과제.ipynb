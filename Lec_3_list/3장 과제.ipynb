{
 "cells": [
  {
   "cell_type": "markdown",
   "id": "6f520c9c",
   "metadata": {
    "ExecuteTime": {
     "end_time": "2023-09-18T11:13:16.444275Z",
     "start_time": "2023-09-18T11:13:16.435222Z"
    }
   },
   "source": [
    "## 배열로 구현한 리스트(클래스 버전)"
   ]
  },
  {
   "cell_type": "code",
   "execution_count": 3,
   "id": "881d4b08",
   "metadata": {
    "ExecuteTime": {
     "end_time": "2023-09-19T13:07:47.514768Z",
     "start_time": "2023-09-19T13:07:47.495934Z"
    }
   },
   "outputs": [],
   "source": [
    "class ArrayList:\n",
    "    def __init__(self):\n",
    "        self.items = []\n",
    "        \n",
    "    def insert(self, pos, elem):\n",
    "        self.items.insert(pos, elem)\n",
    "        \n",
    "    def size(self):\n",
    "        return len(self.items)\n",
    "    \n",
    "    def replace(self, pos, elem):\n",
    "        self.items[pos] = elem\n",
    "    \n",
    "    def delete(self, pos):\n",
    "        return self.items.pop(pos)\n",
    "    \n",
    "    def display(self, msg = 'ArrayList'):\n",
    "        print(msg, '항목수=', self.size(), self.items)\n",
    "    \n",
    "    def isEmpty(self):\n",
    "        return self.size() == 0\n",
    "    \n",
    "    def getEntry(self, pos):\n",
    "        return self.items[pos]\n",
    "    \n",
    "    def clear(self):\n",
    "        self.item = []\n",
    "    \n",
    "    def find(self, item):\n",
    "        return self.items.index(item)\n",
    "    \n",
    "    def sort(self):\n",
    "        self.items.sort()\n",
    "    \n",
    "    def merge(self, lst):\n",
    "        self.items.extend(lst)\n",
    "        \n",
    "    def display(self, msg='ArrayList:'):\n",
    "        print(msg, '항목수=', self.size(), self.items)\n",
    "    "
   ]
  },
  {
   "cell_type": "code",
   "execution_count": 4,
   "id": "a3366552",
   "metadata": {
    "ExecuteTime": {
     "end_time": "2023-09-19T13:07:49.176286Z",
     "start_time": "2023-09-19T13:07:49.157163Z"
    }
   },
   "outputs": [],
   "source": [
    "a = ArrayList()\n",
    "a.insert(0, 10)\n",
    "a.insert(1, 20)\n",
    "a.insert(0, 30)\n",
    "a.insert(2, 40)\n",
    "a.insert(a.size(), 50)"
   ]
  },
  {
   "cell_type": "code",
   "execution_count": 5,
   "id": "8e231ade",
   "metadata": {
    "ExecuteTime": {
     "end_time": "2023-09-19T13:07:50.987849Z",
     "start_time": "2023-09-19T13:07:50.967081Z"
    }
   },
   "outputs": [
    {
     "name": "stdout",
     "output_type": "stream",
     "text": [
      "ArrayList: 항목수= 5 [30, 10, 40, 20, 50]\n"
     ]
    }
   ],
   "source": [
    "a.display()"
   ]
  },
  {
   "cell_type": "code",
   "execution_count": 6,
   "id": "2af04f71",
   "metadata": {
    "ExecuteTime": {
     "end_time": "2023-09-19T13:09:36.434946Z",
     "start_time": "2023-09-19T13:09:36.385927Z"
    },
    "scrolled": true
   },
   "outputs": [
    {
     "data": {
      "text/plain": [
       "70"
      ]
     },
     "execution_count": 6,
     "metadata": {},
     "output_type": "execute_result"
    }
   ],
   "source": [
    "a.insert(1, 60)\n",
    "a.replace(2, 70)\n",
    "a.delete(2)"
   ]
  },
  {
   "cell_type": "code",
   "execution_count": 7,
   "id": "f149ed5d",
   "metadata": {
    "ExecuteTime": {
     "end_time": "2023-09-19T13:09:40.473955Z",
     "start_time": "2023-09-19T13:09:40.461323Z"
    }
   },
   "outputs": [
    {
     "name": "stdout",
     "output_type": "stream",
     "text": [
      "ArrayList: 항목수= 5 [30, 60, 40, 20, 50]\n"
     ]
    }
   ],
   "source": [
    "a.display()"
   ]
  },
  {
   "cell_type": "markdown",
   "id": "760335a7",
   "metadata": {},
   "source": [
    "## 배열로 구현한 집합"
   ]
  },
  {
   "cell_type": "code",
   "execution_count": null,
   "id": "f2396891",
   "metadata": {},
   "outputs": [],
   "source": [
    "\n",
    "class Set:\n",
    "    def __init__(self):\n",
    "        self.items = []\n",
    "    \n",
    "    def size(self):\n",
    "        return len(self.items)\n",
    "    def display(self, msg):\n",
    "        print(msg, self.items)\n",
    "    def contains(self, item):\n",
    "        for i in range(len(self.items)):\n",
    "            if self.items[i] == item:\n",
    "                return True\n",
    "        return False\n",
    "    def insert(self, elem):\n",
    "        if elem not in self.items:\n",
    "            self.items.append(elem)\n",
    "    def delete(self, elem):\n",
    "        if elem in self.items:\n",
    "            self.items.remove(elem)\n",
    "    def union(self, setB):\n",
    "        setC = Set()\n",
    "        setC.items = list(self.items)\n",
    "        for elem in setB.items:\n",
    "            if elem not in self.items:\n",
    "                setC.items.append(elem)\n",
    "        return setC\n",
    "    def intersect(self, setB):\n",
    "        setC = Set()\n",
    "        for elem in setB.items:\n",
    "            if elem in self.items:\n",
    "                setC.items.append(elem)\n",
    "        return setC\n",
    "    def difference(self, setB):\n",
    "        setC = Set()\n",
    "        for elem in self.items:\n",
    "            if elem not in setB.items:\n",
    "                setC.items.append(elem)\n",
    "        return setC\n",
    "    def is_subset(self, setB):# 현재 집합이 다른 집합 setB의 부분집합인지 판별\n",
    "        for elem in self.items:\n",
    "            if not setB.contains(elem):\n",
    "                return False\n",
    "        return True\n",
    "    def propersubset(self, setB): # 현재 집합이 다른 집합 setB의 진부분집합인지 판별\n",
    "        if self.is_subset(setB) and len(self.items) < len(setB.items):\n",
    "            return True\n",
    "        return False"
   ]
  },
  {
   "cell_type": "markdown",
   "id": "b4bfad76",
   "metadata": {},
   "source": [
    "## 문제 3.9"
   ]
  },
  {
   "cell_type": "code",
   "execution_count": 2,
   "id": "0dc54755",
   "metadata": {
    "ExecuteTime": {
     "end_time": "2023-09-18T07:58:19.169536Z",
     "start_time": "2023-09-18T07:58:19.142458Z"
    }
   },
   "outputs": [],
   "source": [
    "\n",
    "class Set:\n",
    "    def __init__(self):\n",
    "        self.items = []\n",
    "    \n",
    "    def size(self):\n",
    "        return len(self.items)\n",
    "    def display(self, msg):\n",
    "        print(msg, self.items)\n",
    "    def contains(self, item):\n",
    "        for i in range(len(self.items)):\n",
    "            if self.items[i] == item:\n",
    "                return True\n",
    "        return False\n",
    "    def insert(self, elem):\n",
    "        if elem not in self.items:\n",
    "            self.items.append(elem)\n",
    "    def delete(self, elem):\n",
    "        if elem in self.items:\n",
    "            self.items.remove(elem)\n",
    "    def union(self, setB):\n",
    "        setC = Set()\n",
    "        setC.items = list(self.items)\n",
    "        for elem in setB.items:\n",
    "            if elem not in self.items:\n",
    "                setC.items.append(elem)\n",
    "        return setC\n",
    "    def intersect(self, setB):\n",
    "        setC = Set()\n",
    "        for elem in setB.items:\n",
    "            if elem in self.items:\n",
    "                setC.items.append(elem)\n",
    "        return setC\n",
    "    def difference(self, setB):\n",
    "        setC = Set()\n",
    "        for elem in self.items:\n",
    "            if elem not in setB.items:\n",
    "                setC.items.append(elem)\n",
    "        return setC\n",
    "    def is_subset(self, setB):# 현재 집합이 다른 집합 setB의 부분집합인지 판별\n",
    "        for elem in self.items:\n",
    "            if not setB.contains(elem):\n",
    "                return False\n",
    "        return True\n",
    "    def propersubset(self, setB): # 현재 집합이 다른 집합 setB의 진부분집합인지 판별\n",
    "        if self.is_subset(setB) and len(self.items) < len(setB.items):\n",
    "            return True\n",
    "        return False"
   ]
  }
 ],
 "metadata": {
  "kernelspec": {
   "display_name": "Python 3 (ipykernel)",
   "language": "python",
   "name": "python3"
  },
  "language_info": {
   "codemirror_mode": {
    "name": "ipython",
    "version": 3
   },
   "file_extension": ".py",
   "mimetype": "text/x-python",
   "name": "python",
   "nbconvert_exporter": "python",
   "pygments_lexer": "ipython3",
   "version": "3.9.12"
  },
  "toc": {
   "base_numbering": 1,
   "nav_menu": {},
   "number_sections": true,
   "sideBar": true,
   "skip_h1_title": false,
   "title_cell": "Table of Contents",
   "title_sidebar": "Contents",
   "toc_cell": false,
   "toc_position": {},
   "toc_section_display": true,
   "toc_window_display": false
  }
 },
 "nbformat": 4,
 "nbformat_minor": 5
}
