{
 "cells": [
  {
   "cell_type": "markdown",
   "id": "e64dbc66",
   "metadata": {
    "ExecuteTime": {
     "end_time": "2023-09-19T04:58:01.529311Z",
     "start_time": "2023-09-19T04:58:01.516600Z"
    }
   },
   "source": [
    "## 배열로 구현한 리스트(클래스)"
   ]
  },
  {
   "cell_type": "code",
   "execution_count": 1,
   "id": "86b64e2a",
   "metadata": {
    "ExecuteTime": {
     "end_time": "2023-09-19T13:53:40.053663Z",
     "start_time": "2023-09-19T13:53:40.030660Z"
    }
   },
   "outputs": [],
   "source": [
    "class ArrayList:\n",
    "    def __init__(self):\n",
    "        self.items = []\n",
    "        \n",
    "    def insert(self, pos, elem):\n",
    "        self.items.insert(pos, elem)\n",
    "        \n",
    "    def size(self):\n",
    "        return len(self.items)\n",
    "    \n",
    "    def replace(self, pos, elem):\n",
    "        self.items[pos] = elem\n",
    "    \n",
    "    def delete(self, pos):\n",
    "        return self.items.pop(pos)\n",
    "    \n",
    "    def display(self, msg = 'ArrayList'):\n",
    "        print(msg, '항목수=', self.size(), self.items)\n",
    "    \n",
    "    def isEmpty(self):\n",
    "        return self.size() == 0\n",
    "    \n",
    "    def getEntry(self, pos):\n",
    "        return self.items[pos]\n",
    "    \n",
    "    def clear(self):\n",
    "        self.item = []\n",
    "    \n",
    "    def find(self, item):\n",
    "        return self.items.index(item)\n",
    "    \n",
    "    def sort(self):\n",
    "        self.items.sort()\n",
    "    \n",
    "    def merge(self, lst):\n",
    "        self.items.extend(lst)\n",
    "        \n",
    "    def display(self, msg='ArrayList:'):\n",
    "        print(msg, '항목수=', self.size(), self.items)\n",
    "#-------------------------------------------------------------------------------------------\n",
    "# 3장 실습문제 3.1 (1)\n",
    "    def insertfx(self, pos, item):\n",
    "        if pos < 0 or pos > len(self.items):\n",
    "            return False\n",
    "        else:\n",
    "            self.items.append(None)  # 추가 공간을 마련합니다.\n",
    "            for i in range(len(self.items) - 2, pos - 1, -1):\n",
    "                self.items[i + 1] = self.items[i]\n",
    "            self.items[pos] = item\n",
    "#-------------------------------------------------------------------------------------------\n",
    "# 3장 실습문제 3.1 (2)\n",
    "    def delete2(self, pos):\n",
    "            if pos >= 0 and pos < len(self.items):\n",
    "                for i in range(pos, len(self.items) - 1):\n",
    "                    self.items[i] = self.items[i + 1]\n",
    "                    print(self.items[i])\n",
    "                self.items.pop() \n",
    "            else:\n",
    "                print(\"범위 밖의 위치를 입력했습니다.\")\n",
    "#-------------------------------------------------------------------------------------------\n",
    "# 3장 실습문제 3.1 (3)\n",
    "    def find2(self, item):\n",
    "            for i in range (len(self.items)):\n",
    "                if item == self.items[i]:\n",
    "                    print(i)\n",
    "#-------------------------------------------------------------------------------------------\n",
    "# 3장 실습문제 3.1 (4)\n",
    "    def merge2(self, lst):\n",
    "        for item in lst:\n",
    "            self.insert(len(self.items), item)"
   ]
  },
  {
   "cell_type": "code",
   "execution_count": 153,
   "id": "fef65501",
   "metadata": {
    "ExecuteTime": {
     "end_time": "2023-09-19T13:37:12.868165Z",
     "start_time": "2023-09-19T13:37:12.860761Z"
    }
   },
   "outputs": [
    {
     "name": "stdout",
     "output_type": "stream",
     "text": [
      "Inserted List: 항목수= 3 [0, 1, 2]\n"
     ]
    }
   ],
   "source": [
    "# ArrayList 객체 생성\n",
    "my_list = ArrayList()\n",
    "\n",
    "# 원소 삽입\n",
    "my_list.insertfx(0, 1)  # 인덱스 0 위치에 1을 삽입\n",
    "my_list.insertfx(1, 2)  # 인덱스 1 위치에 2를 삽입\n",
    "my_list.insertfx(0, 0)  # 인덱스 0 위치에 0을 삽입\n",
    "\n",
    "# 리스트 출력\n",
    "my_list.display(\"Inserted List:\")  # 출력: Inserted List: 항목수= 3 [0, 1, 2]\n"
   ]
  },
  {
   "cell_type": "code",
   "execution_count": null,
   "id": "6a88ee29",
   "metadata": {
    "ExecuteTime": {
     "start_time": "2023-09-19T13:48:50.631Z"
    }
   },
   "outputs": [],
   "source": [
    "# ArrayList 객체 생성\n",
    "my_list = ArrayList()\n",
    "\n",
    "# 원소 삽입\n",
    "my_list.insert(0, 1)\n",
    "my_list.insert(1, 2)\n",
    "my_list.insert(2, 3)\n",
    "my_list.insert(3, 4)\n",
    "\n",
    "# 리스트 출력\n",
    "my_list.display(\"Original List:\")  # 출력: Original List: 항목수= 4 [1, 2, 3, 4]\n",
    "\n",
    "# 원소 삭제\n",
    "my_list.delete2(1)  # 인덱스 1 위치의 원소 삭제\n",
    "\n",
    "# 삭제 후 리스트 출력\n",
    "my_list.display(\"Modified List:\")  # 출력: Modified List: 항목수= 3 [1, 3, 4]\n",
    "\n",
    "# 범위를 벗어난 위치에 삭제 시도\n",
    "my_list.delete2(10)  # 출력: 범위 밖의 위치를 입력했습니다.\n"
   ]
  },
  {
   "cell_type": "code",
   "execution_count": 2,
   "id": "bdea77b5",
   "metadata": {
    "ExecuteTime": {
     "end_time": "2023-09-19T13:53:48.249442Z",
     "start_time": "2023-09-19T13:53:48.226242Z"
    }
   },
   "outputs": [
    {
     "name": "stdout",
     "output_type": "stream",
     "text": [
      "Original List: 항목수= 5 [1, 2, 3, 2, 4]\n",
      "1\n",
      "3\n",
      "4\n"
     ]
    }
   ],
   "source": [
    "# ArrayList 객체 생성\n",
    "my_list = ArrayList()\n",
    "\n",
    "# 원소 삽입\n",
    "my_list.insert(0, 1)\n",
    "my_list.insert(1, 2)\n",
    "my_list.insert(2, 3)\n",
    "my_list.insert(3, 2)\n",
    "my_list.insert(4, 4)\n",
    "\n",
    "# 리스트 출력\n",
    "my_list.display(\"Original List:\")  # 출력: Original List: 항목수= 5 [1, 2, 3, 2, 4]\n",
    "\n",
    "# 원소 찾기\n",
    "item_to_find = 2\n",
    "my_list.find2(item_to_find)  # item_to_find (2)를 찾은 위치 출력\n",
    "\n",
    "item_to_find = 4\n",
    "my_list.find2(item_to_find)  # item_to_find (4)를 찾은 위치 출력\n"
   ]
  },
  {
   "cell_type": "code",
   "execution_count": 3,
   "id": "e8c4eb7f",
   "metadata": {
    "ExecuteTime": {
     "end_time": "2023-09-19T13:55:51.332676Z",
     "start_time": "2023-09-19T13:55:51.322889Z"
    }
   },
   "outputs": [
    {
     "name": "stdout",
     "output_type": "stream",
     "text": [
      "Merged List: 항목수= 5 [1, 2, 3, 4, 5]\n"
     ]
    }
   ],
   "source": [
    "# ArrayList 객체 생성\n",
    "my_list = ArrayList()\n",
    "\n",
    "# 원소 삽입\n",
    "my_list.insert(0, 1)\n",
    "my_list.insert(1, 2)\n",
    "\n",
    "# 또 다른 리스트 생성\n",
    "other_list = [3, 4, 5]\n",
    "\n",
    "# 리스트 병합\n",
    "my_list.merge2(other_list)\n",
    "\n",
    "# 병합 후 리스트 출력\n",
    "my_list.display(\"Merged List:\")  # 출력: Merged List: 항목수= 5 [1, 2, 3, 4, 5]\n"
   ]
  },
  {
   "cell_type": "code",
   "execution_count": 165,
   "id": "dcbed4e8",
   "metadata": {
    "ExecuteTime": {
     "end_time": "2023-09-19T13:43:58.357273Z",
     "start_time": "2023-09-19T13:43:58.349301Z"
    }
   },
   "outputs": [],
   "source": [
    "my_list.find2(5)"
   ]
  },
  {
   "cell_type": "code",
   "execution_count": 24,
   "id": "b88529e8",
   "metadata": {
    "ExecuteTime": {
     "end_time": "2023-09-19T05:01:35.472779Z",
     "start_time": "2023-09-19T05:01:35.453320Z"
    }
   },
   "outputs": [
    {
     "name": "stdout",
     "output_type": "stream",
     "text": [
      "ArrayList: 항목수= 5 [1, 2, 3, 4, 5]\n"
     ]
    }
   ],
   "source": [
    "my_list = ArrayList()\n",
    "\n",
    "# insert() 메서드를 사용하여 요소 추가\n",
    "my_list.insert(0, 1)\n",
    "my_list.insert(1, 2)\n",
    "\n",
    "# 다른 리스트 생성\n",
    "other_list = [3, 4, 5]\n",
    "\n",
    "# merge() 메서드를 사용하여 두 리스트를 병합\n",
    "my_list.merge2(other_list)\n",
    "my_list.display()"
   ]
  },
  {
   "cell_type": "code",
   "execution_count": 21,
   "id": "de1a83e3",
   "metadata": {
    "ExecuteTime": {
     "end_time": "2023-09-19T04:34:21.283067Z",
     "start_time": "2023-09-19T04:34:21.278844Z"
    }
   },
   "outputs": [],
   "source": [
    "e = ArrayList()\n",
    "e.insert(0, 6)\n",
    "e.insert(1, 5)\n",
    "e.insert(2, 4)\n",
    "e.insert(3, 3)\n",
    "e.insert(4, 2)\n",
    "e.insert(5, 1)"
   ]
  },
  {
   "cell_type": "code",
   "execution_count": 22,
   "id": "ef2116ed",
   "metadata": {
    "ExecuteTime": {
     "end_time": "2023-09-19T04:34:24.500635Z",
     "start_time": "2023-09-19T04:34:24.494071Z"
    }
   },
   "outputs": [
    {
     "name": "stdout",
     "output_type": "stream",
     "text": [
      "3\n"
     ]
    }
   ],
   "source": [
    "e.find2(3)"
   ]
  },
  {
   "cell_type": "code",
   "execution_count": 145,
   "id": "61b3040c",
   "metadata": {
    "ExecuteTime": {
     "end_time": "2023-09-19T12:46:03.067215Z",
     "start_time": "2023-09-19T12:46:03.032546Z"
    }
   },
   "outputs": [],
   "source": [
    "def recursive(n):\n",
    "    print('현재 n = ', n)\n",
    "    return n * recursive(n-1)"
   ]
  },
  {
   "cell_type": "code",
   "execution_count": null,
   "id": "9d071a07",
   "metadata": {},
   "outputs": [],
   "source": []
  },
  {
   "cell_type": "code",
   "execution_count": null,
   "id": "9920a583",
   "metadata": {},
   "outputs": [],
   "source": []
  },
  {
   "cell_type": "code",
   "execution_count": 71,
   "id": "da03b516",
   "metadata": {
    "ExecuteTime": {
     "end_time": "2023-09-18T10:59:38.633662Z",
     "start_time": "2023-09-18T10:59:38.628713Z"
    },
    "scrolled": true
   },
   "outputs": [
    {
     "name": "stdout",
     "output_type": "stream",
     "text": [
      "ArrayList 항목수= 4 [10, 20, 30, 40]\n"
     ]
    }
   ],
   "source": [
    "a = ArrayList()\n",
    "a.insert(0, 10)\n",
    "a.insert(1, 20)\n",
    "a.insert(2, 30)\n",
    "a.insert(3, 40)\n",
    "a.display()"
   ]
  },
  {
   "cell_type": "code",
   "execution_count": 52,
   "id": "22daab70",
   "metadata": {
    "ExecuteTime": {
     "end_time": "2023-09-18T10:38:22.771869Z",
     "start_time": "2023-09-18T10:38:22.766886Z"
    }
   },
   "outputs": [
    {
     "name": "stdout",
     "output_type": "stream",
     "text": [
      "ArrayList 항목수= 6 [10, 20, 30, 50, 50, 40]\n"
     ]
    }
   ],
   "source": [
    "a.insertfx(4, 50)\n",
    "a.display()"
   ]
  },
  {
   "cell_type": "code",
   "execution_count": 32,
   "id": "12d11612",
   "metadata": {
    "ExecuteTime": {
     "end_time": "2023-09-18T09:27:01.863555Z",
     "start_time": "2023-09-18T09:27:01.853357Z"
    }
   },
   "outputs": [
    {
     "data": {
      "text/plain": [
       "4"
      ]
     },
     "execution_count": 32,
     "metadata": {},
     "output_type": "execute_result"
    }
   ],
   "source": [
    "len(a.items)"
   ]
  },
  {
   "cell_type": "code",
   "execution_count": 35,
   "id": "e8d47196",
   "metadata": {
    "ExecuteTime": {
     "end_time": "2023-09-18T09:27:44.101912Z",
     "start_time": "2023-09-18T09:27:44.091825Z"
    }
   },
   "outputs": [
    {
     "data": {
      "text/plain": [
       "20"
      ]
     },
     "execution_count": 35,
     "metadata": {},
     "output_type": "execute_result"
    }
   ],
   "source": [
    "a.items[1]"
   ]
  },
  {
   "cell_type": "code",
   "execution_count": 37,
   "id": "f42a0884",
   "metadata": {
    "ExecuteTime": {
     "end_time": "2023-09-18T09:28:16.945461Z",
     "start_time": "2023-09-18T09:28:16.939416Z"
    }
   },
   "outputs": [
    {
     "data": {
      "text/plain": [
       "40"
      ]
     },
     "execution_count": 37,
     "metadata": {},
     "output_type": "execute_result"
    }
   ],
   "source": [
    "a.items[3]"
   ]
  },
  {
   "cell_type": "code",
   "execution_count": 98,
   "id": "30567a15",
   "metadata": {
    "ExecuteTime": {
     "end_time": "2023-09-18T11:03:57.189917Z",
     "start_time": "2023-09-18T11:03:57.182389Z"
    }
   },
   "outputs": [],
   "source": [
    "# 테스트\n",
    "arr_list = ArrayList()\n",
    "arr_list.insert(0, 6)\n",
    "arr_list.insert(1, 5)\n",
    "arr_list.insert(2, 4)\n",
    "arr_list.insert(3, 3)\n",
    "arr_list.insert(4, 2)\n",
    "arr_list.insert(5, 1)"
   ]
  },
  {
   "cell_type": "code",
   "execution_count": 99,
   "id": "3160d8e7",
   "metadata": {
    "ExecuteTime": {
     "end_time": "2023-09-18T11:04:00.220670Z",
     "start_time": "2023-09-18T11:04:00.206944Z"
    }
   },
   "outputs": [
    {
     "data": {
      "text/plain": [
       "6"
      ]
     },
     "execution_count": 99,
     "metadata": {},
     "output_type": "execute_result"
    }
   ],
   "source": [
    "len(arr_list.items)"
   ]
  },
  {
   "cell_type": "code",
   "execution_count": 100,
   "id": "09142a07",
   "metadata": {
    "ExecuteTime": {
     "end_time": "2023-09-18T11:04:01.895975Z",
     "start_time": "2023-09-18T11:04:01.881327Z"
    }
   },
   "outputs": [
    {
     "name": "stdout",
     "output_type": "stream",
     "text": [
      "ArrayList 항목수= 6 [6, 5, 4, 3, 2, 1]\n"
     ]
    }
   ],
   "source": [
    "arr_list.display()"
   ]
  },
  {
   "cell_type": "code",
   "execution_count": 101,
   "id": "4fab2437",
   "metadata": {
    "ExecuteTime": {
     "end_time": "2023-09-18T11:04:06.115833Z",
     "start_time": "2023-09-18T11:04:06.101685Z"
    }
   },
   "outputs": [
    {
     "name": "stdout",
     "output_type": "stream",
     "text": [
      "2\n",
      "1\n",
      "ArrayList 항목수= 5 [6, 5, 4, 2, 1]\n"
     ]
    }
   ],
   "source": [
    "arr_list.delete2(3)\n",
    "arr_list.display()"
   ]
  },
  {
   "cell_type": "code",
   "execution_count": null,
   "id": "35ddbe92",
   "metadata": {},
   "outputs": [],
   "source": []
  },
  {
   "cell_type": "code",
   "execution_count": 103,
   "id": "69ce3884",
   "metadata": {
    "ExecuteTime": {
     "end_time": "2023-09-18T11:16:42.774994Z",
     "start_time": "2023-09-18T11:16:42.761835Z"
    }
   },
   "outputs": [],
   "source": [
    "def delete2(self, pos):\n",
    "            if pos >= 0 and pos < len(self.items):\n",
    "                for i in range(pos, len(self.items) - 1):\n",
    "                    self.items[i] = self.items[i + 1]\n",
    "                    print(self.items[i])\n",
    "                self.items.pop()  # 리스트의 마지막 항목 제거\n",
    "            else:\n",
    "                print(\"Invalid position. Deletion failed.\")\n"
   ]
  },
  {
   "cell_type": "code",
   "execution_count": 28,
   "id": "4d0338da",
   "metadata": {
    "ExecuteTime": {
     "end_time": "2023-09-18T09:21:12.668051Z",
     "start_time": "2023-09-18T09:21:12.658134Z"
    }
   },
   "outputs": [
    {
     "name": "stdout",
     "output_type": "stream",
     "text": [
      "ArrayList 항목수= 3 [1, 2, 3]\n",
      "ArrayList 항목수= 2 [1, 3]\n"
     ]
    }
   ],
   "source": [
    "arr_list.display()  # 출력: ArrayList 항목수= 3 [1, 2, 3]\n",
    "arr_list.delete(1)\n",
    "arr_list.display()  # 출력: ArrayList 항목수= 2 [1, 3]"
   ]
  },
  {
   "cell_type": "code",
   "execution_count": 107,
   "id": "47ce929d",
   "metadata": {
    "ExecuteTime": {
     "end_time": "2023-09-18T11:19:51.830775Z",
     "start_time": "2023-09-18T11:19:51.823708Z"
    }
   },
   "outputs": [
    {
     "data": {
      "text/plain": [
       "3"
      ]
     },
     "execution_count": 107,
     "metadata": {},
     "output_type": "execute_result"
    }
   ],
   "source": [
    "d = [3, 4, 5, 12, 13, 16, 1, 2, 5, 12]\n",
    "d.index(12)"
   ]
  },
  {
   "cell_type": "code",
   "execution_count": null,
   "id": "14828fab",
   "metadata": {},
   "outputs": [],
   "source": [
    "    def find(self, item):\n",
    "        return self.items.index(item)"
   ]
  },
  {
   "cell_type": "code",
   "execution_count": null,
   "id": "577322c0",
   "metadata": {},
   "outputs": [],
   "source": [
    "def find2(self, item):\n",
    "    for i in range (len(self.items)-1):\n",
    "        if item == items[i]:\n",
    "            print(i)\n",
    "        else:\n",
    "                print(\"찾는 값이 없습니다.\")"
   ]
  },
  {
   "cell_type": "code",
   "execution_count": 2,
   "id": "9d0617b1",
   "metadata": {
    "ExecuteTime": {
     "end_time": "2023-09-19T04:26:15.919561Z",
     "start_time": "2023-09-19T04:26:15.903691Z"
    },
    "scrolled": true
   },
   "outputs": [
    {
     "name": "stdout",
     "output_type": "stream",
     "text": [
      "0\n",
      "1\n",
      "2\n",
      "3\n",
      "4\n",
      "5\n",
      "6\n",
      "7\n",
      "8\n"
     ]
    }
   ],
   "source": [
    "d = [3, 4, 5, 12, 13, 16, 1, 2, 5, 12]\n",
    "for i in range(len(d)-1):\n",
    "    print(i)"
   ]
  },
  {
   "cell_type": "markdown",
   "id": "8449b81e",
   "metadata": {},
   "source": [
    "## 배열로 구현한 집합(클래스)"
   ]
  },
  {
   "cell_type": "code",
   "execution_count": 11,
   "id": "d277dc40",
   "metadata": {
    "ExecuteTime": {
     "end_time": "2023-09-19T14:06:16.592718Z",
     "start_time": "2023-09-19T14:06:16.539459Z"
    }
   },
   "outputs": [],
   "source": [
    "\n",
    "class Set:\n",
    "    def __init__(self):\n",
    "        self.items = []\n",
    "    \n",
    "    def size(self):\n",
    "        return len(self.items)\n",
    "    def display(self, msg = 'Set'):\n",
    "        print(msg, '항목수=', self.size(), self.items)\n",
    "    def contains(self, item):\n",
    "        for i in range(len(self.items)):\n",
    "            if self.items[i] == item:\n",
    "                return True\n",
    "        return False\n",
    "    def contains(self, item):\n",
    "        for elem in self.items:\n",
    "            if elem == item:\n",
    "                return True\n",
    "        return False\n",
    "    def insert(self, elem):\n",
    "        if elem not in self.items:\n",
    "            self.items.append(elem)\n",
    "    def delete(self, elem):\n",
    "        if elem in self.items:\n",
    "            self.items.remove(elem)\n",
    "    def union(self, setB):\n",
    "        setC = Set()\n",
    "        setC.items = list(self.items)\n",
    "        for elem in setB.items:\n",
    "            if elem not in self.items:\n",
    "                setC.items.append(elem)\n",
    "        return setC\n",
    "    def intersect(self, setB):\n",
    "        setC = Set()\n",
    "        for elem in setB.items:\n",
    "            if elem in self.items:\n",
    "                setC.items.append(elem)\n",
    "        return setC\n",
    "    def difference(self, setB):\n",
    "        setC = Set()\n",
    "        for elem in self.items:\n",
    "            if elem not in setB.items:\n",
    "                setC.items.append(elem)\n",
    "        return setC\n",
    "\n",
    "#-----------------------------------------------------------------------------------------------\n",
    "#3장 연습문제 3,9 \n",
    "    def is_subset(self, setB):# 현재 집합이 다른 집합 setB의 부분집합인지 판별\n",
    "        for elem in self.items:\n",
    "            if not setB.contains(elem):\n",
    "                return False\n",
    "        return True\n",
    "    def propersubset(self, setB): # 현재 집합이 다른 집합 setB의 진부분집합인지 판별\n",
    "        if self.is_subset(setB) and len(self.items) < len(setB.items):\n",
    "            return True\n",
    "        return False\n",
    "#---------------------------------------------------------------------------------------------\n",
    "#3장 실습문제 3.3 (1)\n",
    "    def contains2(self, item):\n",
    "        i = 0\n",
    "        while True:\n",
    "            if i > (len(self.items)-1):\n",
    "                return False\n",
    "            elif self.items[i] == item:\n",
    "                return True\n",
    "                break\n",
    "            else:\n",
    "                i += 1\n",
    "#------------------------------------------------------------------------------------------------\n",
    "# 3장 실습문제 3.3(2)\n",
    "    def delete2(self, item):\n",
    "        if self.contains2(item):\n",
    "            i = 0\n",
    "            while i < len(self.items):\n",
    "                if self.items[i] == item:\n",
    "                    self.items.pop(i)\n",
    "                    break\n",
    "                else:\n",
    "                    i += 1\n",
    "        else:\n",
    "            return False\n",
    "#-------------------------------------------------------------------------------------------------\n",
    "# 3장 실습문제 3.3 (3)\n",
    "    def insert2(self, item):\n",
    "        while True:\n",
    "            if self.contains2(item):\n",
    "                return False\n",
    "            else:\n",
    "                self.items.append(item)\n",
    "                break\n",
    "    def union2(self, setB):\n",
    "        setC = Set()\n",
    "        setC.items = list(self.items)\n",
    "        i = 0\n",
    "        while i < len(self.items):\n",
    "            if not self.contains2(setB.items[i]):\n",
    "                setC.items.append(setB.items[i])\n",
    "            i += 1\n",
    "        return setC\n",
    "\n",
    "    def intersect2(self, setB):\n",
    "        setC = Set()\n",
    "        i = 0\n",
    "        while i < len(self.items):\n",
    "            elem = self.items[i]\n",
    "            if not setB.contains2(elem):\n",
    "                self.items.pop(i)\n",
    "            else:\n",
    "                i += 1\n",
    "        return self\n",
    "\n",
    "    def difference2(self, setB):\n",
    "        i = 0\n",
    "        while i < len(self.items):\n",
    "            elem = self.items[i]\n",
    "            if setB.contains2(elem):\n",
    "                self.items.pop(i)\n",
    "            else:\n",
    "                i += 1\n",
    "        return self\n",
    "#-------------------------------------------------------------------------------------------------\n",
    "# 3장 실습문제 3.3 (4) \n",
    "    def __sub__(self, setB):\n",
    "        # 새로운 집합을 생성하여 self의 요소 중 setB에 없는 요소를 추가합니다.\n",
    "        setC = Set()\n",
    "        for elem in self.items:\n",
    "            if elem not in setB.items:\n",
    "                setC.insert(elem)\n",
    "        return setC"
   ]
  },
  {
   "cell_type": "code",
   "execution_count": 12,
   "id": "58658d46",
   "metadata": {
    "ExecuteTime": {
     "end_time": "2023-09-19T14:07:59.356512Z",
     "start_time": "2023-09-19T14:07:59.343256Z"
    }
   },
   "outputs": [
    {
     "name": "stdout",
     "output_type": "stream",
     "text": [
      "setA ∪ setB: [1, 2, 3, 4]\n"
     ]
    }
   ],
   "source": [
    "# Set 객체 생성 및 초기화\n",
    "setA = Set()\n",
    "setA.insert2(1)\n",
    "setA.insert2(2)\n",
    "setA.insert2(3)\n",
    "\n",
    "setB = Set()\n",
    "setB.insert2(2)\n",
    "setB.insert2(3)\n",
    "setB.insert2(4)\n",
    "\n",
    "# union2 메서드를 사용하여 두 집합을 합침\n",
    "union_result = setA.union2(setB)\n",
    "\n",
    "# 합친 결과 출력\n",
    "print(\"setA ∪ setB:\", union_result.items)\n"
   ]
  },
  {
   "cell_type": "code",
   "execution_count": 13,
   "id": "a3129278",
   "metadata": {
    "ExecuteTime": {
     "end_time": "2023-09-19T14:08:20.454299Z",
     "start_time": "2023-09-19T14:08:20.426308Z"
    }
   },
   "outputs": [
    {
     "name": "stdout",
     "output_type": "stream",
     "text": [
      "setA ∩ setB: [2, 3, 4]\n",
      "setA - setB: []\n"
     ]
    }
   ],
   "source": [
    "# Set 객체 생성 및 초기화\n",
    "setA = Set()\n",
    "setA.insert2(1)\n",
    "setA.insert2(2)\n",
    "setA.insert2(3)\n",
    "\n",
    "setB = Set()\n",
    "setB.insert2(2)\n",
    "setB.insert2(3)\n",
    "setB.insert2(4)\n",
    "\n",
    "# insert2 사용 예시\n",
    "setA.insert2(4)  # 이미 있는 요소를 추가하려고 하면 실패\n",
    "setA.insert2(5)  # 새로운 요소를 추가\n",
    "\n",
    "\n",
    "# intersect2 사용 예시\n",
    "intersect_result = setA.intersect2(setB)\n",
    "print(\"setA ∩ setB:\", intersect_result.items)  # 출력: setA ∩ setB: [2, 3]\n",
    "\n",
    "# difference2 사용 예시\n",
    "difference_result = setA.difference2(setB)\n",
    "print(\"setA - setB:\", difference_result.items)  # 출력: setA - setB: [1, 4, 5]\n"
   ]
  },
  {
   "cell_type": "code",
   "execution_count": 7,
   "id": "f085fe38",
   "metadata": {
    "ExecuteTime": {
     "end_time": "2023-09-19T14:01:44.765917Z",
     "start_time": "2023-09-19T14:01:44.752566Z"
    }
   },
   "outputs": [
    {
     "data": {
      "text/plain": [
       "True"
      ]
     },
     "execution_count": 7,
     "metadata": {},
     "output_type": "execute_result"
    }
   ],
   "source": [
    "# Set 객체 생성\n",
    "my_set = Set()\n",
    "\n",
    "# 원소 추가\n",
    "my_set.insert(1)\n",
    "my_set.insert(2)\n",
    "my_set.insert(3)\n",
    "\n",
    "# 원소 확인\n",
    "my_set.contains2(2)\n"
   ]
  },
  {
   "cell_type": "code",
   "execution_count": 8,
   "id": "d3250a2c",
   "metadata": {
    "ExecuteTime": {
     "end_time": "2023-09-19T14:03:29.016193Z",
     "start_time": "2023-09-19T14:03:28.999647Z"
    }
   },
   "outputs": [
    {
     "name": "stdout",
     "output_type": "stream",
     "text": [
      "Set 항목수= 3 [1, 2, 4]\n"
     ]
    }
   ],
   "source": [
    "my_set = Set()\n",
    "my_set.insert2(1)\n",
    "my_set.insert2(2)\n",
    "my_set.insert2(3)\n",
    "my_set.insert2(4)\n",
    "my_set.delete2(3)\n",
    "my_set.display()"
   ]
  },
  {
   "cell_type": "code",
   "execution_count": 144,
   "id": "ce95220b",
   "metadata": {
    "ExecuteTime": {
     "end_time": "2023-09-19T12:19:05.028391Z",
     "start_time": "2023-09-19T12:19:05.013483Z"
    }
   },
   "outputs": [
    {
     "name": "stdout",
     "output_type": "stream",
     "text": [
      "Set1 - Set2: 항목수= 1 [1]\n"
     ]
    }
   ],
   "source": [
    "# 두 개의 집합을 생성합니다.\n",
    "set1 = Set()\n",
    "set1.insert2(1)\n",
    "set1.insert2(2)\n",
    "set1.insert2(3)\n",
    "\n",
    "set2 = Set()\n",
    "set2.insert2(2)\n",
    "set2.insert2(3)\n",
    "set2.insert2(4)\n",
    "\n",
    "# __sub__() 메서드를 사용하여 set1에서 set2를 뺀 차집합을 계산합니다.\n",
    "result_set = set1 - set2\n",
    "\n",
    "# 결과를 출력합니다.\n",
    "result_set.display(\"Set1 - Set2:\")  # 출력: Set1 - Set2: 항목수= 1 [1]\n"
   ]
  },
  {
   "cell_type": "code",
   "execution_count": 140,
   "id": "104b04a6",
   "metadata": {
    "ExecuteTime": {
     "end_time": "2023-09-19T12:05:36.036677Z",
     "start_time": "2023-09-19T12:05:36.013533Z"
    }
   },
   "outputs": [
    {
     "name": "stdout",
     "output_type": "stream",
     "text": [
      "Union of set1 and set2: 항목수= 3 [1, 2, 3]\n"
     ]
    }
   ],
   "source": [
    "# 두 개의 집합을 생성합니다.\n",
    "set1 = Set()\n",
    "set1.insert2(1)\n",
    "set1.insert2(2)\n",
    "\n",
    "set2 = Set()\n",
    "set2.insert2(2)\n",
    "set2.insert2(3)\n",
    "\n",
    "# union2() 메서드를 사용하여 두 집합의 합집합을 계산합니다.\n",
    "result_set = set1.union2(set2)\n",
    "\n",
    "# 결과를 출력합니다.\n",
    "result_set.display(\"Union of set1 and set2:\")  # 출력: Union of set1 and set2: 항목수= 3 [1, 2, 3]\n"
   ]
  },
  {
   "cell_type": "code",
   "execution_count": 131,
   "id": "06232c32",
   "metadata": {
    "ExecuteTime": {
     "end_time": "2023-09-19T10:34:30.950809Z",
     "start_time": "2023-09-19T10:34:30.941722Z"
    }
   },
   "outputs": [],
   "source": [
    "# 테스트\n",
    "a = Set()\n",
    "a.insert(6)\n",
    "a.insert(5)\n",
    "a.insert(4)\n",
    "a.insert(3)\n",
    "a.insert(2)\n",
    "a.insert(1)"
   ]
  },
  {
   "cell_type": "code",
   "execution_count": 136,
   "id": "a1f62d53",
   "metadata": {
    "ExecuteTime": {
     "end_time": "2023-09-19T10:35:29.776772Z",
     "start_time": "2023-09-19T10:35:29.761662Z"
    },
    "scrolled": true
   },
   "outputs": [
    {
     "name": "stdout",
     "output_type": "stream",
     "text": [
      "Set 항목수= 7 [6, 5, 4, 3, 2, 1, 7]\n"
     ]
    }
   ],
   "source": [
    "a.display()"
   ]
  },
  {
   "cell_type": "code",
   "execution_count": 133,
   "id": "6cd036d5",
   "metadata": {
    "ExecuteTime": {
     "end_time": "2023-09-19T10:34:59.614113Z",
     "start_time": "2023-09-19T10:34:59.603014Z"
    }
   },
   "outputs": [
    {
     "name": "stdout",
     "output_type": "stream",
     "text": [
      "Set 항목수= 6 [6, 5, 4, 3, 2, 1]\n"
     ]
    }
   ],
   "source": [
    "a.insert2(6)\n",
    "a.display()"
   ]
  },
  {
   "cell_type": "code",
   "execution_count": 135,
   "id": "cfa5fcee",
   "metadata": {
    "ExecuteTime": {
     "end_time": "2023-09-19T10:35:24.344321Z",
     "start_time": "2023-09-19T10:35:24.327966Z"
    }
   },
   "outputs": [],
   "source": [
    "a.insert2(7)"
   ]
  },
  {
   "cell_type": "code",
   "execution_count": 125,
   "id": "a08b45c0",
   "metadata": {
    "ExecuteTime": {
     "end_time": "2023-09-19T07:11:07.012821Z",
     "start_time": "2023-09-19T07:11:06.997465Z"
    }
   },
   "outputs": [
    {
     "data": {
      "text/plain": [
       "False"
      ]
     },
     "execution_count": 125,
     "metadata": {},
     "output_type": "execute_result"
    }
   ],
   "source": [
    "a.delete2(10)"
   ]
  },
  {
   "cell_type": "code",
   "execution_count": 95,
   "id": "6e79265d",
   "metadata": {
    "ExecuteTime": {
     "end_time": "2023-09-19T06:45:38.393063Z",
     "start_time": "2023-09-19T06:45:38.382947Z"
    }
   },
   "outputs": [
    {
     "data": {
      "text/plain": [
       "True"
      ]
     },
     "execution_count": 95,
     "metadata": {},
     "output_type": "execute_result"
    }
   ],
   "source": [
    "a.contains2(6)"
   ]
  },
  {
   "cell_type": "code",
   "execution_count": 96,
   "id": "6d7102ff",
   "metadata": {
    "ExecuteTime": {
     "end_time": "2023-09-19T06:45:52.763683Z",
     "start_time": "2023-09-19T06:45:52.743795Z"
    }
   },
   "outputs": [
    {
     "data": {
      "text/plain": [
       "True"
      ]
     },
     "execution_count": 96,
     "metadata": {},
     "output_type": "execute_result"
    }
   ],
   "source": [
    "a.contains2(5)"
   ]
  },
  {
   "cell_type": "code",
   "execution_count": 97,
   "id": "79155dfc",
   "metadata": {
    "ExecuteTime": {
     "end_time": "2023-09-19T06:45:54.482567Z",
     "start_time": "2023-09-19T06:45:54.470189Z"
    }
   },
   "outputs": [
    {
     "data": {
      "text/plain": [
       "True"
      ]
     },
     "execution_count": 97,
     "metadata": {},
     "output_type": "execute_result"
    }
   ],
   "source": [
    "a.contains2(4)"
   ]
  },
  {
   "cell_type": "code",
   "execution_count": 98,
   "id": "17ee7f44",
   "metadata": {
    "ExecuteTime": {
     "end_time": "2023-09-19T06:45:56.109597Z",
     "start_time": "2023-09-19T06:45:56.092964Z"
    }
   },
   "outputs": [
    {
     "data": {
      "text/plain": [
       "True"
      ]
     },
     "execution_count": 98,
     "metadata": {},
     "output_type": "execute_result"
    }
   ],
   "source": [
    "a.contains2(3)"
   ]
  },
  {
   "cell_type": "code",
   "execution_count": 99,
   "id": "ec2e2eea",
   "metadata": {
    "ExecuteTime": {
     "end_time": "2023-09-19T06:45:57.244571Z",
     "start_time": "2023-09-19T06:45:57.236533Z"
    }
   },
   "outputs": [
    {
     "data": {
      "text/plain": [
       "True"
      ]
     },
     "execution_count": 99,
     "metadata": {},
     "output_type": "execute_result"
    }
   ],
   "source": [
    "a.contains2(2)"
   ]
  },
  {
   "cell_type": "code",
   "execution_count": 100,
   "id": "98e1295b",
   "metadata": {
    "ExecuteTime": {
     "end_time": "2023-09-19T06:45:58.546539Z",
     "start_time": "2023-09-19T06:45:58.531524Z"
    }
   },
   "outputs": [
    {
     "data": {
      "text/plain": [
       "True"
      ]
     },
     "execution_count": 100,
     "metadata": {},
     "output_type": "execute_result"
    }
   ],
   "source": [
    "a.contains2(1)"
   ]
  },
  {
   "cell_type": "code",
   "execution_count": 101,
   "id": "0820cbf7",
   "metadata": {
    "ExecuteTime": {
     "end_time": "2023-09-19T06:46:00.143063Z",
     "start_time": "2023-09-19T06:46:00.136086Z"
    }
   },
   "outputs": [
    {
     "data": {
      "text/plain": [
       "False"
      ]
     },
     "execution_count": 101,
     "metadata": {},
     "output_type": "execute_result"
    }
   ],
   "source": [
    "a.contains2(7)"
   ]
  },
  {
   "cell_type": "code",
   "execution_count": 56,
   "id": "f847950e",
   "metadata": {
    "ExecuteTime": {
     "end_time": "2023-09-19T06:29:25.361618Z",
     "start_time": "2023-09-19T06:29:25.353560Z"
    }
   },
   "outputs": [],
   "source": [
    "def contains2(r):\n",
    "    i = 0\n",
    "    d = [3, 4, 5, 12, 13, 16, 1, 2, 5, 15]\n",
    "    while True i<len(d):\n",
    "        if d[i] == r:\n",
    "            return True\n",
    "            break\n",
    "        elif i > (len(d)-1):\n",
    "            return False\n",
    "        else:\n",
    "            i += 1"
   ]
  },
  {
   "cell_type": "code",
   "execution_count": 68,
   "id": "900ceae1",
   "metadata": {
    "ExecuteTime": {
     "end_time": "2023-09-19T06:37:46.470717Z",
     "start_time": "2023-09-19T06:37:46.447703Z"
    }
   },
   "outputs": [],
   "source": [
    "def contains3(r):\n",
    "    i = 0\n",
    "    d = [3, 4, 5, 12, 13, 16, 1, 2, 5, 15]\n",
    "    while True:\n",
    "        if i > (len(d)-1):\n",
    "            return False\n",
    "        elif d[i] == r:\n",
    "            return True\n",
    "            break\n",
    "        else:\n",
    "            i += 1"
   ]
  },
  {
   "cell_type": "markdown",
   "id": "0d3bac25",
   "metadata": {
    "ExecuteTime": {
     "end_time": "2023-09-19T06:27:11.166311Z",
     "start_time": "2023-09-19T06:27:11.151848Z"
    }
   },
   "source": [
    "len(d)"
   ]
  },
  {
   "cell_type": "code",
   "execution_count": 61,
   "id": "c0d4ea19",
   "metadata": {
    "ExecuteTime": {
     "end_time": "2023-09-19T06:31:18.618275Z",
     "start_time": "2023-09-19T06:31:18.609824Z"
    }
   },
   "outputs": [],
   "source": [
    "contains2(10)"
   ]
  },
  {
   "cell_type": "code",
   "execution_count": 66,
   "id": "046acc61",
   "metadata": {
    "ExecuteTime": {
     "end_time": "2023-09-19T06:33:21.220526Z",
     "start_time": "2023-09-19T06:33:21.208569Z"
    },
    "scrolled": true
   },
   "outputs": [
    {
     "data": {
      "text/plain": [
       "False"
      ]
     },
     "execution_count": 66,
     "metadata": {},
     "output_type": "execute_result"
    }
   ],
   "source": [
    "contains3(20)"
   ]
  },
  {
   "cell_type": "code",
   "execution_count": 15,
   "id": "f84fe4d7",
   "metadata": {
    "ExecuteTime": {
     "end_time": "2023-09-19T14:10:11.461069Z",
     "start_time": "2023-09-19T14:10:11.449239Z"
    }
   },
   "outputs": [
    {
     "name": "stdout",
     "output_type": "stream",
     "text": [
      "setA - setB: [1]\n"
     ]
    }
   ],
   "source": [
    "# Set 객체 생성 및 초기화\n",
    "setA = Set()\n",
    "setA.insert2(1)\n",
    "setA.insert2(2)\n",
    "setA.insert2(3)\n",
    "\n",
    "setB = Set()\n",
    "setB.insert2(2)\n",
    "setB.insert2(3)\n",
    "setB.insert2(4)\n",
    "\n",
    "# __sub__ 메서드를 사용하여 setA - setB를 계산\n",
    "difference_result = setA - setB\n",
    "\n",
    "# 결과 출력\n",
    "print(\"setA - setB:\", difference_result.items)\n"
   ]
  },
  {
   "cell_type": "code",
   "execution_count": 17,
   "id": "3632b89a",
   "metadata": {
    "ExecuteTime": {
     "end_time": "2023-09-19T14:12:02.428112Z",
     "start_time": "2023-09-19T14:12:02.407582Z"
    }
   },
   "outputs": [],
   "source": [
    "# 3장 실습문제 3.4\n",
    "class Polynomial:\n",
    "    def __init__(self):\n",
    "        self.polynomial = []\n",
    "    def degree(self):\n",
    "        return len(self.polynomial) - 1"
   ]
  },
  {
   "cell_type": "code",
   "execution_count": 18,
   "id": "71515eb0",
   "metadata": {
    "ExecuteTime": {
     "end_time": "2023-09-19T14:12:03.752871Z",
     "start_time": "2023-09-19T14:12:03.736796Z"
    }
   },
   "outputs": [
    {
     "name": "stdout",
     "output_type": "stream",
     "text": [
      "다항식의 차수: 4\n"
     ]
    }
   ],
   "source": [
    "# Polynomial 객체 생성\n",
    "my_polynomial = Polynomial()\n",
    "\n",
    "# 다항식 계수 설정\n",
    "my_polynomial.polynomial = [2, -3, 1, 0, 5]\n",
    "\n",
    "# 다항식의 차수 확인\n",
    "degree = my_polynomial.degree()\n",
    "print(\"다항식의 차수:\", degree)  # 출력: 다항식의 차수: 4\n"
   ]
  },
  {
   "cell_type": "code",
   "execution_count": 146,
   "id": "a01b0de0",
   "metadata": {
    "ExecuteTime": {
     "end_time": "2023-09-19T13:20:07.169240Z",
     "start_time": "2023-09-19T13:20:07.137434Z"
    }
   },
   "outputs": [
    {
     "name": "stdout",
     "output_type": "stream",
     "text": [
      "setB가 setA의 부분집합인가? True\n",
      "setB가 setA의 진부분집합인가? True\n"
     ]
    }
   ],
   "source": [
    "# Set 객체 생성\n",
    "setA = Set()\n",
    "setA.insert(1)\n",
    "setA.insert(2)\n",
    "setA.insert(3)\n",
    "\n",
    "setB = Set()\n",
    "setB.insert(2)\n",
    "setB.insert(3)\n",
    "\n",
    "# is_subset() 메서드 사용 예제\n",
    "result1 = setB.is_subset(setA)  # setB가 setA의 부분집합인지 확인\n",
    "print(\"setB가 setA의 부분집합인가?\", result1)  # True 출력\n",
    "\n",
    "# propersubset() 메서드 사용 예제\n",
    "result2 = setB.propersubset(setA)  # setB가 setA의 진부분집합인지 확인\n",
    "print(\"setB가 setA의 진부분집합인가?\", result2)  # True 출력\n"
   ]
  },
  {
   "cell_type": "code",
   "execution_count": 147,
   "id": "cfa47c82",
   "metadata": {
    "ExecuteTime": {
     "end_time": "2023-09-19T13:29:21.314282Z",
     "start_time": "2023-09-19T13:29:21.291018Z"
    }
   },
   "outputs": [
    {
     "name": "stdout",
     "output_type": "stream",
     "text": [
      "Inserted List: 항목수= 3 [0, None, None]\n"
     ]
    }
   ],
   "source": [
    "# ArrayList 객체 생성\n",
    "my_list = ArrayList()\n",
    "\n",
    "# 원소 삽입\n",
    "my_list.insertfx(0, 1)  # 인덱스 0 위치에 1을 삽입\n",
    "my_list.insertfx(1, 2)  # 인덱스 1 위치에 2를 삽입\n",
    "my_list.insertfx(0, 0)  # 인덱스 0 위치에 0을 삽입\n",
    "\n",
    "# 리스트 출력\n",
    "my_list.display(\"Inserted List:\")  # 출력: Inserted List: 항목수= 3 [0, 1, 2]\n"
   ]
  }
 ],
 "metadata": {
  "kernelspec": {
   "display_name": "Python 3 (ipykernel)",
   "language": "python",
   "name": "python3"
  },
  "language_info": {
   "codemirror_mode": {
    "name": "ipython",
    "version": 3
   },
   "file_extension": ".py",
   "mimetype": "text/x-python",
   "name": "python",
   "nbconvert_exporter": "python",
   "pygments_lexer": "ipython3",
   "version": "3.9.12"
  },
  "toc": {
   "base_numbering": 1,
   "nav_menu": {},
   "number_sections": true,
   "sideBar": true,
   "skip_h1_title": false,
   "title_cell": "Table of Contents",
   "title_sidebar": "Contents",
   "toc_cell": false,
   "toc_position": {},
   "toc_section_display": true,
   "toc_window_display": false
  }
 },
 "nbformat": 4,
 "nbformat_minor": 5
}
