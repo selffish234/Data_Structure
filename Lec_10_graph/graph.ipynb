{
 "cells": [
  {
   "cell_type": "markdown",
   "id": "ae472aa2",
   "metadata": {},
   "source": [
    "# 그래프의 탐색"
   ]
  },
  {
   "cell_type": "markdown",
   "id": "c2e3132a",
   "metadata": {},
   "source": [
    "## 깊이 우선 탐색 알고리즘"
   ]
  },
  {
   "cell_type": "code",
   "execution_count": 1,
   "id": "7e382d69",
   "metadata": {
    "ExecuteTime": {
     "end_time": "2023-11-28T10:22:24.737179Z",
     "start_time": "2023-11-28T10:22:24.720541Z"
    }
   },
   "outputs": [],
   "source": [
    "def dfs(graph, start, visited = set()):\n",
    "    if start not in visited:\n",
    "        visited.add(start)\n",
    "        print(start, end = '')\n",
    "        nbr = graph[start] - visited\n",
    "        for v in nbr:\n",
    "            dfs(graph, v, visited)"
   ]
  },
  {
   "cell_type": "markdown",
   "id": "5eea1ce0",
   "metadata": {},
   "source": [
    "## 너비 우선 탐색 알고리즘"
   ]
  },
  {
   "cell_type": "code",
   "execution_count": 2,
   "id": "2cfe381e",
   "metadata": {
    "ExecuteTime": {
     "end_time": "2023-11-28T10:22:24.753128Z",
     "start_time": "2023-11-28T10:22:24.739414Z"
    }
   },
   "outputs": [],
   "source": [
    "def bfs(graph, start):\n",
    "    visited = set([start])\n",
    "    queue = collections.deque([start])\n",
    "    while queue:\n",
    "        vertex = queue.popleft()\n",
    "        print(vertex, end = '')\n",
    "        nbr = graph[vertex] - visited\n",
    "        for v in nbr:\n",
    "            visited.add(v)\n",
    "            queue.append(v)"
   ]
  },
  {
   "cell_type": "markdown",
   "id": "d45418fc",
   "metadata": {},
   "source": [
    "## 연결 성분 검사 알고리즘"
   ]
  },
  {
   "cell_type": "code",
   "execution_count": 3,
   "id": "1d1c1bbc",
   "metadata": {
    "ExecuteTime": {
     "end_time": "2023-11-28T10:22:24.768358Z",
     "start_time": "2023-11-28T10:22:24.755202Z"
    }
   },
   "outputs": [],
   "source": [
    "def find_connected_component(graph):\n",
    "    visited = set()\n",
    "    colorList = []\n",
    "    \n",
    "    for vtx in graph:\n",
    "        if vtx not in visited:\n",
    "            color = dfs_cc(graph, [], vtx, visited)\n",
    "            colorList.append(color)\n",
    "    \n",
    "    print(\"그래프 연결성분 개수 = %d\" % len(colorList))\n",
    "    print(colorList)\n",
    "    \n",
    "def dfs_cc(graph, color, vertex, visited):\n",
    "    if vertex not in visited:\n",
    "        visited.add(vertex)\n",
    "        color.append(vertex)\n",
    "        nbr = graph[vertex] - visited\n",
    "        for v in nbr:\n",
    "            dfs_cc(graph, color, v, visited)\n",
    "        return color"
   ]
  },
  {
   "cell_type": "code",
   "execution_count": 4,
   "id": "367e1d2d",
   "metadata": {
    "ExecuteTime": {
     "end_time": "2023-11-28T10:22:24.784617Z",
     "start_time": "2023-11-28T10:22:24.769790Z"
    }
   },
   "outputs": [
    {
     "name": "stdout",
     "output_type": "stream",
     "text": [
      "find_connected_component: \n",
      "그래프 연결성분 개수 = 2\n",
      "[['A', 'C', 'B'], ['D', 'E']]\n"
     ]
    }
   ],
   "source": [
    "mygraph = { \"A\": set([\"B\",\"C\"]),\n",
    "          \"B\" : set([\"A\"]),\n",
    "          \"C\" : set([\"A\"]),\n",
    "          \"D\" : set([\"E\"]), \n",
    "          \"E\" : set([\"D\"])\n",
    "          }\n",
    "print('find_connected_component: ')\n",
    "find_connected_component(mygraph)"
   ]
  },
  {
   "cell_type": "markdown",
   "id": "21c0873b",
   "metadata": {},
   "source": [
    "# 신장 트리 알고리즘"
   ]
  },
  {
   "cell_type": "code",
   "execution_count": 5,
   "id": "5c68004a",
   "metadata": {
    "ExecuteTime": {
     "end_time": "2023-11-28T10:22:24.799726Z",
     "start_time": "2023-11-28T10:22:24.787694Z"
    }
   },
   "outputs": [],
   "source": [
    "def bfsST(graph, start):\n",
    "    visited = set([start])\n",
    "    queue = collections.deque([start])\n",
    "    while queue:\n",
    "        v = queue.popleft()\n",
    "        nbr = graph[v] - visited\n",
    "        for u in nbr:\n",
    "            print(\"(\", v,\",\",u, \")\", end = \"\")\n",
    "            visited.add(u)\n",
    "            queue.append(u)"
   ]
  },
  {
   "cell_type": "markdown",
   "id": "a14450dc",
   "metadata": {},
   "source": [
    "# 위상 정렬(topological sorting)"
   ]
  },
  {
   "cell_type": "code",
   "execution_count": 6,
   "id": "d88dc57d",
   "metadata": {
    "ExecuteTime": {
     "end_time": "2023-11-28T10:22:24.815341Z",
     "start_time": "2023-11-28T10:22:24.800654Z"
    }
   },
   "outputs": [],
   "source": [
    "def topological_sort_AM(vertex, graph):\n",
    "    n = len(vertex)\n",
    "    inDeg = [0]*n\n",
    "    \n",
    "    for i in range(n):\n",
    "        for j in range(n):\n",
    "            if graph[i][j] > 0:\n",
    "                inDeg[j] += 1\n",
    "    vlist = []\n",
    "    for i in range(n):\n",
    "        if inDeg[i] == 0:\n",
    "            vlist.append(i)\n",
    "            \n",
    "    while len(vlist) > 0:\n",
    "        v = vlist.pop()\n",
    "        print(vertex[v], end=\" \")\n",
    "        \n",
    "        for u in range(n):\n",
    "            if v != u and graph[v][u] > 0:\n",
    "                inDeg[u] -= 1\n",
    "                if inDeg[u] == 0:\n",
    "                    vlist.append(u)"
   ]
  },
  {
   "cell_type": "code",
   "execution_count": 7,
   "id": "3a0636aa",
   "metadata": {
    "ExecuteTime": {
     "end_time": "2023-11-28T10:22:24.830875Z",
     "start_time": "2023-11-28T10:22:24.817077Z"
    },
    "scrolled": true
   },
   "outputs": [
    {
     "name": "stdout",
     "output_type": "stream",
     "text": [
      "topological_sort: \n",
      "B E A C D F \n"
     ]
    }
   ],
   "source": [
    "vertex = ['A', 'B', 'C', 'D', 'E', 'F']\n",
    "graphAM = [[0, 0, 1, 1, 0, 0],\n",
    "           [0, 0, 0, 1, 1, 0],\n",
    "           [0, 0, 0, 1, 0, 1],\n",
    "           [0, 0, 0, 0, 0, 1],\n",
    "           [0, 0, 0, 0, 0, 1],\n",
    "           [0, 0, 0, 0, 0, 0]]\n",
    "print('topological_sort: ')\n",
    "topological_sort_AM(vertex, graphAM)\n",
    "print()"
   ]
  },
  {
   "cell_type": "markdown",
   "id": "91cb7ec9",
   "metadata": {},
   "source": [
    "# 연습문제"
   ]
  },
  {
   "cell_type": "markdown",
   "id": "44cf72ac",
   "metadata": {},
   "source": [
    "## 10.6"
   ]
  },
  {
   "cell_type": "markdown",
   "id": "99d8293a",
   "metadata": {
    "ExecuteTime": {
     "end_time": "2023-11-28T09:48:02.061274Z",
     "start_time": "2023-11-28T09:48:01.411234Z"
    }
   },
   "source": [
    "SADBC"
   ]
  },
  {
   "cell_type": "markdown",
   "id": "0c8a82d3",
   "metadata": {},
   "source": [
    "## 10.7"
   ]
  },
  {
   "cell_type": "markdown",
   "id": "25bdee92",
   "metadata": {},
   "source": [
    "SABCD"
   ]
  },
  {
   "cell_type": "markdown",
   "id": "7278a999",
   "metadata": {},
   "source": [
    "## 10.8"
   ]
  },
  {
   "cell_type": "markdown",
   "id": "c84c599d",
   "metadata": {
    "ExecuteTime": {
     "end_time": "2023-11-28T09:49:13.678562Z",
     "start_time": "2023-11-28T09:49:13.658908Z"
    }
   },
   "source": [
    "O(n)"
   ]
  },
  {
   "cell_type": "markdown",
   "id": "8f642863",
   "metadata": {},
   "source": [
    "## 10.9"
   ]
  },
  {
   "cell_type": "markdown",
   "id": "c6dc0eb7",
   "metadata": {},
   "source": [
    "인접행렬 O(n^2), 인접리스트 O(n+e)"
   ]
  },
  {
   "cell_type": "markdown",
   "id": "08b6d985",
   "metadata": {},
   "source": [
    "## 10.10"
   ]
  },
  {
   "cell_type": "markdown",
   "id": "13c14a2c",
   "metadata": {},
   "source": [
    "ABEGFCD"
   ]
  },
  {
   "cell_type": "markdown",
   "id": "1f0404e2",
   "metadata": {},
   "source": [
    "## 10.11"
   ]
  },
  {
   "cell_type": "markdown",
   "id": "ab05a7ac",
   "metadata": {},
   "source": [
    "3 1 0 2 4 5 6 7 8 9"
   ]
  },
  {
   "cell_type": "markdown",
   "id": "e744c43c",
   "metadata": {},
   "source": [
    "## 10.12\n",
    "3 1 4 5 0 2 6 7 8 9"
   ]
  },
  {
   "cell_type": "markdown",
   "id": "a34df86c",
   "metadata": {},
   "source": [
    "## 10.14\n",
    "7 5 11 3 10 8 9 2 "
   ]
  },
  {
   "cell_type": "markdown",
   "id": "02b96adb",
   "metadata": {},
   "source": [
    "# 실습문제"
   ]
  },
  {
   "cell_type": "markdown",
   "id": "ca365ee5",
   "metadata": {},
   "source": [
    "## P10.1"
   ]
  },
  {
   "cell_type": "code",
   "execution_count": 8,
   "id": "858a8b68",
   "metadata": {
    "ExecuteTime": {
     "end_time": "2023-11-28T10:22:24.846363Z",
     "start_time": "2023-11-28T10:22:24.832387Z"
    }
   },
   "outputs": [
    {
     "name": "stdout",
     "output_type": "stream",
     "text": [
      "DFS 시작 from vertex A:\n",
      "A B D C E G H F "
     ]
    }
   ],
   "source": [
    "def dfs(graph, start, visited=None):\n",
    "    if visited is None:\n",
    "        visited = set()\n",
    "\n",
    "    index = graph[0].index(start)  \n",
    "\n",
    "    if start not in visited:\n",
    "        visited.add(start)\n",
    "        print(start, end=' ')\n",
    "\n",
    "        for i in range(len(graph[0])):\n",
    "            if graph[index + 1][i] == 1 and graph[0][i] not in visited:\n",
    "                dfs(graph, graph[0][i], visited)\n",
    "\n",
    "vertex_labels = ['A', 'B', 'C', 'D', 'E', 'F', 'G', 'H']\n",
    "adjMat = [\n",
    "    [0, 1, 1, 0, 0, 0, 0, 0],\n",
    "    [1, 0, 0, 1, 0, 0, 0, 0],\n",
    "    [1, 0, 0, 1, 1, 0, 0, 0],\n",
    "    [0, 1, 1, 0, 0, 1, 0, 0],\n",
    "    [0, 0, 1, 0, 0, 0, 1, 1],\n",
    "    [0, 0, 0, 1, 0, 0, 0, 0],\n",
    "    [0, 0, 0, 0, 1, 0, 0, 1],\n",
    "    [0, 0, 0, 0, 1, 0, 1, 0]\n",
    "]\n",
    "\n",
    "graph_now = [vertex_labels] + adjMat\n",
    "\n",
    "\n",
    "print(\"DFS 시작 from vertex A:\")\n",
    "dfs(graph_now,\"A\")\n"
   ]
  },
  {
   "cell_type": "markdown",
   "id": "c05db28d",
   "metadata": {},
   "source": [
    "## P10.2"
   ]
  },
  {
   "cell_type": "code",
   "execution_count": 9,
   "id": "647619c0",
   "metadata": {
    "ExecuteTime": {
     "end_time": "2023-11-28T10:22:24.861514Z",
     "start_time": "2023-11-28T10:22:24.847950Z"
    }
   },
   "outputs": [
    {
     "name": "stdout",
     "output_type": "stream",
     "text": [
      "BFS 시작 from vertex A:\n",
      "A B C D E F G H "
     ]
    }
   ],
   "source": [
    "from collections import deque\n",
    "\n",
    "def bfs(graph, start):\n",
    "    visited = set()\n",
    "    queue = deque([start])\n",
    "\n",
    "    while queue:\n",
    "        vertex = queue.popleft()\n",
    "\n",
    "        if vertex not in visited:\n",
    "            print(vertex, end=' ')\n",
    "            visited.add(vertex)\n",
    "\n",
    "            for i in range(len(graph[0])):\n",
    "                if graph[0][i] == vertex:\n",
    "                    for j in range(len(graph[0])):\n",
    "                        if graph[i + 1][j] == 1 and graph[0][j] not in visited:\n",
    "                            queue.append(graph[0][j])\n",
    "\n",
    "\n",
    "vertex_labels = ['A', 'B', 'C', 'D', 'E', 'F', 'G', 'H']\n",
    "adjMat = [\n",
    "    [0, 1, 1, 0, 0, 0, 0, 0],\n",
    "    [1, 0, 0, 1, 0, 0, 0, 0],\n",
    "    [1, 0, 0, 1, 1, 0, 0, 0],\n",
    "    [0, 1, 1, 0, 0, 1, 0, 0],\n",
    "    [0, 0, 1, 0, 0, 0, 1, 1],\n",
    "    [0, 0, 0, 1, 0, 0, 0, 0],\n",
    "    [0, 0, 0, 0, 1, 0, 0, 1],\n",
    "    [0, 0, 0, 0, 1, 0, 1, 0]\n",
    "]\n",
    "\n",
    "graph_now = [vertex_labels] + adjMat\n",
    "\n",
    "# BFS 수행\n",
    "start_vertex_label = 'A'\n",
    "print(\"BFS 시작 from vertex A:\")\n",
    "bfs(graph_now, \"A\")\n"
   ]
  },
  {
   "cell_type": "markdown",
   "id": "4c5a49df",
   "metadata": {},
   "source": [
    "## P 10.5"
   ]
  },
  {
   "cell_type": "code",
   "execution_count": 10,
   "id": "a21ce58f",
   "metadata": {
    "ExecuteTime": {
     "end_time": "2023-11-28T10:22:24.877055Z",
     "start_time": "2023-11-28T10:22:24.863318Z"
    }
   },
   "outputs": [
    {
     "name": "stdout",
     "output_type": "stream",
     "text": [
      "위상 정렬 결과: ['A', 'B', 'C', 'E', 'D', 'F']\n"
     ]
    }
   ],
   "source": [
    "from collections import defaultdict, deque\n",
    "\n",
    "def topolo_sort_AL(graph):\n",
    "    inDeg = defaultdict(int) \n",
    "    result = []\n",
    "    for u in graph:\n",
    "        for v in graph[u]:\n",
    "            inDeg[v] += 1\n",
    "\n",
    "    queue = deque([u for u in graph if inDeg[u] == 0])\n",
    "\n",
    "    while queue:\n",
    "        u = queue.popleft()\n",
    "        result.append(u)\n",
    "\n",
    "        for v in graph[u]:\n",
    "            inDeg[v] -= 1\n",
    "\n",
    "            if inDeg[v] == 0:\n",
    "                queue.append(v)\n",
    "\n",
    "    if len(result) != len(graph):\n",
    "        print(\"그래프에 사이클이 있습니다.\")\n",
    "        return []\n",
    "\n",
    "    return result\n",
    "\n",
    "graph = {\n",
    "    'A': {\"C\", 'D'},\n",
    "    'B': {'D', 'E'},\n",
    "    'C': {\"D\",'F'},\n",
    "    'D': {'F'},\n",
    "    'E': {'F'},\n",
    "    'F': set()  \n",
    "}\n",
    "\n",
    "if topolo_sort_AL(graph):\n",
    "    print(\"위상 정렬 결과:\", topolo_sort_AL(graph))\n"
   ]
  },
  {
   "cell_type": "code",
   "execution_count": null,
   "id": "6a930f37",
   "metadata": {},
   "outputs": [],
   "source": []
  }
 ],
 "metadata": {
  "kernelspec": {
   "display_name": "Python 3 (ipykernel)",
   "language": "python",
   "name": "python3"
  },
  "language_info": {
   "codemirror_mode": {
    "name": "ipython",
    "version": 3
   },
   "file_extension": ".py",
   "mimetype": "text/x-python",
   "name": "python",
   "nbconvert_exporter": "python",
   "pygments_lexer": "ipython3",
   "version": "3.9.12"
  },
  "toc": {
   "base_numbering": 1,
   "nav_menu": {},
   "number_sections": true,
   "sideBar": true,
   "skip_h1_title": false,
   "title_cell": "Table of Contents",
   "title_sidebar": "Contents",
   "toc_cell": false,
   "toc_position": {},
   "toc_section_display": true,
   "toc_window_display": false
  }
 },
 "nbformat": 4,
 "nbformat_minor": 5
}
