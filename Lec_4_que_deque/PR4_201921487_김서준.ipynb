{
 "cells": [
  {
   "cell_type": "markdown",
   "id": "65b78732",
   "metadata": {},
   "source": [
    "## 원형 큐의 구현"
   ]
  },
  {
   "cell_type": "code",
   "execution_count": 1,
   "id": "66d11eb8",
   "metadata": {
    "ExecuteTime": {
     "end_time": "2023-10-10T02:59:53.071568Z",
     "start_time": "2023-10-10T02:59:53.037896Z"
    }
   },
   "outputs": [],
   "source": [
    "#원형 큐의 구현\n",
    "MAX_QSIZE = 10 #원형 큐의 크기\n",
    "class CircularQueue:\n",
    "    def __init__(self): #CircularQueue 생성자\n",
    "        self.front = 0 # 큐의 전단 위치\n",
    "        self.rear = 0 # 큐의 후단 위치\n",
    "        self.items = [None]*MAX_QSIZE # 항목 저장용 리스트 [None, None,...]\n",
    "    def isEmpty(self): return self.front == self.rear\n",
    "    def isFull(self): return self.front == (self.rear+1)%MAX_QSIZE\n",
    "    def clear(self): self.front = self.rear\n",
    "    \n",
    "    def enqueue(self, item):\n",
    "        if not self.isFull():\n",
    "            self.rear = (self.rear+1)%MAX_QSIZE\n",
    "            self.items[self.rear] = item\n",
    "    \n",
    "    def dequeue(self):\n",
    "        if not self.isEmpty():\n",
    "            self.front = (self.front+1)%MAX_QSIZE\n",
    "            return self.items[self.front]\n",
    "        \n",
    "    def peek(self):\n",
    "        if not self.isEmpty():\n",
    "            return self.items[(self.front+1)%MAX_QSIZE]\n",
    "        \n",
    "    def size(self):\n",
    "        return (self.rear - self.front + MAX_QSIZE) % MAX_QSIZE\n",
    "    \n",
    "    def display(self):\n",
    "        out = []\n",
    "        if self.front < self.rear:\n",
    "            out = self.items[self.front+1:self.rear+1]\n",
    "        else:\n",
    "            out = self.items[self.front+1:MAX_QSIZE] + self.items[0:self.rear+1]\n",
    "        print(\"[f=%s, r=%d] ==>\"%(self.front, self.rear), out)"
   ]
  },
  {
   "cell_type": "code",
   "execution_count": 5,
   "id": "768e470d",
   "metadata": {
    "ExecuteTime": {
     "end_time": "2023-10-09T11:15:29.613092Z",
     "start_time": "2023-10-09T11:15:29.595102Z"
    }
   },
   "outputs": [
    {
     "name": "stdout",
     "output_type": "stream",
     "text": [
      "[f=0, r=8] ==> [0, 1, 2, 3, 4, 5, 6, 7]\n",
      "[f=5, r=8] ==> [5, 6, 7]\n",
      "[f=5, r=4] ==> [5, 6, 7, 8, 9, 10, 11, 12, 13]\n",
      "[f=4, r=5] ==> [(0, 1)]\n"
     ]
    }
   ],
   "source": [
    "q = CircularQueue()\n",
    "\n",
    "for i in range(8):q.enqueue(i)\n",
    "q.display() \n",
    "for i in range(5): q.dequeue()\n",
    "q.display()\n",
    "for i in range(8, 14): q.enqueue(i)\n",
    "q.display()\n",
    "\n",
    "q.clear()\n",
    "\n",
    "q.enqueue((0, 1))\n",
    "q.display()"
   ]
  },
  {
   "cell_type": "markdown",
   "id": "199ca65f",
   "metadata": {},
   "source": [
    "## 너비우선탐색 알고리즘"
   ]
  },
  {
   "cell_type": "code",
   "execution_count": 6,
   "id": "381bf5e2",
   "metadata": {
    "ExecuteTime": {
     "end_time": "2023-10-09T11:15:31.053333Z",
     "start_time": "2023-10-09T11:15:31.038223Z"
    }
   },
   "outputs": [],
   "source": [
    "def BFS():\n",
    "    que  = CircularQueue()\n",
    "    que.enqueue((0,1))\n",
    "    print('BFS: ')\n",
    "    \n",
    "    while not que.isEmpty():\n",
    "        here = que.dequeue()\n",
    "        print(here, end ='->')\n",
    "        x,y = here\n",
    "        if(map[y][x] == 'x'): return True\n",
    "        else:\n",
    "            map[y][x] = '.'\n",
    "            if isValidPos(x, y-1): que.enqueue((x, y-1))\n",
    "            if isValidPos(x, y+1): que.enqueue((x, y+1))\n",
    "            if isValidPos(x-1, y): que.enqueue((x-1, y))\n",
    "            if isValidPos(x+1, y): que.enqueue((x+1, y))\n",
    "    return False"
   ]
  },
  {
   "cell_type": "code",
   "execution_count": 7,
   "id": "45edd0fe",
   "metadata": {
    "ExecuteTime": {
     "end_time": "2023-10-09T11:15:31.690263Z",
     "start_time": "2023-10-09T11:15:31.676246Z"
    }
   },
   "outputs": [],
   "source": [
    "#(x, y)가 갈 수 있는 방인지 검사하는 함수\n",
    "def isValidPos(x, y):\n",
    "    if x < 0 or y < 0 or x >= MAZE_SIZE or y >= MAZE_SIZE:\n",
    "        return False\n",
    "    else : \n",
    "        return map[y][x] == '0' or map[y][x] == \"x\""
   ]
  },
  {
   "cell_type": "code",
   "execution_count": 8,
   "id": "5ec608ea",
   "metadata": {
    "ExecuteTime": {
     "end_time": "2023-10-09T11:15:32.375078Z",
     "start_time": "2023-10-09T11:15:32.355954Z"
    }
   },
   "outputs": [
    {
     "name": "stdout",
     "output_type": "stream",
     "text": [
      "BFS: \n",
      "(0, 1)->(1, 1)->(1, 2)->(1, 3)->(2, 2)->(1, 4)->(3, 2)->(3, 1)->(3, 3)->(4, 1)->(3, 4)->(4, 4)->(5, 4)->--> 미로탐색 성공\n"
     ]
    }
   ],
   "source": [
    "#미로\n",
    "map = [['1', '1', '1', '1', '1', '1'],\n",
    "      [\"e\", \"0\", \"1\", \"0\", \"0\", \"1\"],\n",
    "      ['1', \"0\", \"0\", \"0\", \"1\", '1'],\n",
    "      ['1', '0', '1', '0', '1', '1'],\n",
    "      ['1', '0', '1', \"0\", '0', 'x'],\n",
    "      ['1', '1', '1', '1', '1', '1']]\n",
    "\n",
    "MAZE_SIZE = 6\n",
    "result = BFS()\n",
    "if result : print('--> 미로탐색 성공')\n",
    "else : print('--> 미로탐색 실패')"
   ]
  },
  {
   "cell_type": "markdown",
   "id": "bfd70ce3",
   "metadata": {},
   "source": [
    "## 덱의 구현"
   ]
  },
  {
   "cell_type": "code",
   "execution_count": 2,
   "id": "d7caa997",
   "metadata": {
    "ExecuteTime": {
     "end_time": "2023-10-10T02:59:58.566987Z",
     "start_time": "2023-10-10T02:59:58.550585Z"
    }
   },
   "outputs": [],
   "source": [
    "class CircularDeque(CircularQueue):\n",
    "    def __init__(self):\n",
    "        super().__init__()\n",
    "        \n",
    "    def addRear(self, item): self.enqueue(item)\n",
    "    def deleteFront(self): return self.dequeue()\n",
    "    def getFront(self): return self.peek()\n",
    "    \n",
    "    def addFront(self, item):\n",
    "        if not self.isFull():\n",
    "            self.items[self.front] = item\n",
    "            self.front = self.front - 1\n",
    "            if self.front < 0 : self.front = MAX_QSIZE - 1\n",
    "    \n",
    "    def deleteRear(self):\n",
    "        if not self.isEmpty():\n",
    "            item = self.items[self.rear];\n",
    "            self.rear = self.rear -1\n",
    "            if self.rear < 0 : self.rear = MAX_QSIZE - 1\n",
    "            return item\n",
    "    \n",
    "    def getRear(self):\n",
    "        return self.items[self.rear]"
   ]
  },
  {
   "cell_type": "code",
   "execution_count": 12,
   "id": "c5326463",
   "metadata": {
    "ExecuteTime": {
     "end_time": "2023-10-09T11:15:52.361696Z",
     "start_time": "2023-10-09T11:15:52.345128Z"
    }
   },
   "outputs": [
    {
     "name": "stdout",
     "output_type": "stream",
     "text": [
      "[f=6, r=5] ==> [7, 5, 3, 1, 0, 2, 4, 6, 8]\n",
      "[f=8, r=2] ==> [3, 1, 0, 2]\n",
      "[f=3, r=2] ==> [13, 12, 11, 10, 9, 3, 1, 0, 2]\n"
     ]
    }
   ],
   "source": [
    "dq = CircularDeque()\n",
    "for i in range(9):\n",
    "    if i%2==0:dq.addRear(i)\n",
    "    else: dq.addFront(i)\n",
    "dq.display()\n",
    "for i in range(2): dq.deleteFront()\n",
    "for i in range(3): dq.deleteRear()\n",
    "dq.display()\n",
    "for i in range(9, 14): dq.addFront(i)\n",
    "dq.display()"
   ]
  },
  {
   "cell_type": "code",
   "execution_count": 13,
   "id": "e4d9f790",
   "metadata": {
    "ExecuteTime": {
     "end_time": "2023-10-09T11:23:49.495833Z",
     "start_time": "2023-10-09T11:23:49.317955Z"
    }
   },
   "outputs": [],
   "source": [
    "class PriorityQueue:\n",
    "    def __init__(self):\n",
    "        self.items = []\n",
    "        \n",
    "    def isEmpty(self):\n",
    "        return len(self.items) == 0\n",
    "    def size(self): return len(self.items)\n",
    "    def clear(self): self.items = []\n",
    "        \n",
    "    def enqueue(self, item):\n",
    "        self.items.append(item)\n",
    "#삭제 연산\n",
    "    def findMaxIndex(self):\n",
    "        if self.isEmpty(): return None\n",
    "        else:\n",
    "            highest= 0\n",
    "            for i in range(1, self.size()):\n",
    "                if self.items[i] > self.items[highest]:\n",
    "                    highest = i\n",
    "            return highest\n",
    "    \n",
    "    def dequeue(self):\n",
    "        highest = self.findMaxIndex()\n",
    "        if highest is not None:\n",
    "            return self.items.pop(highest)\n",
    "        \n",
    "    def peek(self):\n",
    "        highest = self.findMaxIndex()\n",
    "        if highest is not None:\n",
    "            return self.items[highest]"
   ]
  },
  {
   "cell_type": "code",
   "execution_count": 14,
   "id": "85af0ca7",
   "metadata": {
    "ExecuteTime": {
     "end_time": "2023-10-09T11:25:44.984903Z",
     "start_time": "2023-10-09T11:25:44.974696Z"
    }
   },
   "outputs": [
    {
     "name": "stdout",
     "output_type": "stream",
     "text": [
      "PQueue: [34, 18, 27, 45, 15]\n",
      "Max Priority =  45\n",
      "Max Priority =  34\n",
      "Max Priority =  27\n",
      "Max Priority =  18\n",
      "Max Priority =  15\n"
     ]
    }
   ],
   "source": [
    "q = PriorityQueue()\n",
    "q.enqueue(34)\n",
    "q.enqueue(18)\n",
    "q.enqueue(27)\n",
    "q.enqueue(45)\n",
    "q.enqueue(15)\n",
    "\n",
    "print(\"PQueue:\",q.items)\n",
    "while not q.isEmpty():\n",
    "    print(\"Max Priority = \", q.dequeue())"
   ]
  },
  {
   "cell_type": "markdown",
   "id": "fb94420e",
   "metadata": {},
   "source": [
    "# 5장 연습문제"
   ]
  },
  {
   "cell_type": "markdown",
   "id": "b55952ba",
   "metadata": {},
   "source": [
    "## 5.2"
   ]
  },
  {
   "cell_type": "code",
   "execution_count": 15,
   "id": "8be7f8ab",
   "metadata": {
    "ExecuteTime": {
     "end_time": "2023-10-09T11:38:53.799600Z",
     "start_time": "2023-10-09T11:38:53.784945Z"
    }
   },
   "outputs": [
    {
     "name": "stdout",
     "output_type": "stream",
     "text": [
      "[f=3, r=5] ==> [40, 50]\n"
     ]
    }
   ],
   "source": [
    "q = CircularQueue()\n",
    "\n",
    "q.enqueue(10)\n",
    "q.enqueue(20)\n",
    "q.enqueue(30)\n",
    "q.enqueue(40)\n",
    "q.enqueue(50)\n",
    "\n",
    "q.dequeue()\n",
    "q.dequeue()\n",
    "q.dequeue()\n",
    "\n",
    "q.display()"
   ]
  },
  {
   "cell_type": "markdown",
   "id": "20b54ab4",
   "metadata": {},
   "source": [
    "### 5.2 정답: 40, 50"
   ]
  },
  {
   "cell_type": "markdown",
   "id": "1c7e8b44",
   "metadata": {},
   "source": [
    "## 5.4"
   ]
  },
  {
   "cell_type": "code",
   "execution_count": 17,
   "id": "f0b02172",
   "metadata": {
    "ExecuteTime": {
     "end_time": "2023-10-09T11:51:32.024302Z",
     "start_time": "2023-10-09T11:51:32.002157Z"
    }
   },
   "outputs": [
    {
     "data": {
      "text/plain": [
       "7"
      ]
     },
     "execution_count": 17,
     "metadata": {},
     "output_type": "execute_result"
    }
   ],
   "source": [
    "MAX_QSIZE = 12\n",
    "front = 7\n",
    "rear = 2\n",
    "\n",
    "(rear - front + MAX_QSIZE) % MAX_QSIZE"
   ]
  },
  {
   "cell_type": "markdown",
   "id": "36ea1579",
   "metadata": {},
   "source": [
    "### 5.4 정답: 7개"
   ]
  },
  {
   "cell_type": "markdown",
   "id": "37a6bce3",
   "metadata": {},
   "source": [
    "## 5.6"
   ]
  },
  {
   "cell_type": "code",
   "execution_count": null,
   "id": "1daf7a18",
   "metadata": {},
   "outputs": [],
   "source": [
    "def isEmpty(self): return self.front == self.rear"
   ]
  },
  {
   "cell_type": "markdown",
   "id": "f1389b17",
   "metadata": {},
   "source": [
    "### 5.6 정답: (3) front == rear"
   ]
  },
  {
   "cell_type": "markdown",
   "id": "9681d17c",
   "metadata": {},
   "source": [
    "## 5.13"
   ]
  },
  {
   "cell_type": "markdown",
   "id": "7bfb0032",
   "metadata": {},
   "source": [
    "### 반시계 방향으로 front 이동 코드"
   ]
  },
  {
   "cell_type": "code",
   "execution_count": null,
   "id": "c4137ba8",
   "metadata": {},
   "outputs": [],
   "source": [
    "self.front = (self.front-1 + MAX_QSIZE) % MAX_QSIZE"
   ]
  },
  {
   "cell_type": "markdown",
   "id": "7e241205",
   "metadata": {},
   "source": [
    "### 시계 방향으로 front 이동 코드"
   ]
  },
  {
   "cell_type": "code",
   "execution_count": null,
   "id": "bcaf502e",
   "metadata": {},
   "outputs": [],
   "source": [
    "self.front = (self.front + 1) % MAX_QSIZE"
   ]
  },
  {
   "cell_type": "markdown",
   "id": "9a37a170",
   "metadata": {},
   "source": [
    "## 5.15"
   ]
  },
  {
   "cell_type": "code",
   "execution_count": 24,
   "id": "49002ad6",
   "metadata": {
    "ExecuteTime": {
     "end_time": "2023-10-09T12:32:24.217627Z",
     "start_time": "2023-10-09T12:32:24.207690Z"
    }
   },
   "outputs": [
    {
     "name": "stdout",
     "output_type": "stream",
     "text": [
      "[f=3, r=7] ==> [9, 12, 15, 18]\n"
     ]
    }
   ],
   "source": [
    "values = CircularQueue()\n",
    "for i in range(20):\n",
    "    if i % 3 == 0:\n",
    "        values.enqueue(i)\n",
    "    elif i % 4 == 0:\n",
    "        values.dequeue()\n",
    "\n",
    "values.display()"
   ]
  },
  {
   "cell_type": "markdown",
   "id": "1768c7ce",
   "metadata": {},
   "source": [
    "### 5.15 정답 : 9, 12, 15, 18"
   ]
  },
  {
   "cell_type": "markdown",
   "id": "944b0947",
   "metadata": {},
   "source": [
    "## 5.19"
   ]
  },
  {
   "cell_type": "code",
   "execution_count": 25,
   "id": "b20629f8",
   "metadata": {
    "ExecuteTime": {
     "end_time": "2023-10-09T12:36:04.693157Z",
     "start_time": "2023-10-09T12:36:04.674394Z"
    }
   },
   "outputs": [
    {
     "name": "stdout",
     "output_type": "stream",
     "text": [
      "PQueue: [23, 28, 39, 14, 55]\n",
      "Max Priority =  55\n",
      "Max Priority =  39\n",
      "Max Priority =  28\n",
      "Max Priority =  23\n",
      "Max Priority =  14\n"
     ]
    }
   ],
   "source": [
    "q = PriorityQueue()\n",
    "q.enqueue(23)\n",
    "q.enqueue(28)\n",
    "q.enqueue(39)\n",
    "q.enqueue(14)\n",
    "q.enqueue(55)\n",
    "\n",
    "print(\"PQueue:\",q.items)\n",
    "while not q.isEmpty():\n",
    "    print(\"Max Priority = \", q.dequeue())"
   ]
  },
  {
   "cell_type": "markdown",
   "id": "5a6eea31",
   "metadata": {},
   "source": [
    "### 5.19 정답 : 55, 39, 28, 23, 14"
   ]
  },
  {
   "cell_type": "code",
   "execution_count": 45,
   "id": "7c2f745b",
   "metadata": {
    "ExecuteTime": {
     "end_time": "2023-10-09T13:47:50.020165Z",
     "start_time": "2023-10-09T13:47:50.012190Z"
    }
   },
   "outputs": [
    {
     "name": "stdout",
     "output_type": "stream",
     "text": [
      "1\n",
      "2\n",
      "3\n",
      "4\n",
      "5\n"
     ]
    }
   ],
   "source": [
    "for i in range(1, 6):\n",
    "    print(i)"
   ]
  },
  {
   "cell_type": "markdown",
   "id": "ca6cc7c2",
   "metadata": {},
   "source": [
    "# 5장 실습문제 p5.3"
   ]
  },
  {
   "cell_type": "code",
   "execution_count": 8,
   "id": "9bf9ec0b",
   "metadata": {
    "ExecuteTime": {
     "end_time": "2023-10-10T06:55:38.383486Z",
     "start_time": "2023-10-10T06:55:38.340825Z"
    }
   },
   "outputs": [
    {
     "name": "stdout",
     "output_type": "stream",
     "text": [
      "0\n",
      "1\n",
      "1\n",
      "2\n",
      "3\n",
      "5\n",
      "8\n",
      "13\n",
      "21\n",
      "34\n"
     ]
    }
   ],
   "source": [
    "def fibonacci(n):\n",
    "    if n <= 0:\n",
    "        return 0\n",
    "    elif n == 1:\n",
    "        return 1\n",
    "\n",
    "    q = CircularQueue()\n",
    "    q.enqueue(0)\n",
    "    q.enqueue(1)\n",
    "\n",
    "    for i in range(2, n+2):\n",
    "        next_f = q.dequeue() + q.peek()\n",
    "        q.enqueue(next_f)\n",
    "\n",
    "    return q.peek()\n",
    "for i in range(10):\n",
    "    print(fibonacci(i))"
   ]
  },
  {
   "cell_type": "markdown",
   "id": "db543182",
   "metadata": {},
   "source": [
    "# 5장 실습문제 p.5.4"
   ]
  },
  {
   "cell_type": "code",
   "execution_count": 7,
   "id": "32965bb1",
   "metadata": {
    "ExecuteTime": {
     "end_time": "2023-10-10T03:01:47.899657Z",
     "start_time": "2023-10-10T03:01:40.762623Z"
    },
    "scrolled": true
   },
   "outputs": [
    {
     "name": "stdout",
     "output_type": "stream",
     "text": [
      "문자열을 입력하세요: race car\n",
      "입력한 문자열은 회문입니다.\n"
     ]
    }
   ],
   "source": [
    "def palindrome(string):\n",
    "    clean_string = string.replace(\" \", \"\")\n",
    "    clean_string2 = clean_string.replace(\".\", \"\")\n",
    "    clean_string3 = clean_string2.lower()\n",
    "\n",
    "    deque = CircularDeque()\n",
    "\n",
    "    for c in clean_string3:\n",
    "        deque.enqueue(c)\n",
    "\n",
    "    while deque.size() > 1:\n",
    "        if deque.dequeue() != deque.deleteRear():\n",
    "            return False\n",
    "\n",
    "    return True\n",
    "\n",
    "user_input = input(\"문자열을 입력하세요: \")\n",
    "\n",
    "if palindrome(user_input):\n",
    "    print(\"입력한 문자열은 회문입니다.\")\n",
    "else:\n",
    "    print(\"입력한 문자열은 회문이 아닙니다.\")"
   ]
  }
 ],
 "metadata": {
  "kernelspec": {
   "display_name": "Python 3 (ipykernel)",
   "language": "python",
   "name": "python3"
  },
  "language_info": {
   "codemirror_mode": {
    "name": "ipython",
    "version": 3
   },
   "file_extension": ".py",
   "mimetype": "text/x-python",
   "name": "python",
   "nbconvert_exporter": "python",
   "pygments_lexer": "ipython3",
   "version": "3.9.12"
  },
  "toc": {
   "base_numbering": 1,
   "nav_menu": {},
   "number_sections": true,
   "sideBar": true,
   "skip_h1_title": false,
   "title_cell": "Table of Contents",
   "title_sidebar": "Contents",
   "toc_cell": false,
   "toc_position": {},
   "toc_section_display": true,
   "toc_window_display": false
  }
 },
 "nbformat": 4,
 "nbformat_minor": 5
}
