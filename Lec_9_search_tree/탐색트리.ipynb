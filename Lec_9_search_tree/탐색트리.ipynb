{
 "cells": [
  {
   "cell_type": "markdown",
   "id": "5307eda3",
   "metadata": {},
   "source": [
    "# 이진탐색트리: 노드 구조"
   ]
  },
  {
   "cell_type": "markdown",
   "id": "7587f2c7",
   "metadata": {},
   "source": [
    "## 노드의 구조"
   ]
  },
  {
   "cell_type": "code",
   "execution_count": 1,
   "id": "22df6a50",
   "metadata": {
    "ExecuteTime": {
     "end_time": "2023-11-21T13:00:23.210007Z",
     "start_time": "2023-11-21T13:00:23.185586Z"
    }
   },
   "outputs": [],
   "source": [
    "class BSTNode:\n",
    "    def __init__(self, key, value):\n",
    "        self.key = key\n",
    "        self.value = value\n",
    "        self.left = None\n",
    "        self.right = None"
   ]
  },
  {
   "cell_type": "markdown",
   "id": "c5a408fb",
   "metadata": {},
   "source": [
    "### 이진탐색트리 탐색연산(순환 함수)"
   ]
  },
  {
   "cell_type": "code",
   "execution_count": 2,
   "id": "585c4ba8",
   "metadata": {
    "ExecuteTime": {
     "end_time": "2023-11-21T13:00:23.225183Z",
     "start_time": "2023-11-21T13:00:23.212070Z"
    }
   },
   "outputs": [],
   "source": [
    "def search_bst(n, key):\n",
    "    if n == None :\n",
    "        return None\n",
    "    elif key == n.key:\n",
    "        return n\n",
    "    elif key < n.key:\n",
    "        return search_bst(n.left, key)\n",
    "    else:\n",
    "        return search_bst(n.right, key)"
   ]
  },
  {
   "cell_type": "markdown",
   "id": "7ecd5b74",
   "metadata": {},
   "source": [
    "### 이진탐색트리 탐색연산(반복 함수)"
   ]
  },
  {
   "cell_type": "code",
   "execution_count": 3,
   "id": "8b57c904",
   "metadata": {
    "ExecuteTime": {
     "end_time": "2023-11-21T13:00:23.240241Z",
     "start_time": "2023-11-21T13:00:23.226287Z"
    }
   },
   "outputs": [],
   "source": [
    "def search_bst_iter(n, key):\n",
    "    while n != None:\n",
    "        if key == n.key:\n",
    "            return n\n",
    "        elif key < n.key:\n",
    "            n = n.left\n",
    "        else:\n",
    "            n = n.right\n",
    "    return None"
   ]
  },
  {
   "cell_type": "markdown",
   "id": "64fc413d",
   "metadata": {},
   "source": [
    "### 탐색연산: 최대와 최소 노드"
   ]
  },
  {
   "cell_type": "code",
   "execution_count": 4,
   "id": "6214419a",
   "metadata": {
    "ExecuteTime": {
     "end_time": "2023-11-21T13:00:23.256414Z",
     "start_time": "2023-11-21T13:00:23.242326Z"
    }
   },
   "outputs": [],
   "source": [
    "def search_max_bst(n): #최대 값의 노드 탐색\n",
    "    while n != None and n.right != None:\n",
    "        n = n.right\n",
    "    return n\n",
    "\n",
    "def search_min_bst(n): #최소 값의 노드 탐색\n",
    "    while n != None and n.left != None:\n",
    "        n = n.left\n",
    "    return n"
   ]
  },
  {
   "cell_type": "markdown",
   "id": "7b6f857c",
   "metadata": {},
   "source": [
    "## 삽입 연산 알고리즘 "
   ]
  },
  {
   "cell_type": "code",
   "execution_count": 5,
   "id": "921ea9e2",
   "metadata": {
    "ExecuteTime": {
     "end_time": "2023-11-21T13:00:23.272478Z",
     "start_time": "2023-11-21T13:00:23.258862Z"
    }
   },
   "outputs": [],
   "source": [
    "def insert_bst(r, n):\n",
    "    if n.key < r.key:\n",
    "        if r.left is None:\n",
    "            r.left = n\n",
    "            return True\n",
    "        else:\n",
    "            return insert_bst(r.left, n)\n",
    "    elif n.key > r.key:\n",
    "        if r.right is None:\n",
    "            r.right = n\n",
    "            return True\n",
    "        else:\n",
    "            return insert_bst(r.right, n)\n",
    "    else:\n",
    "        return False"
   ]
  },
  {
   "cell_type": "markdown",
   "id": "51c3f412",
   "metadata": {},
   "source": [
    "## 삭제 연산\n",
    "- 노드 삭제의 3가지 경우\n",
    "1. 삭제하려는 노드가 단말 노드일 경우\n",
    "2. 삭제하려는 노드가 왼쪽이나 오른쪽 서브 트리 중 하나만 가지고 있는 경우\n",
    "3. 삭제하려는 노드가 구 개의 서브 트리 몯 가지고 있는 경우"
   ]
  },
  {
   "cell_type": "markdown",
   "id": "2c1b3f50",
   "metadata": {},
   "source": [
    "### case 1: 단말 노드 삭제"
   ]
  },
  {
   "cell_type": "code",
   "execution_count": 6,
   "id": "c6ae0c7b",
   "metadata": {
    "ExecuteTime": {
     "end_time": "2023-11-21T13:00:23.288445Z",
     "start_time": "2023-11-21T13:00:23.275280Z"
    }
   },
   "outputs": [],
   "source": [
    "def delete_bst_case1(parent, node, root):\n",
    "    if parent is None:\n",
    "        root = None\n",
    "    else:\n",
    "        if parent.left == node:\n",
    "            parent.left = None\n",
    "        else:\n",
    "            parent.right = None\n",
    "            \n",
    "    return root"
   ]
  },
  {
   "cell_type": "markdown",
   "id": "ec212600",
   "metadata": {},
   "source": [
    "### case2: 자식이 하나인 노드의 삭제"
   ]
  },
  {
   "cell_type": "code",
   "execution_count": 7,
   "id": "5e726f0d",
   "metadata": {
    "ExecuteTime": {
     "end_time": "2023-11-21T13:00:23.304286Z",
     "start_time": "2023-11-21T13:00:23.290218Z"
    }
   },
   "outputs": [],
   "source": [
    "def delete_bst_case2(parent, node, root):\n",
    "    if node.left is not None:\n",
    "        child = node.left\n",
    "    else:\n",
    "        child = node.right\n",
    "        \n",
    "    if node == root:\n",
    "        root = child\n",
    "    else:\n",
    "        if node is parent.left:\n",
    "            parent.left = child\n",
    "        else:\n",
    "            parent.right = child\n",
    "            \n",
    "    return root"
   ]
  },
  {
   "cell_type": "markdown",
   "id": "28a63679",
   "metadata": {},
   "source": [
    "### case3: 두개의 자식을 가진 노드 삭제\n",
    "- 가장 비슷한 값을 가진 노드를 삭제 위치로 가져옴\n",
    "- 후계 노드의 선택"
   ]
  },
  {
   "cell_type": "code",
   "execution_count": 8,
   "id": "e2fb25ac",
   "metadata": {
    "ExecuteTime": {
     "end_time": "2023-11-21T13:00:23.320044Z",
     "start_time": "2023-11-21T13:00:23.305791Z"
    }
   },
   "outputs": [],
   "source": [
    "def delete_bst_case3(parent, node, root):\n",
    "    succp = node\n",
    "    succ = node.right\n",
    "    while (succ.left != None):\n",
    "        succp = succ\n",
    "        succ = succ.left\n",
    "    if (succp.left == succ):\n",
    "        succp.left = succ.right\n",
    "    else:\n",
    "        succp.right = succ.right\n",
    "    node.key = succ.key\n",
    "    node.value = succ.value\n",
    "    \n",
    "    return root"
   ]
  },
  {
   "cell_type": "markdown",
   "id": "fa378fbf",
   "metadata": {},
   "source": [
    "### 삭제 연산: 전체 코드"
   ]
  },
  {
   "cell_type": "code",
   "execution_count": 9,
   "id": "df4ec062",
   "metadata": {
    "ExecuteTime": {
     "end_time": "2023-11-21T13:00:23.335353Z",
     "start_time": "2023-11-21T13:00:23.321093Z"
    }
   },
   "outputs": [],
   "source": [
    "def delete_bst(root, key):\n",
    "    if root == None: return None\n",
    "    parent = None\n",
    "    node = root\n",
    "    while node != None and node.key != key:\n",
    "        parent = node\n",
    "        if key < node.key : node = node.left\n",
    "        else: node = node.right;\n",
    "            \n",
    "    if node == None: return None\n",
    "    if node.left == None and node.right == None:\n",
    "        root = delete_bst_case1(parent, node, root)\n",
    "    elif node.left == None or node.right == None:\n",
    "        root = delete_bst_case2(parent, node, root)\n",
    "    else:\n",
    "        root = delete_bst_case3(parent, node, root)\n",
    "    return root"
   ]
  },
  {
   "cell_type": "code",
   "execution_count": 10,
   "id": "93a69086",
   "metadata": {
    "ExecuteTime": {
     "end_time": "2023-11-21T13:00:23.350706Z",
     "start_time": "2023-11-21T13:00:23.337642Z"
    }
   },
   "outputs": [],
   "source": [
    "def inorder(n): #전위 순회 함수\n",
    "    if n is not None:\n",
    "        inorder(n.left) #왼쪽 서브트리 처리\n",
    "        print(n.key, end=\" \") #루트노드 처리(화면 출력)\n",
    "        inorder(n.right) #오른쪽 서브트리 처리\n",
    "        \n",
    "        \n",
    "def count_node(n): #순환을 이용해 트리의 노드 수를 계산하는 함수\n",
    "    if n is None: #n이 None이면 공백 트리 --> 0을 반환\n",
    "        return 0\n",
    "    else: # 좌우 서브트리의 노드수의 함 +1을 반환 (순환이용)\n",
    "        return 1+ count_node(n.left)+count_node(n.right)"
   ]
  },
  {
   "cell_type": "markdown",
   "id": "de6ee9de",
   "metadata": {},
   "source": [
    "# 이진탐색트리를 이용한 맵 클래스"
   ]
  },
  {
   "cell_type": "code",
   "execution_count": 11,
   "id": "58686787",
   "metadata": {
    "ExecuteTime": {
     "end_time": "2023-11-21T13:00:23.366394Z",
     "start_time": "2023-11-21T13:00:23.352293Z"
    }
   },
   "outputs": [],
   "source": [
    "class BSTMap():\n",
    "    def __init__(self):\n",
    "        self.root = None\n",
    "    def isEmpty(self): return self.root == None\n",
    "    def clear(self): self.root = None\n",
    "    def size(self): return count_node(slef.root)\n",
    "    def search(self, key):return search_bst(self.root, key)\n",
    "    def searchValue(self, key): return search_value_bst(self.root, key)\n",
    "    def findMax(self): return search_max_bst(self.root)\n",
    "    def findMin(self): return search_min_bst(self.root)\n",
    "    \n",
    "    def insert(self, key, value = None):\n",
    "        n = BSTNode(key, value)\n",
    "        if self.isEmpty():\n",
    "            self.root = n\n",
    "        else:\n",
    "            insert_bst(self.root, n)\n",
    "    def delete(self, key):\n",
    "        self.root = delete_bst(self.root, key)\n",
    "    def display(self, msg = 'BSTMap:'):\n",
    "        print(msg, end='');\n",
    "        inorder(self.root)\n",
    "        print()\n"
   ]
  },
  {
   "cell_type": "code",
   "execution_count": 12,
   "id": "c8e638e4",
   "metadata": {
    "ExecuteTime": {
     "end_time": "2023-11-21T13:00:23.382110Z",
     "start_time": "2023-11-21T13:00:23.367865Z"
    }
   },
   "outputs": [
    {
     "name": "stdout",
     "output_type": "stream",
     "text": [
      "[삽입연산]:  [35, 18, 7, 26, 12, 3, 68, 22, 30, 99]\n",
      "[중위 순회]: 3 7 12 18 22 26 30 35 68 99 \n",
      "[탐색 26]: 성공\n",
      "[탐색 25]: 실패\n",
      "[3 삭제]: 7 12 18 22 26 30 35 68 99 \n",
      "[68 삭제]: 7 12 18 22 26 30 35 99 \n",
      "[18 삭제]: 7 12 22 26 30 35 99 \n",
      "[35 삭제]: 7 12 22 26 30 99 \n"
     ]
    }
   ],
   "source": [
    "#테스트\n",
    "map = BSTMap()\n",
    "data = [35, 18, 7, 26, 12, 3, 68, 22, 30, 99]\n",
    "print(\"[삽입연산]: \", data)\n",
    "for key in data:\n",
    "    map.insert(key)\n",
    "map.display(\"[중위 순회]: \")\n",
    "if map.search(26) != None : print('[탐색 26]: 성공')\n",
    "else: print('[탐색 26 ]: 실패')\n",
    "if map.search(25) != None : print('[탐색 25]: 성공')\n",
    "else:print('[탐색 25]: 실패')\n",
    "        \n",
    "map.delete(3); map.display(\"[3 삭제]: \")\n",
    "map.delete(68); map.display(\"[68 삭제]: \")\n",
    "map.delete(18); map.display(\"[18 삭제]: \")\n",
    "map.delete(35); map.display(\"[35 삭제]: \")"
   ]
  },
  {
   "cell_type": "markdown",
   "id": "abd91167",
   "metadata": {},
   "source": [
    "## AVL 트리"
   ]
  },
  {
   "cell_type": "markdown",
   "id": "b6a7177d",
   "metadata": {},
   "source": [
    "### LL 회전 방법"
   ]
  },
  {
   "cell_type": "code",
   "execution_count": 13,
   "id": "8057ef9d",
   "metadata": {
    "ExecuteTime": {
     "end_time": "2023-11-21T13:00:23.397800Z",
     "start_time": "2023-11-21T13:00:23.383604Z"
    }
   },
   "outputs": [],
   "source": [
    "def rotateLL(A):\n",
    "    B = A.left\n",
    "    A.left = B.right\n",
    "    B.right = A\n",
    "    return B"
   ]
  },
  {
   "cell_type": "markdown",
   "id": "c56c738c",
   "metadata": {},
   "source": [
    "## RR 회전 방법"
   ]
  },
  {
   "cell_type": "code",
   "execution_count": 14,
   "id": "5f7ee9ae",
   "metadata": {
    "ExecuteTime": {
     "end_time": "2023-11-21T13:00:23.413315Z",
     "start_time": "2023-11-21T13:00:23.399262Z"
    }
   },
   "outputs": [],
   "source": [
    "def rotateRR(A):\n",
    "    B = A.right\n",
    "    A.right = B.left\n",
    "    B.left = A\n",
    "    return B"
   ]
  },
  {
   "cell_type": "code",
   "execution_count": 15,
   "id": "18a4ff6a",
   "metadata": {
    "ExecuteTime": {
     "end_time": "2023-11-21T13:00:23.428846Z",
     "start_time": "2023-11-21T13:00:23.413799Z"
    }
   },
   "outputs": [],
   "source": [
    "def rotateRR(A):\n",
    "    if A is not None and A.right is not None:\n",
    "        B = A.right\n",
    "        A.right = B.left\n",
    "        B.left = A\n",
    "        return B\n",
    "    return A\n"
   ]
  },
  {
   "cell_type": "markdown",
   "id": "f87801fd",
   "metadata": {},
   "source": [
    "## RL 회전 방법"
   ]
  },
  {
   "cell_type": "code",
   "execution_count": 16,
   "id": "a9af3ab8",
   "metadata": {
    "ExecuteTime": {
     "end_time": "2023-11-21T13:00:23.444002Z",
     "start_time": "2023-11-21T13:00:23.430229Z"
    }
   },
   "outputs": [],
   "source": [
    "def rotateRL(A):\n",
    "    B = A.right\n",
    "    A.right = rotateLL(B)\n",
    "    return rotateRR(A)"
   ]
  },
  {
   "cell_type": "markdown",
   "id": "7c3216f2",
   "metadata": {},
   "source": [
    "## LR 회전방법"
   ]
  },
  {
   "cell_type": "code",
   "execution_count": 17,
   "id": "15bc7932",
   "metadata": {
    "ExecuteTime": {
     "end_time": "2023-11-21T13:00:23.459710Z",
     "start_time": "2023-11-21T13:00:23.446553Z"
    }
   },
   "outputs": [],
   "source": [
    "def rotateLR(A):\n",
    "    B = A.left\n",
    "    A.left = rotateRR(B)\n",
    "    return rotateLL(A)"
   ]
  },
  {
   "cell_type": "code",
   "execution_count": 18,
   "id": "bb01e6cb",
   "metadata": {
    "ExecuteTime": {
     "end_time": "2023-11-21T13:00:23.475614Z",
     "start_time": "2023-11-21T13:00:23.461921Z"
    }
   },
   "outputs": [],
   "source": [
    "def rotateLR(A):\n",
    "    if A is not None and A.left is not None:\n",
    "        B = A.left\n",
    "        A.left = rotateRR(B)\n",
    "        return rotateLL(A)\n",
    "    return A\n"
   ]
  },
  {
   "cell_type": "markdown",
   "id": "5718d562",
   "metadata": {},
   "source": [
    "## 재균형 함수"
   ]
  },
  {
   "cell_type": "code",
   "execution_count": 19,
   "id": "4bb1edb0",
   "metadata": {
    "ExecuteTime": {
     "end_time": "2023-11-21T13:00:23.490796Z",
     "start_time": "2023-11-21T13:00:23.477443Z"
    }
   },
   "outputs": [],
   "source": [
    "def reBalance(parent):\n",
    "    hDiff = calc_height_diff(parent)\n",
    "    \n",
    "    if hDiff > 1:\n",
    "        if calc_height_diff(parent.left) > 0:\n",
    "            parent = rotateLL(parent)\n",
    "        else:\n",
    "            parent = rotateLR(parent)\n",
    "    elif hDiff < -1:\n",
    "        if calc_height_diff(parent.right) < 0:\n",
    "            parent = rotateRR(parent)\n",
    "        else:\n",
    "            parent = rotateRL(parent)\n",
    "            \n",
    "    return parent"
   ]
  },
  {
   "cell_type": "markdown",
   "id": "f0212967",
   "metadata": {},
   "source": [
    "## AVL 트리의 삽입 함수"
   ]
  },
  {
   "cell_type": "code",
   "execution_count": 20,
   "id": "5d517047",
   "metadata": {
    "ExecuteTime": {
     "end_time": "2023-11-21T13:00:23.506291Z",
     "start_time": "2023-11-21T13:00:23.492286Z"
    }
   },
   "outputs": [],
   "source": [
    "def insert_avl(parent, node):\n",
    "    if node.key < parent.key:\n",
    "        if parent.left != None:\n",
    "            parent.left = insert_avl(parent.left, node)\n",
    "        else:\n",
    "            parent.left = node\n",
    "        return reBalance(parent)\n",
    "    \n",
    "    elif node.key > parent.key:\n",
    "        if parent.right != None:\n",
    "            parent.right = insert_avl(parent.right, node)\n",
    "        else:\n",
    "            parent.right= node\n",
    "        return reBalance(parent)\n",
    "    else:\n",
    "        print(\"중복된 키 에러\")"
   ]
  },
  {
   "cell_type": "markdown",
   "id": "7265d1b4",
   "metadata": {},
   "source": [
    "## AVL 트리를 이용한 맵"
   ]
  },
  {
   "cell_type": "code",
   "execution_count": 21,
   "id": "da6ba0ca",
   "metadata": {
    "ExecuteTime": {
     "end_time": "2023-11-21T13:00:23.521837Z",
     "start_time": "2023-11-21T13:00:23.509185Z"
    }
   },
   "outputs": [],
   "source": [
    "def levelorder(root):\n",
    "    queue = CircularQueue() # 큐 객체 초기화\n",
    "    queue.enqueue(root) #최초의 큐에는 루트노드만 들어있음\n",
    "    while not queue.isEmpty(): # 큐가 공백상태가 아닌 동안,\n",
    "        n = queue.dequeue() #큐에서 맨 앞의 노드 n을 꺼냄\n",
    "        if n is not None:\n",
    "            print(n.key, end = \" \") #먼저 노드의 정보를 출력\n",
    "            queue.enqueue(n.left) #n의 왼쪽 자식노드를 큐에 삽입\n",
    "            queue.enqueue(n.right) # n의 오른쪽 자식노드를 큐에 삽입"
   ]
  },
  {
   "cell_type": "code",
   "execution_count": 22,
   "id": "95e885a1",
   "metadata": {
    "ExecuteTime": {
     "end_time": "2023-11-21T13:00:23.537230Z",
     "start_time": "2023-11-21T13:00:23.524052Z"
    }
   },
   "outputs": [],
   "source": [
    "def count_leaf(n):\n",
    "    if n is None:  #공백 트리 --> 0을 반환\n",
    "        return 0\n",
    "    elif n.left is None and n.right is None: #단말노드 --> 1을 반환\n",
    "        return 1\n",
    "    else : #비단말 노드 : 좌우 서브트리의 결과 함을 반환\n",
    "        return count_leaf(n.left) + count_leaf(n.right)"
   ]
  },
  {
   "cell_type": "code",
   "execution_count": 23,
   "id": "1ec3b16e",
   "metadata": {
    "ExecuteTime": {
     "end_time": "2023-11-21T13:00:23.552467Z",
     "start_time": "2023-11-21T13:00:23.538274Z"
    }
   },
   "outputs": [],
   "source": [
    "def calc_height(n):\n",
    "    if n is None: #공백 트리 --> 0을 반환\n",
    "        return 0\n",
    "    hLeft = calc_height(n.left) #왼쪽 트리의 높이 --> HLeft\n",
    "    hRight = calc_height(n.right) #오른쪽 트리의 높이 --> hRight\n",
    "    if(hLeft > hRight) : #더 높은 높이이에 1을 더해 반환\n",
    "        return hLeft + 1\n",
    "    else:\n",
    "        return hRight + 1"
   ]
  },
  {
   "cell_type": "code",
   "execution_count": 24,
   "id": "4998e199",
   "metadata": {
    "ExecuteTime": {
     "end_time": "2023-11-21T13:00:23.568080Z",
     "start_time": "2023-11-21T13:00:23.553712Z"
    }
   },
   "outputs": [],
   "source": [
    "def calc_height_diff(parent):\n",
    "    if parent is None:\n",
    "        return 0\n",
    "\n",
    "    left_height = calc_height(parent.left)\n",
    "    right_height = calc_height(parent.right)\n",
    "\n",
    "    return left_height - right_height"
   ]
  },
  {
   "cell_type": "code",
   "execution_count": 25,
   "id": "a89b4689",
   "metadata": {
    "ExecuteTime": {
     "end_time": "2023-11-21T13:00:23.583717Z",
     "start_time": "2023-11-21T13:00:23.569621Z"
    }
   },
   "outputs": [],
   "source": [
    "#원형 큐의 구현\n",
    "MAX_QSIZE = 10 #원형 큐의 크기\n",
    "class CircularQueue:\n",
    "    def __init__(self): #CircularQueue 생성자\n",
    "        self.front = 0 # 큐의 전단 위치\n",
    "        self.rear = 0 # 큐의 후단 위치\n",
    "        self.items = [None]*MAX_QSIZE # 항목 저장용 리스트 [None, None,...]\n",
    "    def isEmpty(self): return self.front == self.rear\n",
    "    def isFull(self): return self.front == (self.rear+1)%MAX_QSIZE\n",
    "    def clear(self): self.front = self.rear\n",
    "    \n",
    "    def enqueue(self, item):\n",
    "        if not self.isFull():\n",
    "            self.rear = (self.rear+1)%MAX_QSIZE\n",
    "            self.items[self.rear] = item\n",
    "    \n",
    "    def dequeue(self):\n",
    "        if not self.isEmpty():\n",
    "            self.front = (self.front+1)%MAX_QSIZE\n",
    "            return self.items[self.front]\n",
    "        \n",
    "    def peek(self):\n",
    "        if not self.isEmpty():\n",
    "            return self.items[(self.front+1)%MAX_QSIZE]\n",
    "        \n",
    "    def size(self):\n",
    "        return (self.rear - self.front + MAX_QSIZE) % MAX_QSIZE\n",
    "    \n",
    "    def display(self):\n",
    "        out = []\n",
    "        if self.front < self.rear:\n",
    "            out = self.items[self.front+1:self.rear+1]\n",
    "        else:\n",
    "            out = self.items[self.front+1:MAX_QSIZE] + self.items[0:self.rear+1]\n",
    "        print(\"[f=%s, r=%d] ==>\"%(self.front, self.rear), out)"
   ]
  },
  {
   "cell_type": "code",
   "execution_count": 26,
   "id": "666b06f7",
   "metadata": {
    "ExecuteTime": {
     "end_time": "2023-11-21T13:00:23.599676Z",
     "start_time": "2023-11-21T13:00:23.585720Z"
    }
   },
   "outputs": [],
   "source": [
    "class BSTMap():\n",
    "    def __init__(self):\n",
    "        self.root = None\n",
    "    def isEmpty(self): return self.root == None\n",
    "    def clear(self): self.root = None\n",
    "    def size(self): return count_node(slef.root)\n",
    "    def search(self, key):return search_bst(self.root, key)\n",
    "    def searchValue(self, key): return search_value_bst(self.root, key)\n",
    "    def findMax(self): return search_max_bst(self.root)\n",
    "    def findMin(self): return search_min_bst(self.root)\n",
    "    def findMax2(self): return search_max_bst2(self.root).key\n",
    "    def findMin2(self): return search_min_bst2(self.root).key\n",
    "    \n",
    "    def insert(self, key, value = None):\n",
    "        n = BSTNode(key, value)\n",
    "        if self.isEmpty():\n",
    "            self.root = n\n",
    "        else:\n",
    "            insert_bst(self.root, n)\n",
    "    def delete(self, key):\n",
    "        self.root = delete_bst(self.root, key)\n",
    "    def display(self, msg = 'BSTMap:'):\n",
    "        print(msg, end='');\n",
    "        inorder(self.root)\n",
    "        print()\n",
    "\n",
    "class AVLMap(BSTMap):\n",
    "    def __init__(self):\n",
    "        super().__init__()\n",
    "    def insert(self, key, value = None):\n",
    "        n = BSTNode(key, value)\n",
    "        if self.isEmpty():\n",
    "            self.root = n\n",
    "        else:\n",
    "            self.root = insert_avl(self.root, n)\n",
    "            \n",
    "    def display(self, msg = 'AVLMap : '):\n",
    "        print(msg, end = '')\n",
    "        levelorder(self.root)\n",
    "        print()"
   ]
  },
  {
   "cell_type": "code",
   "execution_count": 27,
   "id": "86e59069",
   "metadata": {
    "ExecuteTime": {
     "end_time": "2023-11-21T13:00:23.615052Z",
     "start_time": "2023-11-21T13:00:23.600941Z"
    }
   },
   "outputs": [
    {
     "name": "stdout",
     "output_type": "stream",
     "text": [
      "AVL(7): 7 \n",
      "AVL(8): 7 8 \n",
      "AVL(9): 8 7 9 \n",
      "AVL(2): 8 7 9 2 \n",
      "AVL(1): 8 2 9 1 7 \n",
      "AVL(5): 7 2 8 1 5 9 \n",
      "AVL(3): 7 2 8 1 5 9 3 \n",
      "AVL(6): 7 2 8 1 5 9 3 6 \n",
      "AVL(4): 7 3 8 2 5 9 1 4 6 \n",
      " 노드의 개수 = 9\n",
      " 단말의 개수 = 4\n",
      " 트리의 개수 = 4\n"
     ]
    }
   ],
   "source": [
    "node = [7, 8, 9, 2, 1, 5, 3, 6, 4]\n",
    "map = AVLMap()\n",
    "\n",
    "for i in node:\n",
    "    map.insert(i)\n",
    "    map.display(\"AVL(%d): \"%i)\n",
    "\n",
    "print(\" 노드의 개수 = %d\" % count_node(map.root))\n",
    "print(\" 단말의 개수 = %d\" % count_leaf(map.root))\n",
    "print(\" 트리의 개수 = %d\" % calc_height(map.root))"
   ]
  },
  {
   "cell_type": "markdown",
   "id": "62c79f32",
   "metadata": {},
   "source": [
    "## 연습문제\n",
    "9.2: 가능하다, 모든 노드가 유일한 키를 가지며 왼쪽 서브트리의 키들은 루트의 키보다 작고  \n",
    "오른쪽 서브트리의 키들을 루트의 키보다 크며 오른쪽 왼쪽 서브트리 둘다 이진탐색트리이기 때문이다."
   ]
  },
  {
   "cell_type": "markdown",
   "id": "0409f3f3",
   "metadata": {},
   "source": [
    "9.4: 루트(8) 보다 작으므로 왼쪽 -> 3보다 크므로 오른쪽 -> 5보다 작으므로 왼쪽 -> 4"
   ]
  },
  {
   "cell_type": "markdown",
   "id": "8b73055e",
   "metadata": {},
   "source": [
    "9.12: 이진탐색은 정렬된 배열의 탐색에 적합하며 이때 시간복잡도는 O(log2 n)이다.  \n",
    "하지만 삽입 삭제에 있어서 O(n)이 소요된다.  \n",
    "이진탐색트리를 이용한 탐색은 균형트리의 경우 탐색, 삽입, 삭제 모두 O(log2 n)이다.  \n",
    "하지만 경사트리인 경우에는 모두 O(n)이 소요된다.\n",
    "\n",
    "9.14: 데이터가 오름차순이나 내림차순으로 입력될 경우엔 트리의 왼쪽이나 오른쪽으로만 성장하는 불균형한 이진탐색트리가 된다.\n",
    "\n",
    "9.15\n",
    "(1), O(log2 n) (2), O(log2 n) (3) O(log2 n) (4) O(log2 n) (5) O(1), (6), O(1) (7),O(log2 n)"
   ]
  },
  {
   "cell_type": "markdown",
   "id": "3cb568e4",
   "metadata": {},
   "source": [
    "## 실습문제\n",
    "- 9.1"
   ]
  },
  {
   "cell_type": "code",
   "execution_count": 28,
   "id": "38390b7b",
   "metadata": {
    "ExecuteTime": {
     "end_time": "2023-11-21T13:00:23.630336Z",
     "start_time": "2023-11-21T13:00:23.617564Z"
    }
   },
   "outputs": [],
   "source": [
    "def search_max_bst2(n):\n",
    "    if n != None and n.right is not None:\n",
    "        return search_max_bst2(n.right)\n",
    "    else:\n",
    "        return n"
   ]
  },
  {
   "cell_type": "code",
   "execution_count": 29,
   "id": "776e127e",
   "metadata": {
    "ExecuteTime": {
     "end_time": "2023-11-21T13:00:23.645950Z",
     "start_time": "2023-11-21T13:00:23.631874Z"
    }
   },
   "outputs": [],
   "source": [
    "def search_min_bst2(n):\n",
    "    if n != None and n.left is not None:\n",
    "        return search_min_bst2(n.left)\n",
    "    else:\n",
    "        return n"
   ]
  },
  {
   "cell_type": "code",
   "execution_count": 30,
   "id": "d9d326d7",
   "metadata": {
    "ExecuteTime": {
     "end_time": "2023-11-21T13:00:23.660824Z",
     "start_time": "2023-11-21T13:00:23.647378Z"
    }
   },
   "outputs": [
    {
     "name": "stdout",
     "output_type": "stream",
     "text": [
      "[삽입연산]:  [35, 18, 7, 26, 12, 3, 68, 22, 30, 99]\n",
      "BSTMap:3 7 12 18 22 26 30 35 68 99 \n",
      "최대키: 99\n",
      "최소키: 3\n"
     ]
    }
   ],
   "source": [
    "#테스트\n",
    "map = BSTMap()\n",
    "data = [35, 18, 7, 26, 12, 3, 68, 22, 30, 99]\n",
    "print(\"[삽입연산]: \", data)\n",
    "for key in data:\n",
    "    map.insert(key)\n",
    "map.display()\n",
    "\n",
    "print(\"최대키:\", map.findMax2())\n",
    "print(\"최소키:\", map.findMin2())"
   ]
  },
  {
   "cell_type": "markdown",
   "id": "b50f4af6",
   "metadata": {},
   "source": [
    "- 9.3"
   ]
  },
  {
   "cell_type": "code",
   "execution_count": 33,
   "id": "8a3a5e95",
   "metadata": {
    "ExecuteTime": {
     "end_time": "2023-11-21T13:01:42.174975Z",
     "start_time": "2023-11-21T13:01:42.169457Z"
    }
   },
   "outputs": [
    {
     "name": "stdout",
     "output_type": "stream",
     "text": [
      "[중위 순회]: 1 2 3 4 5 6 11 23 32 56 98 \n"
     ]
    }
   ],
   "source": [
    "def inorder_(data):\n",
    "    temp = BSTMap()\n",
    "    for i in data:\n",
    "        temp.insert(i)\n",
    "    temp.display(\"[중위 순회]: \")\n",
    "data = [11, 3, 4, 1, 56, 5, 6, 2, 98, 32, 23]\n",
    "inorder_(data)"
   ]
  }
 ],
 "metadata": {
  "kernelspec": {
   "display_name": "Python 3 (ipykernel)",
   "language": "python",
   "name": "python3"
  },
  "language_info": {
   "codemirror_mode": {
    "name": "ipython",
    "version": 3
   },
   "file_extension": ".py",
   "mimetype": "text/x-python",
   "name": "python",
   "nbconvert_exporter": "python",
   "pygments_lexer": "ipython3",
   "version": "3.9.12"
  },
  "toc": {
   "base_numbering": 1,
   "nav_menu": {},
   "number_sections": true,
   "sideBar": true,
   "skip_h1_title": false,
   "title_cell": "Table of Contents",
   "title_sidebar": "Contents",
   "toc_cell": false,
   "toc_position": {},
   "toc_section_display": true,
   "toc_window_display": false
  }
 },
 "nbformat": 4,
 "nbformat_minor": 5
}
