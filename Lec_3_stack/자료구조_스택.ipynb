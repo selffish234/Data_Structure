{
 "cells": [
  {
   "cell_type": "markdown",
   "id": "0c2858de",
   "metadata": {
    "ExecuteTime": {
     "end_time": "2023-09-24T12:08:42.087880Z",
     "start_time": "2023-09-24T12:08:42.012096Z"
    }
   },
   "source": [
    "## 스택의 활용(클래스)"
   ]
  },
  {
   "cell_type": "code",
   "execution_count": 55,
   "id": "00377229",
   "metadata": {
    "ExecuteTime": {
     "end_time": "2023-09-26T07:08:44.731979Z",
     "start_time": "2023-09-26T07:08:44.711168Z"
    }
   },
   "outputs": [],
   "source": [
    "class Stack :\n",
    "    def __init__(self):\n",
    "        self.top = []\n",
    "    \n",
    "    def isEmpty(self): return len(self.top) == 0\n",
    "    def size(self): return len(self.top)\n",
    "    def clear(self): self.top = []\n",
    "        \n",
    "    def push(self, item):\n",
    "        self.top.append(item)\n",
    "        \n",
    "    def pop(self):\n",
    "        if not self.isEmpty():\n",
    "            return self.top.pop(-1)\n",
    "        \n",
    "    def peek(self):\n",
    "        if not self.isEmpty():\n",
    "            return self.top[-1]\n",
    "        \n",
    "    def __str__(self):\n",
    "        return str(self.top[::])"
   ]
  },
  {
   "cell_type": "markdown",
   "id": "7641ee1f",
   "metadata": {},
   "source": [
    "## 괄호 검사 알고리즘"
   ]
  },
  {
   "cell_type": "code",
   "execution_count": 4,
   "id": "05557380",
   "metadata": {
    "ExecuteTime": {
     "end_time": "2023-09-26T05:02:51.756610Z",
     "start_time": "2023-09-26T05:02:51.746531Z"
    }
   },
   "outputs": [],
   "source": [
    "def checkBrackets(statement):\n",
    "    stack = Stack()\n",
    "    for ch in statement:\n",
    "        if ch in ('{', '[', '('):\n",
    "            stack.push(ch)\n",
    "        elif ch in ('}', ']', ')'):\n",
    "            if stack.isEmpty():\n",
    "                return False\n",
    "            else: \n",
    "                left = stack.pop()\n",
    "                if (ch == \"}\" and left != \"{\") or (ch == \"]\" and left != \"[\") or (ch == \")\" and left != \"(\"):\n",
    "                    return False\n",
    "                \n",
    "    return stack.isEmpty()"
   ]
  },
  {
   "cell_type": "markdown",
   "id": "8a85b107",
   "metadata": {},
   "source": [
    "## 후위 표기 수식 계산 알고리즘"
   ]
  },
  {
   "cell_type": "code",
   "execution_count": 5,
   "id": "5780b5b6",
   "metadata": {
    "ExecuteTime": {
     "end_time": "2023-09-26T05:02:52.099737Z",
     "start_time": "2023-09-26T05:02:52.082926Z"
    }
   },
   "outputs": [],
   "source": [
    "def evalPostfix(expr):\n",
    "    s = Stack()\n",
    "    for token in expr:\n",
    "        if token in \"+-*/\":\n",
    "            val2 = s.pop()\n",
    "            val1 = s.pop()\n",
    "            if (token == '+'): s.push(val1 + val2)\n",
    "            elif (token == '-'): s.push(val1 - val2)\n",
    "            elif (token ==\"*\"): s.push(val1 * val2)\n",
    "            elif (token == \"/\"): s.push(val1 / val2)\n",
    "        else :\n",
    "            s.push(float(token))\n",
    "    return s.pop()"
   ]
  },
  {
   "cell_type": "markdown",
   "id": "294ce5ac",
   "metadata": {},
   "source": [
    "## 중위 -> 후위 변환 알고리즘"
   ]
  },
  {
   "cell_type": "code",
   "execution_count": 6,
   "id": "14dd5a09",
   "metadata": {
    "ExecuteTime": {
     "end_time": "2023-09-26T05:02:52.411811Z",
     "start_time": "2023-09-26T05:02:52.405654Z"
    }
   },
   "outputs": [],
   "source": [
    "def precedence (op):\n",
    "    if op=='(' or op==\")\": return 0\n",
    "    elif op =='+' or op =='-' : return 1\n",
    "    elif op == '*' or op == \"/\" : return 2\n",
    "    else : return -1"
   ]
  },
  {
   "cell_type": "code",
   "execution_count": 7,
   "id": "600334de",
   "metadata": {
    "ExecuteTime": {
     "end_time": "2023-09-26T05:02:52.599627Z",
     "start_time": "2023-09-26T05:02:52.579061Z"
    }
   },
   "outputs": [],
   "source": [
    "def Infix2Postfix(expr):\n",
    "    s = Stack()\n",
    "    output = []\n",
    "    for term in expr:\n",
    "        if term in '(' :\n",
    "            s.push('(')\n",
    "        elif term in ')':\n",
    "            while not s.isEmpty():\n",
    "                op = s.pop()\n",
    "                if op == '(' : break;\n",
    "                else :\n",
    "                    output.append(op)\n",
    "        elif term in \"+-*/\" :\n",
    "            while not s.isEmpty():\n",
    "                op = s.peek()\n",
    "                if (precedence(term) <= precedence(op)):\n",
    "                    output.append(op)\n",
    "                    s.pop()\n",
    "                else: break\n",
    "            s.push(term)\n",
    "        else:\n",
    "            output.append(term)\n",
    "            \n",
    "    while not s.isEmpty():\n",
    "        output.append(s.pop())\n",
    "        \n",
    "    return output"
   ]
  },
  {
   "cell_type": "markdown",
   "id": "2aab0f17",
   "metadata": {},
   "source": [
    "## 깊이우선탐색 알고리즘"
   ]
  },
  {
   "cell_type": "code",
   "execution_count": 8,
   "id": "ce8663ab",
   "metadata": {
    "ExecuteTime": {
     "end_time": "2023-09-26T05:02:52.973518Z",
     "start_time": "2023-09-26T05:02:52.961478Z"
    }
   },
   "outputs": [],
   "source": [
    "#미로\n",
    "map = [['1', '1', '1', '1', '1', '1'],\n",
    "      [\"e\", \"0\", \"0\", \"0\", \"0\", \"1\"],\n",
    "      ['1', \"0\", \"1\", \"0\", \"1\", \"1\"],\n",
    "      ['1', '1', '1', '0', '0', 'x'],\n",
    "      ['1', '1', '1', \"0\", '1', '1'],\n",
    "      ['1', '1', '1', '1', '1', '1']]\n",
    "MAZE_SIZE = 6"
   ]
  },
  {
   "cell_type": "code",
   "execution_count": 9,
   "id": "6df5d300",
   "metadata": {
    "ExecuteTime": {
     "end_time": "2023-09-26T05:02:53.189575Z",
     "start_time": "2023-09-26T05:02:53.179892Z"
    }
   },
   "outputs": [],
   "source": [
    "#(x, y)가 갈 수 있는 방인지 검사하는 함수\n",
    "def isValidPos(x, y):\n",
    "    if x < 0 or y < 0 or x >= MAZE_SIZE or y >= MAZE_SIZE:\n",
    "        return False\n",
    "    else : \n",
    "        return map[y][x] == '0' or map[y][x] == \"x\""
   ]
  },
  {
   "cell_type": "code",
   "execution_count": 10,
   "id": "09593fc5",
   "metadata": {
    "ExecuteTime": {
     "end_time": "2023-09-26T05:02:53.623649Z",
     "start_time": "2023-09-26T05:02:53.615940Z"
    }
   },
   "outputs": [],
   "source": [
    "def DFS():\n",
    "    stack = Stack()\n",
    "    stack.push((0, 1))\n",
    "    print(\"DFS: \")\n",
    "    \n",
    "    while not stack.isEmpty():\n",
    "        here = stack.pop()\n",
    "        print(here, end ='->')\n",
    "        (x, y) = here\n",
    "        if (map[y][x] == \"x\"):\n",
    "            return True\n",
    "        else:\n",
    "            map[y][x] = '.'\n",
    "            if isValidPos(x, y - 1): stack.push((x, y - 1)) #상\n",
    "            if isValidPos(x, y + 1): stack.push((x, y + 1)) #하\n",
    "            if isValidPos(x - 1, y): stack.push((x - 1, y)) #좌\n",
    "            if isValidPos(x + 1, y ): stack.push((x + 1, y)) #우\n",
    "        print('현재 스택: ', stack) # 현재 스택 내용 출력\n",
    "    return False"
   ]
  },
  {
   "cell_type": "code",
   "execution_count": 11,
   "id": "11fdae20",
   "metadata": {
    "ExecuteTime": {
     "end_time": "2023-09-26T05:02:53.871994Z",
     "start_time": "2023-09-26T05:02:53.853524Z"
    }
   },
   "outputs": [
    {
     "name": "stdout",
     "output_type": "stream",
     "text": [
      "DFS: \n",
      "(0, 1)->현재 스택:  [(1, 1)]\n",
      "(1, 1)->현재 스택:  [(2, 1), (1, 2)]\n",
      "(2, 1)->현재 스택:  [(3, 1), (1, 2)]\n",
      "(3, 1)->현재 스택:  [(4, 1), (3, 2), (1, 2)]\n",
      "(4, 1)->현재 스택:  [(3, 2), (1, 2)]\n",
      "(3, 2)->현재 스택:  [(3, 3), (1, 2)]\n",
      "(3, 3)->현재 스택:  [(4, 3), (3, 4), (1, 2)]\n",
      "(4, 3)->현재 스택:  [(5, 3), (3, 4), (1, 2)]\n",
      "(5, 3)-> --> 미로탐색 성공\n"
     ]
    }
   ],
   "source": [
    "result = DFS()\n",
    "if result : print(\" --> 미로탐색 성공\")\n",
    "else : print(' --> 미로탐색 실패')"
   ]
  },
  {
   "cell_type": "code",
   "execution_count": 12,
   "id": "6187a125",
   "metadata": {
    "ExecuteTime": {
     "end_time": "2023-09-26T05:02:54.074818Z",
     "start_time": "2023-09-26T05:02:54.056920Z"
    }
   },
   "outputs": [
    {
     "name": "stdout",
     "output_type": "stream",
     "text": [
      "[9, 6, 3, 0]\n"
     ]
    }
   ],
   "source": [
    "values = Stack()\n",
    "for i in range(10) :\n",
    "    if i % 3 == 0:\n",
    "        values.push(i)\n",
    "print(values)"
   ]
  },
  {
   "cell_type": "code",
   "execution_count": 13,
   "id": "c5bdbe42",
   "metadata": {
    "ExecuteTime": {
     "end_time": "2023-09-26T05:02:54.277756Z",
     "start_time": "2023-09-26T05:02:54.258275Z"
    }
   },
   "outputs": [
    {
     "name": "stdout",
     "output_type": "stream",
     "text": [
      "[0]\n",
      "[0]\n",
      "[0]\n",
      "[3, 0]\n",
      "[0]\n",
      "[0]\n",
      "[6, 0]\n",
      "[6, 0]\n",
      "[0]\n",
      "[9, 0]\n",
      "[9, 0]\n",
      "[9, 0]\n",
      "[12, 9, 0]\n",
      "[12, 9, 0]\n",
      "[12, 9, 0]\n",
      "[15, 12, 9, 0]\n",
      "[12, 9, 0]\n",
      "[12, 9, 0]\n",
      "[18, 12, 9, 0]\n",
      "[18, 12, 9, 0]\n",
      "[18, 12, 9, 0]\n"
     ]
    }
   ],
   "source": [
    "values = Stack()\n",
    "for i in range(20):\n",
    "    if i % 3 == 0:\n",
    "        values.push(i)\n",
    "    elif i % 4 == 0:\n",
    "        values.pop()\n",
    "    print(values)\n",
    "print(values)"
   ]
  },
  {
   "cell_type": "code",
   "execution_count": 14,
   "id": "2352a1c7",
   "metadata": {
    "ExecuteTime": {
     "end_time": "2023-09-26T05:02:54.542394Z",
     "start_time": "2023-09-26T05:02:54.521273Z"
    },
    "scrolled": true
   },
   "outputs": [
    {
     "data": {
      "text/plain": [
       "1"
      ]
     },
     "execution_count": 14,
     "metadata": {},
     "output_type": "execute_result"
    }
   ],
   "source": [
    "1 % 3"
   ]
  },
  {
   "cell_type": "code",
   "execution_count": 15,
   "id": "506fce07",
   "metadata": {
    "ExecuteTime": {
     "end_time": "2023-09-26T05:02:54.744650Z",
     "start_time": "2023-09-26T05:02:54.731537Z"
    }
   },
   "outputs": [
    {
     "name": "stdout",
     "output_type": "stream",
     "text": [
      "0\n",
      "1\n",
      "2\n",
      "3\n",
      "4\n",
      "5\n",
      "6\n",
      "7\n",
      "8\n",
      "9\n"
     ]
    }
   ],
   "source": [
    "for i in range(10):\n",
    "    print(i)"
   ]
  },
  {
   "cell_type": "code",
   "execution_count": 16,
   "id": "4fff2049",
   "metadata": {
    "ExecuteTime": {
     "end_time": "2023-09-26T05:02:55.070530Z",
     "start_time": "2023-09-26T05:02:55.053320Z"
    }
   },
   "outputs": [],
   "source": [
    "string = \"abcde\" "
   ]
  },
  {
   "cell_type": "code",
   "execution_count": 17,
   "id": "e98d2312",
   "metadata": {
    "ExecuteTime": {
     "end_time": "2023-09-26T05:02:55.351490Z",
     "start_time": "2023-09-26T05:02:55.332075Z"
    }
   },
   "outputs": [
    {
     "data": {
      "text/plain": [
       "'e'"
      ]
     },
     "execution_count": 17,
     "metadata": {},
     "output_type": "execute_result"
    }
   ],
   "source": [
    "string[4]"
   ]
  },
  {
   "cell_type": "code",
   "execution_count": 18,
   "id": "fc0067db",
   "metadata": {
    "ExecuteTime": {
     "end_time": "2023-09-26T05:02:55.601273Z",
     "start_time": "2023-09-26T05:02:55.594115Z"
    }
   },
   "outputs": [
    {
     "data": {
      "text/plain": [
       "5"
      ]
     },
     "execution_count": 18,
     "metadata": {},
     "output_type": "execute_result"
    }
   ],
   "source": [
    "len(string)"
   ]
  },
  {
   "cell_type": "markdown",
   "id": "93c396b5",
   "metadata": {},
   "source": [
    "## p4.1"
   ]
  },
  {
   "cell_type": "code",
   "execution_count": 4,
   "id": "d6dcf896",
   "metadata": {
    "ExecuteTime": {
     "end_time": "2023-09-26T06:34:51.961406Z",
     "start_time": "2023-09-26T06:34:51.944669Z"
    }
   },
   "outputs": [],
   "source": [
    "def reverse(string):\n",
    "    rev = Stack()\n",
    "    for i in range(len(string)):\n",
    "        rev.push(string[i])\n",
    "    \n",
    "    rev_str = ''\n",
    "    while not rev.isEmpty():\n",
    "        rev_str += rev.pop()\n",
    "    \n",
    "    return rev_str"
   ]
  },
  {
   "cell_type": "code",
   "execution_count": 5,
   "id": "e8b873da",
   "metadata": {
    "ExecuteTime": {
     "end_time": "2023-09-26T06:34:55.325597Z",
     "start_time": "2023-09-26T06:34:55.314675Z"
    }
   },
   "outputs": [
    {
     "data": {
      "text/plain": [
       "'edcba'"
      ]
     },
     "execution_count": 5,
     "metadata": {},
     "output_type": "execute_result"
    }
   ],
   "source": [
    "reverse(\"abcde\")"
   ]
  },
  {
   "cell_type": "markdown",
   "id": "dedacebb",
   "metadata": {},
   "source": [
    "## p4.2"
   ]
  },
  {
   "cell_type": "code",
   "execution_count": 141,
   "id": "7c431475",
   "metadata": {
    "ExecuteTime": {
     "end_time": "2023-09-26T09:39:45.202016Z",
     "start_time": "2023-09-26T09:39:45.194767Z"
    }
   },
   "outputs": [],
   "source": [
    "def palindrome(string): #reverse 함수 미사용\n",
    "    palin = Stack()\n",
    "    result = string.replace(\" \", \"\")\n",
    "    result2 = result.replace(\".\", \"\")\n",
    "    result3 = result2.lower()\n",
    "    \n",
    "    for i in range(len(result3)):\n",
    "        palin.push(result3[i])\n",
    "\n",
    "    rev_palin = \"\"\n",
    "\n",
    "    while not palin.isEmpty():\n",
    "        rev_palin += palin.pop()\n",
    "    print(rev_palin)\n",
    "    print(result3)\n",
    "    return result3 == (rev_palin)\n"
   ]
  },
  {
   "cell_type": "code",
   "execution_count": 142,
   "id": "c11ad1ee",
   "metadata": {
    "ExecuteTime": {
     "end_time": "2023-09-26T09:39:46.898145Z",
     "start_time": "2023-09-26T09:39:46.880915Z"
    }
   },
   "outputs": [
    {
     "name": "stdout",
     "output_type": "stream",
     "text": [
      "emordnilapton\n",
      "notpalindrome\n"
     ]
    },
    {
     "data": {
      "text/plain": [
       "False"
      ]
     },
     "execution_count": 142,
     "metadata": {},
     "output_type": "execute_result"
    }
   ],
   "source": [
    "palindrome(\"not palindrome\")"
   ]
  },
  {
   "cell_type": "code",
   "execution_count": 143,
   "id": "9c741a6c",
   "metadata": {
    "ExecuteTime": {
     "end_time": "2023-09-26T09:39:54.303735Z",
     "start_time": "2023-09-26T09:39:54.292964Z"
    },
    "scrolled": true
   },
   "outputs": [
    {
     "name": "stdout",
     "output_type": "stream",
     "text": [
      "racecar\n",
      "racecar\n"
     ]
    },
    {
     "data": {
      "text/plain": [
       "True"
      ]
     },
     "execution_count": 143,
     "metadata": {},
     "output_type": "execute_result"
    }
   ],
   "source": [
    "palindrome(\"race . car\")"
   ]
  },
  {
   "cell_type": "code",
   "execution_count": 146,
   "id": "5fb3dfec",
   "metadata": {
    "ExecuteTime": {
     "end_time": "2023-09-26T09:40:26.597725Z",
     "start_time": "2023-09-26T09:40:26.577779Z"
    }
   },
   "outputs": [],
   "source": [
    "def palindrome2(string): #reverse 함수 사용\n",
    "    palin = Stack()\n",
    "    result = string.replace(\" \", \"\")\n",
    "    result2 = result.replace(\".\", \"\")\n",
    "    result3 = result2.lower()\n",
    "    \n",
    "    for i in range(len(result3)):\n",
    "        palin.push(result3[i])\n",
    "\n",
    "    rev_palin = reverse(result3)\n",
    "\n",
    "    print(rev_palin)\n",
    "    print(result3)\n",
    "    return result3 == (rev_palin)\n"
   ]
  },
  {
   "cell_type": "code",
   "execution_count": 147,
   "id": "0236b2d0",
   "metadata": {
    "ExecuteTime": {
     "end_time": "2023-09-26T09:40:27.940859Z",
     "start_time": "2023-09-26T09:40:27.921542Z"
    },
    "scrolled": true
   },
   "outputs": [
    {
     "name": "stdout",
     "output_type": "stream",
     "text": [
      "racecar\n",
      "racecar\n"
     ]
    },
    {
     "data": {
      "text/plain": [
       "True"
      ]
     },
     "execution_count": 147,
     "metadata": {},
     "output_type": "execute_result"
    }
   ],
   "source": [
    "palindrome2(\"race . car\")"
   ]
  },
  {
   "cell_type": "code",
   "execution_count": 148,
   "id": "6e970d89",
   "metadata": {
    "ExecuteTime": {
     "end_time": "2023-09-26T09:40:30.787293Z",
     "start_time": "2023-09-26T09:40:30.770327Z"
    }
   },
   "outputs": [
    {
     "name": "stdout",
     "output_type": "stream",
     "text": [
      "emordnilapton\n",
      "notpalindrome\n"
     ]
    },
    {
     "data": {
      "text/plain": [
       "False"
      ]
     },
     "execution_count": 148,
     "metadata": {},
     "output_type": "execute_result"
    }
   ],
   "source": [
    "palindrome2(\"not palindrome\")"
   ]
  }
 ],
 "metadata": {
  "kernelspec": {
   "display_name": "Python 3 (ipykernel)",
   "language": "python",
   "name": "python3"
  },
  "language_info": {
   "codemirror_mode": {
    "name": "ipython",
    "version": 3
   },
   "file_extension": ".py",
   "mimetype": "text/x-python",
   "name": "python",
   "nbconvert_exporter": "python",
   "pygments_lexer": "ipython3",
   "version": "3.9.12"
  },
  "toc": {
   "base_numbering": 1,
   "nav_menu": {},
   "number_sections": true,
   "sideBar": true,
   "skip_h1_title": false,
   "title_cell": "Table of Contents",
   "title_sidebar": "Contents",
   "toc_cell": false,
   "toc_position": {},
   "toc_section_display": true,
   "toc_window_display": false
  }
 },
 "nbformat": 4,
 "nbformat_minor": 5
}
