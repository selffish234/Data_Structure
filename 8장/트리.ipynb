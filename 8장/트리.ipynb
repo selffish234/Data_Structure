{
 "cells": [
  {
   "cell_type": "code",
   "execution_count": 1,
   "id": "03813409",
   "metadata": {
    "ExecuteTime": {
     "end_time": "2023-11-14T09:01:45.310070Z",
     "start_time": "2023-11-14T09:01:45.276127Z"
    }
   },
   "outputs": [],
   "source": [
    "#원형 큐의 구현\n",
    "MAX_QSIZE = 10 #원형 큐의 크기\n",
    "class CircularQueue:\n",
    "    def __init__(self): #CircularQueue 생성자\n",
    "        self.front = 0 # 큐의 전단 위치\n",
    "        self.rear = 0 # 큐의 후단 위치\n",
    "        self.items = [None]*MAX_QSIZE # 항목 저장용 리스트 [None, None,...]\n",
    "    def isEmpty(self): return self.front == self.rear\n",
    "    def isFull(self): return self.front == (self.rear+1)%MAX_QSIZE\n",
    "    def clear(self): self.front = self.rear\n",
    "    \n",
    "    def enqueue(self, item):\n",
    "        if not self.isFull():\n",
    "            self.rear = (self.rear+1)%MAX_QSIZE\n",
    "            self.items[self.rear] = item\n",
    "    \n",
    "    def dequeue(self):\n",
    "        if not self.isEmpty():\n",
    "            self.front = (self.front+1)%MAX_QSIZE\n",
    "            return self.items[self.front]\n",
    "        \n",
    "    def peek(self):\n",
    "        if not self.isEmpty():\n",
    "            return self.items[(self.front+1)%MAX_QSIZE]\n",
    "        \n",
    "    def size(self):\n",
    "        return (self.rear - self.front + MAX_QSIZE) % MAX_QSIZE\n",
    "    \n",
    "    def display(self):\n",
    "        out = []\n",
    "        if self.front < self.rear:\n",
    "            out = self.items[self.front+1:self.rear+1]\n",
    "        else:\n",
    "            out = self.items[self.front+1:MAX_QSIZE] + self.items[0:self.rear+1]\n",
    "        print(\"[f=%s, r=%d] ==>\"%(self.front, self.rear), out)"
   ]
  },
  {
   "cell_type": "markdown",
   "id": "41544f99",
   "metadata": {},
   "source": [
    "# 트리"
   ]
  },
  {
   "cell_type": "markdown",
   "id": "1ac00650",
   "metadata": {},
   "source": [
    "## 이진트리의 표현: 링크 표현법"
   ]
  },
  {
   "cell_type": "code",
   "execution_count": 2,
   "id": "472022c2",
   "metadata": {
    "ExecuteTime": {
     "end_time": "2023-11-14T09:01:45.733366Z",
     "start_time": "2023-11-14T09:01:45.722431Z"
    }
   },
   "outputs": [],
   "source": [
    "class TNode:\n",
    "    def __init__(self, data, left, right):\n",
    "        self.data = data\n",
    "        self.left = left\n",
    "        self.right = right"
   ]
  },
  {
   "cell_type": "markdown",
   "id": "68b20bff",
   "metadata": {},
   "source": [
    "### 전위 순회(preorder, VLR)"
   ]
  },
  {
   "cell_type": "code",
   "execution_count": 3,
   "id": "06b1ea77",
   "metadata": {
    "ExecuteTime": {
     "end_time": "2023-11-14T09:01:46.016263Z",
     "start_time": "2023-11-14T09:01:45.997239Z"
    }
   },
   "outputs": [],
   "source": [
    "def preorder(n): #전위 순회 함수\n",
    "    if n is not None:\n",
    "        print(n.data, end=\" \") #먼저 루트노드 처리(화면출력)\n",
    "        preorder(n.left) #왼쪽 서브트리 처리\n",
    "        preorder(n.right) #오른쪽 서브트리 처리"
   ]
  },
  {
   "cell_type": "markdown",
   "id": "fb4ecda7",
   "metadata": {},
   "source": [
    "### 중위 순회(inorder, LVR)"
   ]
  },
  {
   "cell_type": "code",
   "execution_count": 4,
   "id": "54d54bf9",
   "metadata": {
    "ExecuteTime": {
     "end_time": "2023-11-14T09:01:46.293068Z",
     "start_time": "2023-11-14T09:01:46.285826Z"
    }
   },
   "outputs": [],
   "source": [
    "def inorder(n): #전위 순회 함수\n",
    "    if n is not None:\n",
    "        inorder(n.left) #왼쪽 서브트리 처리\n",
    "        print(n.data, end=\" \") #루트노드 처리(화면 출력)\n",
    "        inorder(n.right) #오른쪽 서브트리 처리"
   ]
  },
  {
   "cell_type": "markdown",
   "id": "956be0cc",
   "metadata": {},
   "source": [
    "### 후위 순회(postorder, LRV)"
   ]
  },
  {
   "cell_type": "code",
   "execution_count": 5,
   "id": "03763c47",
   "metadata": {
    "ExecuteTime": {
     "end_time": "2023-11-14T09:01:46.587900Z",
     "start_time": "2023-11-14T09:01:46.578273Z"
    }
   },
   "outputs": [],
   "source": [
    "def postorder(n):\n",
    "    if n is not None:\n",
    "        postorder(n.left)\n",
    "        postorder(n.right)\n",
    "        print(n.data, end=\" \")"
   ]
  },
  {
   "cell_type": "markdown",
   "id": "30f4099a",
   "metadata": {},
   "source": [
    "### 레벨 순회 알고리즘"
   ]
  },
  {
   "cell_type": "code",
   "execution_count": 6,
   "id": "761c57ff",
   "metadata": {
    "ExecuteTime": {
     "end_time": "2023-11-14T09:01:46.883672Z",
     "start_time": "2023-11-14T09:01:46.868913Z"
    }
   },
   "outputs": [],
   "source": [
    "def levelorder(root):\n",
    "    queue = CircularQueue() # 큐 객체 초기화\n",
    "    queue.enqueue(root) #최초의 큐에는 루트노드만 들어있음\n",
    "    while not queue.isEmpty(): # 큐가 공백상태가 아닌 동안,\n",
    "        n = queue.dequeue() #큐에서 맨 앞의 노드 n을 꺼냄\n",
    "        if n is not None:\n",
    "            print(n.data, end = \" \") #먼저 노드의 정보를 출력\n",
    "            queue.enqueue(n.left) #n의 왼쪽 자식노드를 큐에 삽입\n",
    "            queue.enqueue(n.right) # n의 오른쪽 자식노드를 큐에 삽입"
   ]
  },
  {
   "cell_type": "markdown",
   "id": "376e187d",
   "metadata": {},
   "source": [
    "### 이진트리연산: 노드 개수, 단말 노드의 수"
   ]
  },
  {
   "cell_type": "markdown",
   "id": "d63e171a",
   "metadata": {},
   "source": [
    "#### 노드 개수"
   ]
  },
  {
   "cell_type": "code",
   "execution_count": 7,
   "id": "ff2b6fec",
   "metadata": {
    "ExecuteTime": {
     "end_time": "2023-11-14T09:01:47.320903Z",
     "start_time": "2023-11-14T09:01:47.308501Z"
    }
   },
   "outputs": [],
   "source": [
    "def count_node(n): #순환을 이용해 트리의 노드 수를 계산하는 함수\n",
    "    if n is None: #n이 None이면 공백 트리 --> 0을 반환\n",
    "        return 0\n",
    "    else: # 좌우 서브트리의 노드수의 함 +1을 반환 (순환이용)\n",
    "        return 1+ count_node(n.left)+count_node(n.right)"
   ]
  },
  {
   "cell_type": "markdown",
   "id": "dfb4edf4",
   "metadata": {},
   "source": [
    "#### 단말 노드의 수"
   ]
  },
  {
   "cell_type": "code",
   "execution_count": 8,
   "id": "e06cfbf0",
   "metadata": {
    "ExecuteTime": {
     "end_time": "2023-11-14T09:01:47.614372Z",
     "start_time": "2023-11-14T09:01:47.608339Z"
    }
   },
   "outputs": [],
   "source": [
    "def count_leaf(n):\n",
    "    if n is None:  #공백 트리 --> 0을 반환\n",
    "        return 0\n",
    "    elif n.left is None and n.right is None: #단말노드 --> 1을 반환\n",
    "        return 1\n",
    "    else : #비단말 노드 : 좌우 서브트리의 결과 함을 반환\n",
    "        return count_leaf(n.left) + count_leaf(n.right)"
   ]
  },
  {
   "cell_type": "markdown",
   "id": "e46165e0",
   "metadata": {},
   "source": [
    "### 이진트리연산: 트리 높이"
   ]
  },
  {
   "cell_type": "code",
   "execution_count": 9,
   "id": "07c83644",
   "metadata": {
    "ExecuteTime": {
     "end_time": "2023-11-14T09:01:47.940739Z",
     "start_time": "2023-11-14T09:01:47.919897Z"
    }
   },
   "outputs": [],
   "source": [
    "def calc_height(n):\n",
    "    if n is None: #공백 트리 --> 0을 반환\n",
    "        return 0\n",
    "    hLeft = calc_height(n.left) #왼쪽 트리의 높이 --> HLeft\n",
    "    hRight = calc_height(n.right) #오른쪽 트리의 높이 --> hRight\n",
    "    if(hLeft > hRight) : #더 높은 높이이에 1을 더해 반환\n",
    "        return hLeft + 1\n",
    "    else:\n",
    "        return hRight + 1\n",
    "    "
   ]
  },
  {
   "cell_type": "code",
   "execution_count": 10,
   "id": "4b8073bf",
   "metadata": {
    "ExecuteTime": {
     "end_time": "2023-11-14T09:01:48.095238Z",
     "start_time": "2023-11-14T09:01:48.077537Z"
    }
   },
   "outputs": [
    {
     "name": "stdout",
     "output_type": "stream",
     "text": [
      "The height of the tree is: 3\n"
     ]
    }
   ],
   "source": [
    "def calc_height(n):\n",
    "    # 1. 공백 트리인 경우 0을 반환\n",
    "    if n is None:\n",
    "        return 0\n",
    "    \n",
    "    # 2. 왼쪽 서브트리의 높이를 계산\n",
    "    hLeft = calc_height(n.left)\n",
    "    \n",
    "    # 3. 오른쪽 서브트리의 높이를 계산\n",
    "    hRight = calc_height(n.right)\n",
    "    \n",
    "    # 4. 현재 노드를 포함한 경로의 높이를 계산\n",
    "    if hLeft > hRight:\n",
    "        # 더 높은 서브트리의 높이에 1을 더한 값을 반환\n",
    "        return hLeft + 1\n",
    "    else:\n",
    "        return hRight + 1\n",
    "\n",
    "# 예시 트리 생성\n",
    "#      1\n",
    "#     / \\\n",
    "#    2   3\n",
    "#   / \\\n",
    "#  4   5\n",
    "root = TNode(1, TNode(2, TNode(4, None, None), TNode(5, None, None)), TNode(3, None, None))\n",
    "\n",
    "# 트리의 높이 계산\n",
    "height = calc_height(root)\n",
    "\n",
    "# 결과 출력\n",
    "print(f\"The height of the tree is: {height}\")"
   ]
  },
  {
   "cell_type": "markdown",
   "id": "15727e50",
   "metadata": {
    "ExecuteTime": {
     "end_time": "2023-11-13T11:46:02.111340Z",
     "start_time": "2023-11-13T11:46:02.100706Z"
    }
   },
   "source": [
    "### 테스트 프로그램"
   ]
  },
  {
   "cell_type": "code",
   "execution_count": 11,
   "id": "c5a68fe1",
   "metadata": {
    "ExecuteTime": {
     "end_time": "2023-11-14T09:01:48.408711Z",
     "start_time": "2023-11-14T09:01:48.393041Z"
    }
   },
   "outputs": [
    {
     "name": "stdout",
     "output_type": "stream",
     "text": [
      "\n",
      "  In-Order : D B E A F C \n",
      "  Pre-Order : A B D E C F \n",
      "  Post-Order : D E B F C A \n",
      "Level-Order : A B C D E F \n",
      "노드의 개수 = 6개\n",
      "단말의 개수 = 3개\n",
      "트리의 높이 = 3개\n"
     ]
    }
   ],
   "source": [
    "d = TNode(\"D\", None, None)\n",
    "e = TNode('E', None, None)\n",
    "b = TNode('B', d, e)\n",
    "f = TNode('F', None, None)\n",
    "c = TNode('C', f, None)\n",
    "root = TNode('A', b, c)\n",
    "\n",
    "print('\\n  In-Order : ', end = \"\")\n",
    "inorder(root)\n",
    "print('\\n  Pre-Order : ', end = \"\")\n",
    "preorder(root)\n",
    "print('\\n  Post-Order : ', end = \"\")\n",
    "postorder(root)\n",
    "print('\\nLevel-Order : ', end = \"\")\n",
    "levelorder(root)\n",
    "print()\n",
    "\n",
    "print(\"노드의 개수 = %d개\" % count_node(root))\n",
    "print(\"단말의 개수 = %d개\" % count_leaf(root))\n",
    "print(\"트리의 높이 = %d개\" % calc_height(root))"
   ]
  },
  {
   "cell_type": "markdown",
   "id": "b3051fb7",
   "metadata": {},
   "source": [
    "## 모스 코드의 결정 트리 알고리즘"
   ]
  },
  {
   "cell_type": "code",
   "execution_count": 12,
   "id": "9ce15c88",
   "metadata": {
    "ExecuteTime": {
     "end_time": "2023-11-14T09:01:48.722851Z",
     "start_time": "2023-11-14T09:01:48.700467Z"
    }
   },
   "outputs": [],
   "source": [
    "table = [\n",
    "    ('A', '.-'), ('B', '-...'), ('C', '-.-.'), ('D', '-..'), ('E', '.'), ('F', '..-.'), ('G', '--.'),\n",
    "    ('H', '....'), ('I', '..'), ('J', '.---'), ('K', '-.-'), ('L', '.-..'), ('M', '--'), ('N', '-.'),\n",
    "    ('O', '---'), ('P', '.--.'), ('Q', '--.-'), ('R', '.-.'), ('S', '...'), ('T', '-'), ('U', '..-'),\n",
    "    ('V', '...-'), ('W', '.--'), ('X', '-..-'), ('Y', '-.--'), ('Z', '--..'),\n",
    "    ('0', '-----'), ('1', '.----'), ('2', '..---'), ('3', '...--'), ('4', '....-'), ('5', '.....'),\n",
    "    ('6', '-....'), ('7', '--...'), ('8', '---..'), ('9', '----.')\n",
    "]\n"
   ]
  },
  {
   "cell_type": "code",
   "execution_count": 13,
   "id": "19c2fd55",
   "metadata": {
    "ExecuteTime": {
     "end_time": "2023-11-14T09:01:48.879101Z",
     "start_time": "2023-11-14T09:01:48.861929Z"
    }
   },
   "outputs": [],
   "source": [
    "def make_morse_tree():\n",
    "    root = TNode(None, None, None)\n",
    "    for tp in table:\n",
    "        code = tp[1]\n",
    "        node = root\n",
    "        for c in code:\n",
    "            if c == '.':\n",
    "                if node.left == None:\n",
    "                    node.left = TNode(None, None, None)\n",
    "                node = node.left\n",
    "            elif c == \"-\":\n",
    "                if node.right == None:\n",
    "                    node.right = TNode(None, None, None)\n",
    "                node = node.right\n",
    "                \n",
    "        node.data = tp[0]\n",
    "    return root"
   ]
  },
  {
   "cell_type": "code",
   "execution_count": 14,
   "id": "bf9c3a3f",
   "metadata": {
    "ExecuteTime": {
     "end_time": "2023-11-14T09:01:49.050606Z",
     "start_time": "2023-11-14T09:01:49.038507Z"
    }
   },
   "outputs": [],
   "source": [
    "def decode(root, code):\n",
    "    node = root\n",
    "    for c in code:\n",
    "        if c == '.':node = node.left\n",
    "        elif c=='-':node = node.right\n",
    "    return node.data\n",
    "\n",
    "def encode(ch):\n",
    "    idx = ord(ch) - ord(\"A\")\n",
    "    return table[idx][1]"
   ]
  },
  {
   "cell_type": "markdown",
   "id": "6bf5aa98",
   "metadata": {},
   "source": [
    "### 테스트 프로그램"
   ]
  },
  {
   "cell_type": "code",
   "execution_count": 15,
   "id": "4b14baf3",
   "metadata": {
    "ExecuteTime": {
     "end_time": "2023-11-14T09:01:49.530422Z",
     "start_time": "2023-11-14T09:01:49.352473Z"
    }
   },
   "outputs": [
    {
     "name": "stdout",
     "output_type": "stream",
     "text": [
      "입력 문장: \n",
      "Morse Code:  []\n",
      "Decoding :\n"
     ]
    }
   ],
   "source": [
    "morseCodeTree = make_morse_tree()\n",
    "str = input(\"입력 문장: \")\n",
    "mlist = []\n",
    "for ch in str:\n",
    "    code = encode(ch)\n",
    "    mlist.append(code)\n",
    "print(\"Morse Code: \", mlist)\n",
    "print(\"Decoding :\", end=\"\")\n",
    "for code in mlist:\n",
    "    ch = decode(morseCodeTree, code)\n",
    "    print(ch, end=\"\")\n",
    "print()"
   ]
  },
  {
   "cell_type": "markdown",
   "id": "cb0a0571",
   "metadata": {
    "ExecuteTime": {
     "end_time": "2023-11-13T12:11:25.112296Z",
     "start_time": "2023-11-13T12:11:25.097274Z"
    }
   },
   "source": [
    "## 최대 힙 클래스"
   ]
  },
  {
   "cell_type": "code",
   "execution_count": 16,
   "id": "93716a9c",
   "metadata": {
    "ExecuteTime": {
     "end_time": "2023-11-14T09:01:50.060343Z",
     "start_time": "2023-11-14T09:01:50.035265Z"
    }
   },
   "outputs": [],
   "source": [
    "class MaxHeap:\n",
    "    def __init__(self):\n",
    "        self.heap = []\n",
    "        self.heap.append(0)\n",
    "        \n",
    "    def size(self): return len(self.heap) -1\n",
    "    def isEmpty(self) : return self.size() == 0\n",
    "    def Parent(self, i) : return self.heap[i//2]\n",
    "    def Left(self, i) : return self.heap[i*2]\n",
    "    def Right(self, i): return self.heap[i*2+1]\n",
    "    def display(self, msg = '힙트리: '):\n",
    "        print(msg, self.heap[1:])\n",
    "    \n",
    "    #최대 힙: 삽입 연산\n",
    "    def insert(self, n):\n",
    "        self.heap.append(n)\n",
    "        i = self.size()\n",
    "        while (i != 1 and n > self.Parent(i)):\n",
    "            self.heap[i] = self.Parent(i)\n",
    "            i = i//2\n",
    "        self.heap[i] = n\n",
    "        \n",
    "    #최대 힙: 삭제 연산\n",
    "    def delete(self):\n",
    "        parent = 1\n",
    "        child = 2\n",
    "        if not self.isEmpty():\n",
    "            hroot = self.heap[1]\n",
    "            last = self.heap[self.size()]\n",
    "            while (child <= self.size()):\n",
    "                if child<self.size() and self.Left(parent)<self.Right(parent):\n",
    "                    child += 1\n",
    "                if last >= self.heap[child]:\n",
    "                    break;\n",
    "                self.heap[parent] = self.heap[child]\n",
    "                parent = child\n",
    "                child *= 2;\n",
    "                \n",
    "            self.heap[parent] = last\n",
    "            self.heap.pop(-1)\n",
    "            return hroot"
   ]
  },
  {
   "cell_type": "code",
   "execution_count": 17,
   "id": "c689957d",
   "metadata": {
    "ExecuteTime": {
     "end_time": "2023-11-14T09:01:50.263853Z",
     "start_time": "2023-11-14T09:01:50.236184Z"
    }
   },
   "outputs": [],
   "source": [
    "class MinHeap:\n",
    "    def __init__(self):\n",
    "        self.heap = []\n",
    "        self.heap.append(0)\n",
    "        \n",
    "    def size(self): return len(self.heap) - 1\n",
    "    def isEmpty(self): return self.size() == 0\n",
    "    def Parent(self, i): return self.heap[i // 2]\n",
    "    def Left(self, i): return self.heap[i * 2]\n",
    "    def Right(self, i): return self.heap[i * 2 + 1]\n",
    "    def display(self, msg='힙트리: '):\n",
    "        print(msg, self.heap[1:])\n",
    "    \n",
    "    # 최소 힙: 삽입 연산\n",
    "    def insert(self, n):\n",
    "        self.heap.append(n)\n",
    "        i = self.size()\n",
    "        while i != 1 and n < self.Parent(i):\n",
    "            self.heap[i] = self.Parent(i)\n",
    "            i = i // 2\n",
    "        self.heap[i] = n\n",
    "    \n",
    "    # 최소 힙: 삭제 연산\n",
    "    def delete(self):\n",
    "        parent = 1\n",
    "        child = 2\n",
    "        if not self.isEmpty():\n",
    "            hroot = self.heap[1]\n",
    "            last = self.heap[self.size()]\n",
    "            while child <= self.size():\n",
    "                if child < self.size() and self.Left(parent) > self.Right(parent):\n",
    "                    child += 1\n",
    "                if last <= self.heap[child]:\n",
    "                    break\n",
    "                self.heap[parent] = self.heap[child]\n",
    "                parent = child\n",
    "                child *= 2\n",
    "                \n",
    "            self.heap[parent] = last\n",
    "            self.heap.pop(-1)\n",
    "            return hroot\n"
   ]
  },
  {
   "cell_type": "markdown",
   "id": "6f871e7b",
   "metadata": {},
   "source": [
    "### 테스트 프로그램"
   ]
  },
  {
   "cell_type": "code",
   "execution_count": 18,
   "id": "61b2d07d",
   "metadata": {
    "ExecuteTime": {
     "end_time": "2023-11-14T09:01:50.621137Z",
     "start_time": "2023-11-14T09:01:50.611519Z"
    }
   },
   "outputs": [
    {
     "name": "stdout",
     "output_type": "stream",
     "text": [
      "[삽입 연산]: [2, 5, 4, 8, 9, 3, 7, 3]\n",
      "[삽입 후]: [9, 8, 7, 3, 5, 3, 4, 2]\n",
      "[삭제 후]: [8, 5, 7, 3, 2, 3, 4]\n",
      "[삭제 후]: [7, 5, 4, 3, 2, 3]\n"
     ]
    }
   ],
   "source": [
    "heap = MaxHeap()\n",
    "data = [2, 5, 4, 8, 9, 3, 7, 3]\n",
    "print(\"[삽입 연산]:\" ,data)\n",
    "for elem in data:\n",
    "    heap.insert(elem)\n",
    "heap.display('[삽입 후]:')\n",
    "heap.delete()\n",
    "heap.display('[삭제 후]:')\n",
    "heap.delete()\n",
    "heap.display('[삭제 후]:')"
   ]
  },
  {
   "cell_type": "markdown",
   "id": "99770c52",
   "metadata": {},
   "source": [
    "(허프만 코딩 트리 생성 프로그램 중)\n",
    "## 가장 작은 빈도수를 가지는 두 개의 노드 찾는 과정"
   ]
  },
  {
   "cell_type": "code",
   "execution_count": 19,
   "id": "98d9b998",
   "metadata": {
    "ExecuteTime": {
     "end_time": "2023-11-14T09:01:51.290765Z",
     "start_time": "2023-11-14T09:01:51.281784Z"
    }
   },
   "outputs": [],
   "source": [
    "def make_tree(freq):\n",
    "    heap = MinHeap()\n",
    "    for n in freq:\n",
    "        heap.insert(n)\n",
    "    \n",
    "    for _ in range(len(freq)-1):\n",
    "        e1 = heap.delete()\n",
    "        e2 = heap.delete()\n",
    "        heap.insert(e1 + e2)\n",
    "        print(\" (%d+%d)\" % (e1, e2))"
   ]
  },
  {
   "cell_type": "code",
   "execution_count": 20,
   "id": "b187c8fa",
   "metadata": {
    "ExecuteTime": {
     "end_time": "2023-11-14T09:01:51.633287Z",
     "start_time": "2023-11-14T09:01:51.624162Z"
    }
   },
   "outputs": [
    {
     "name": "stdout",
     "output_type": "stream",
     "text": [
      " (4+6)\n",
      " (8+10)\n",
      " (12+15)\n",
      " (18+27)\n"
     ]
    }
   ],
   "source": [
    "label = [\"E\", \"T\", \"N\", \"I\", \"S\"]\n",
    "freq = [15, 12, 8, 6, 4]\n",
    "make_tree(freq)"
   ]
  },
  {
   "cell_type": "markdown",
   "id": "ec18b5fa",
   "metadata": {},
   "source": [
    "# 연습문제  \n",
    "- 8.1 다음 트리에 대한 각 물음에 답하라  \n",
    "(1): A  \n",
    "(2): E, K, G, H, I, J  \n",
    "(3): A  \n",
    "(4): B, C  \n",
    "(5): H, I, J  \n",
    "(6) H, I, J  \n",
    "(7) F, B, A  \n",
    "(8): 레벨 2  \n",
    "(9): 3  \n",
    "(10): 4  \n",
    "(11): 3  \n",
    "(12):아니다. D의 자식노드가 3개이다.  \n",
    "- 8.3  \n",
    "최소높이: 4, 최대높이: 10  \n",
    "- 8.9  \n",
    "1: D, 2: B, 3: A, 4: E, 5: C, 6: F  \n",
    "- 8.10  \n",
    "E  \n",
    "- 8.11  \n",
    "1:A, 2:B, 3:/, 4:C, 5:*, 6:D, 7:*, 8:E, 9:+  \n",
    "- 8.12  \n",
    "(1) 경사트리  \n",
    "- 8.13  \n",
    "(4) 완전이진트리 \n",
    "- 8.16  \n",
    "루트를 삭제한다.  \n",
    "- 8.17  \n",
    "힙은 완전이진트리여서 중간에 빈칸이 없어 메모리 낭비가 없다.  \n",
    "또한 힙을 저장하는 효율적인 자료구조로 부모노드와 자식노드의 관계를 인덱스를 통해 쉽게 정의할수 있다.  \n",
    "- 8.18  \n",
    "트리의 높이에 비례한다.  \n",
    "- 8.19  \n",
    "(4) 데이터가 역순으로 정렬되어있을때  \n",
    "- 8.20 최소 힙에서 가장 작은 데이터가 있는 노드는?  \n",
    "루트노드  \n",
    "- 8.24 다음의 최소 힘 트리에서 답하라.\n",
    "(1) 1. 2를 12의 자식노드로 삽입, 2. 2가 12보다 작기에 부모노드와 2교환, 3. 2가 부모노드인 6보다도 작기에 상호 교환, 4. 2가 부모노드이자 루트노드인 3보다도 작기에 2와 3 위치 교환  \n",
    "(2) 먼저 루트노드인 3이 삭제되고 그 자리에 20이 들어간다.그 밑에 레벨에 6과 7중엔 6이 더 작으므로 6과 20의 위치를 교환한다.그 자식 노드들 중에서 13보다 12가 더 작으므로 12와 20의 위치를 교환한다.  \n"
   ]
  },
  {
   "cell_type": "markdown",
   "id": "5d25d2b5",
   "metadata": {},
   "source": [
    "# 실습문제"
   ]
  },
  {
   "cell_type": "markdown",
   "id": "9867655e",
   "metadata": {},
   "source": [
    "## 8.4"
   ]
  },
  {
   "cell_type": "code",
   "execution_count": 21,
   "id": "4f2cc931",
   "metadata": {
    "ExecuteTime": {
     "end_time": "2023-11-14T09:01:52.646778Z",
     "start_time": "2023-11-14T09:01:52.634761Z"
    }
   },
   "outputs": [],
   "source": [
    "def is_balanced(root):\n",
    "    if root is None:\n",
    "        return True\n",
    "\n",
    "    left_height = calc_height(root.left)\n",
    "    right_height = calc_height(root.right)\n",
    "\n",
    "    if abs(left_height - right_height) <= 1:\n",
    "        return is_balanced(root.left) and is_balanced(root.right)\n",
    "\n",
    "    return False"
   ]
  },
  {
   "cell_type": "markdown",
   "id": "00f6d04c",
   "metadata": {},
   "source": [
    "## 8.5"
   ]
  },
  {
   "cell_type": "code",
   "execution_count": 22,
   "id": "eedc7986",
   "metadata": {
    "ExecuteTime": {
     "end_time": "2023-11-14T09:01:53.393474Z",
     "start_time": "2023-11-14T09:01:53.383627Z"
    }
   },
   "outputs": [
    {
     "name": "stdout",
     "output_type": "stream",
     "text": [
      "경로의 길이의 합: 6\n"
     ]
    }
   ],
   "source": [
    "def path_length_sum(root, current_dpt = 0):\n",
    "    # 기저 사례: 노드가 None인 경우\n",
    "    if root is None:\n",
    "        return 0\n",
    "\n",
    "    # 현재 노드에서부터 자식 노드까지의 경로 길이의 합을 계산\n",
    "    current_path_length = current_dpt\n",
    "\n",
    "    # 왼쪽 서브트리로 이동하며 경로 길이의 합 계산\n",
    "    current_path_length += path_length_sum(root.left, current_dpt + 1)\n",
    "\n",
    "    # 오른쪽 서브트리로 이동하며 경로 길이의 합 계산\n",
    "    current_path_length += path_length_sum(root.right, current_dpt + 1)\n",
    "\n",
    "    return current_path_length\n",
    "\n",
    "root = TNode(1, TNode(2, TNode(4, None, None), TNode(5, None, None)), TNode(3, None, None))\n",
    "\n",
    "\n",
    "\n",
    "# 결과 출력\n",
    "print(\"경로의 길이의 합:\", path_length_sum(root))"
   ]
  },
  {
   "cell_type": "markdown",
   "id": "bc146f4d",
   "metadata": {},
   "source": [
    "## 8.8"
   ]
  },
  {
   "cell_type": "code",
   "execution_count": 55,
   "id": "142ac043",
   "metadata": {
    "ExecuteTime": {
     "end_time": "2023-11-14T09:18:30.721717Z",
     "start_time": "2023-11-14T09:18:30.700938Z"
    },
    "scrolled": true
   },
   "outputs": [
    {
     "name": "stdout",
     "output_type": "stream",
     "text": [
      "최대 힙 조건을 만족하는가? True\n",
      "최소 힙 조건을 만족하는가? False\n"
     ]
    }
   ],
   "source": [
    "def isMaxHeapIter(arr):\n",
    "    n = len(arr)\n",
    "\n",
    "    for i in range((n - 1) // 2, 0, -1):\n",
    "        left_child = 2 * i\n",
    "        right_child = 2 * i + 1\n",
    "\n",
    "        if left_child < n and arr[left_child] > arr[i]:\n",
    "            return False\n",
    "\n",
    "        if right_child < n and arr[right_child] > arr[i]:\n",
    "            return False\n",
    "\n",
    "    return True\n",
    "\n",
    "A = [None, 9, 7, 6, 5, 4, 3, 2, 2, 1, 3]\n",
    "\n",
    "print(\"최대 힙 조건을 만족하는가?\", isMaxHeapIter(A))\n",
    "print(\"최소 힙 조건을 만족하는가?\", isMinHeapIter(A))"
   ]
  },
  {
   "cell_type": "code",
   "execution_count": 56,
   "id": "d38155cb",
   "metadata": {
    "ExecuteTime": {
     "end_time": "2023-11-14T09:18:32.120860Z",
     "start_time": "2023-11-14T09:18:32.106959Z"
    }
   },
   "outputs": [
    {
     "name": "stdout",
     "output_type": "stream",
     "text": [
      "최대 힙 조건을 만족하는가? False\n",
      "최소 힙 조건을 만족하는가? True\n"
     ]
    }
   ],
   "source": [
    "def isMinHeapIter(arr):\n",
    "    n = len(arr)\n",
    "\n",
    "    for i in range((n - 1) // 2, 0, -1):\n",
    "        left_child = 2 * i\n",
    "        right_child = 2 * i + 1\n",
    "\n",
    "        if left_child < n and arr[left_child] < arr[i]:\n",
    "            return False\n",
    "\n",
    "        if right_child < n and arr[right_child] < arr[i]:\n",
    "            return False\n",
    "\n",
    "    return True\n",
    "\n",
    "A = [None, 9, 7, 6, 5, 4, 3, 2, 2, 1, 3]\n",
    "B = [None, 1, 4, 2, 7, 5, 3, 3, 7, 8, 9]\n",
    "print(\"최대 힙 조건을 만족하는가?\", isMaxHeapIter(B))\n",
    "print(\"최소 힙 조건을 만족하는가?\", isMinHeapIter(B))"
   ]
  },
  {
   "cell_type": "code",
   "execution_count": null,
   "id": "35799592",
   "metadata": {},
   "outputs": [],
   "source": []
  }
 ],
 "metadata": {
  "kernelspec": {
   "display_name": "Python 3 (ipykernel)",
   "language": "python",
   "name": "python3"
  },
  "language_info": {
   "codemirror_mode": {
    "name": "ipython",
    "version": 3
   },
   "file_extension": ".py",
   "mimetype": "text/x-python",
   "name": "python",
   "nbconvert_exporter": "python",
   "pygments_lexer": "ipython3",
   "version": "3.9.12"
  },
  "toc": {
   "base_numbering": 1,
   "nav_menu": {},
   "number_sections": true,
   "sideBar": true,
   "skip_h1_title": false,
   "title_cell": "Table of Contents",
   "title_sidebar": "Contents",
   "toc_cell": false,
   "toc_position": {},
   "toc_section_display": true,
   "toc_window_display": false
  }
 },
 "nbformat": 4,
 "nbformat_minor": 5
}
