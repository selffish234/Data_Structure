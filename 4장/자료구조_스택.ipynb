{
 "cells": [
  {
   "cell_type": "markdown",
   "id": "0c2858de",
   "metadata": {
    "ExecuteTime": {
     "end_time": "2023-09-24T12:08:42.087880Z",
     "start_time": "2023-09-24T12:08:42.012096Z"
    }
   },
   "source": [
    "## 스택의 활용(클래스)"
   ]
  },
  {
   "cell_type": "code",
   "execution_count": 27,
   "id": "00377229",
   "metadata": {
    "ExecuteTime": {
     "end_time": "2023-09-24T13:24:55.817152Z",
     "start_time": "2023-09-24T13:24:55.794141Z"
    }
   },
   "outputs": [],
   "source": [
    "class Stack :\n",
    "    def __init__(self):\n",
    "        self.top = []\n",
    "    \n",
    "    def isEmpty(self): return len(self.top) == 0\n",
    "    def size(self): return len(self.top)\n",
    "    def clear(self): self.top = []\n",
    "        \n",
    "    def push(self, item):\n",
    "        self.top.append(item)\n",
    "        \n",
    "    def pop(self):\n",
    "        if not self.isEmpty():\n",
    "            return self.top.pop(-1)\n",
    "        \n",
    "    def peek(self):\n",
    "        if not self.isEmpty():\n",
    "            return self.top[-1]\n",
    "        \n",
    "    def __str__(self):\n",
    "        return str(self.top[::-1])"
   ]
  },
  {
   "cell_type": "markdown",
   "id": "7641ee1f",
   "metadata": {},
   "source": [
    "## 괄호 검사 알고리즘"
   ]
  },
  {
   "cell_type": "code",
   "execution_count": 3,
   "id": "05557380",
   "metadata": {
    "ExecuteTime": {
     "end_time": "2023-09-24T12:19:15.877296Z",
     "start_time": "2023-09-24T12:19:15.859226Z"
    }
   },
   "outputs": [],
   "source": [
    "def checkBrackets(statement):\n",
    "    stack = Stack()\n",
    "    for ch in statement:\n",
    "        if ch in ('{', '[', '('):\n",
    "            stack.push(ch)\n",
    "        elif ch in ('}', ']', ')'):\n",
    "            if stack.isEmpty():\n",
    "                return False\n",
    "            else: \n",
    "                left = stack.pop()\n",
    "                if (ch == \"}\" and left != \"{\") or (ch == \"]\" and left != \"[\") or (ch == \")\" and left != \"(\"):\n",
    "                    return False\n",
    "                \n",
    "    return stack.isEmpty()"
   ]
  },
  {
   "cell_type": "markdown",
   "id": "8a85b107",
   "metadata": {},
   "source": [
    "## 후위 표기 수식 계산 알고리즘"
   ]
  },
  {
   "cell_type": "code",
   "execution_count": 4,
   "id": "5780b5b6",
   "metadata": {
    "ExecuteTime": {
     "end_time": "2023-09-24T12:25:57.633346Z",
     "start_time": "2023-09-24T12:25:57.609923Z"
    }
   },
   "outputs": [],
   "source": [
    "def evalPostfix(expr):\n",
    "    s = Stack()\n",
    "    for token in expr:\n",
    "        if token in \"+-*/\":\n",
    "            val2 = s.pop()\n",
    "            val1 = s.pop()\n",
    "            if (token == '+'): s.push(val1 + val2)\n",
    "            elif (token == '-'): s.push(val1 - val2)\n",
    "            elif (token ==\"*\"): s.push(val1 * val2)\n",
    "            elif (token == \"/\"): s.push(val1 / val2)\n",
    "        else :\n",
    "            s.push(float(token))\n",
    "    return s.pop()"
   ]
  },
  {
   "cell_type": "markdown",
   "id": "294ce5ac",
   "metadata": {},
   "source": [
    "## 중위 -> 후위 변환 알고리즘"
   ]
  },
  {
   "cell_type": "code",
   "execution_count": 5,
   "id": "14dd5a09",
   "metadata": {
    "ExecuteTime": {
     "end_time": "2023-09-24T12:28:39.390332Z",
     "start_time": "2023-09-24T12:28:39.371742Z"
    }
   },
   "outputs": [],
   "source": [
    "def precedence (op):\n",
    "    if op=='(' or op==\")\": return 0\n",
    "    elif op =='+' or op =='-' : return 1\n",
    "    elif op == '*' or op == \"/\" : return 2\n",
    "    else : return -1"
   ]
  },
  {
   "cell_type": "code",
   "execution_count": 8,
   "id": "600334de",
   "metadata": {
    "ExecuteTime": {
     "end_time": "2023-09-24T12:38:30.026000Z",
     "start_time": "2023-09-24T12:38:29.998394Z"
    }
   },
   "outputs": [],
   "source": [
    "def Infix2Postfix(expr):\n",
    "    s = Stack()\n",
    "    output = []\n",
    "    for term in expr:\n",
    "        if term in '(' :\n",
    "            s.push('(')\n",
    "        elif term in ')':\n",
    "            while not s.isEmpty():\n",
    "                op = s.pop()\n",
    "                if op == '(' : break;\n",
    "                else :\n",
    "                    output.append(op)\n",
    "        elif term in \"+-*/\" :\n",
    "            while not s.isEmpty():\n",
    "                op = s.peek()\n",
    "                if (precedence(term) <= precedence(op)):\n",
    "                    output.append(op)\n",
    "                    s.pop()\n",
    "                else: break\n",
    "            s.push(term)\n",
    "        else:\n",
    "            output.append(term)\n",
    "            \n",
    "    while not s.isEmpty():\n",
    "        output.append(s.pop())\n",
    "        \n",
    "    return output"
   ]
  },
  {
   "cell_type": "markdown",
   "id": "2aab0f17",
   "metadata": {},
   "source": [
    "## 깊이우선탐색 알고리즘"
   ]
  },
  {
   "cell_type": "code",
   "execution_count": 22,
   "id": "ce8663ab",
   "metadata": {
    "ExecuteTime": {
     "end_time": "2023-09-24T13:20:30.134514Z",
     "start_time": "2023-09-24T13:20:30.109617Z"
    }
   },
   "outputs": [],
   "source": [
    "#미로\n",
    "map = [['1', '1', '1', '1', '1', '1'],\n",
    "      [\"e\", \"0\", \"0\", \"0\", \"0\", \"1\"],\n",
    "      ['1', \"0\", \"1\", \"0\", \"1\", \"1\"],\n",
    "      ['1', '1', '1', '0', '0', 'x'],\n",
    "      ['1', '1', '1', \"0\", '1', '1'],\n",
    "      ['1', '1', '1', '1', '1', '1']]\n",
    "MAZE_SIZE = 6"
   ]
  },
  {
   "cell_type": "code",
   "execution_count": 31,
   "id": "6df5d300",
   "metadata": {
    "ExecuteTime": {
     "end_time": "2023-09-24T13:28:46.916958Z",
     "start_time": "2023-09-24T13:28:46.894615Z"
    }
   },
   "outputs": [],
   "source": [
    "#(x, y)가 갈 수 있는 방인지 검사하는 함수\n",
    "def isValidPos(x, y):\n",
    "    if x < 0 or y < 0 or x >= MAZE_SIZE or y >= MAZE_SIZE:\n",
    "        return False\n",
    "    else : \n",
    "        return map[y][x] == '0' or map[y][x] == \"x\""
   ]
  },
  {
   "cell_type": "code",
   "execution_count": 32,
   "id": "09593fc5",
   "metadata": {
    "ExecuteTime": {
     "end_time": "2023-09-24T13:28:48.785659Z",
     "start_time": "2023-09-24T13:28:48.753160Z"
    }
   },
   "outputs": [],
   "source": [
    "def DFS():\n",
    "    stack = Stack()\n",
    "    stack.push((0, 1))\n",
    "    print(\"DFS: \")\n",
    "    \n",
    "    while not stack.isEmpty():\n",
    "        here = stack.pop()\n",
    "        print(here, end ='->')\n",
    "        (x, y) = here\n",
    "        if (map[y][x] == \"x\"):\n",
    "            return True\n",
    "        else:\n",
    "            map[y][x] = '.'\n",
    "            if isValidPos(x, y - 1): stack.push((x, y - 1)) #상\n",
    "            if isValidPos(x, y + 1): stack.push((x, y + 1)) #하\n",
    "            if isValidPos(x - 1, y): stack.push((x - 1, y)) #좌\n",
    "            if isValidPos(x + 1, y ): stack.push((x + 1, y)) #우\n",
    "        print('현재 스택: ', stack) # 현재 스택 내용 출력\n",
    "    return False"
   ]
  },
  {
   "cell_type": "code",
   "execution_count": 33,
   "id": "11fdae20",
   "metadata": {
    "ExecuteTime": {
     "end_time": "2023-09-24T13:28:50.343655Z",
     "start_time": "2023-09-24T13:28:50.322402Z"
    }
   },
   "outputs": [
    {
     "name": "stdout",
     "output_type": "stream",
     "text": [
      "DFS: \n",
      "(0, 1)->현재 스택:  [(1, 1)]\n",
      "(1, 1)->현재 스택:  [(2, 1), (1, 2)]\n",
      "(2, 1)->현재 스택:  [(3, 1), (1, 2)]\n",
      "(3, 1)->현재 스택:  [(4, 1), (3, 2), (1, 2)]\n",
      "(4, 1)->현재 스택:  [(3, 2), (1, 2)]\n",
      "(3, 2)->현재 스택:  [(3, 3), (1, 2)]\n",
      "(3, 3)->현재 스택:  [(4, 3), (3, 4), (1, 2)]\n",
      "(4, 3)->현재 스택:  [(5, 3), (3, 4), (1, 2)]\n",
      "(5, 3)-> --> 미로탐색 성공\n"
     ]
    }
   ],
   "source": [
    "result = DFS()\n",
    "if result : print(\" --> 미로탐색 성공\")\n",
    "else : print(' --> 미로탐색 실패')"
   ]
  }
 ],
 "metadata": {
  "kernelspec": {
   "display_name": "Python 3 (ipykernel)",
   "language": "python",
   "name": "python3"
  },
  "language_info": {
   "codemirror_mode": {
    "name": "ipython",
    "version": 3
   },
   "file_extension": ".py",
   "mimetype": "text/x-python",
   "name": "python",
   "nbconvert_exporter": "python",
   "pygments_lexer": "ipython3",
   "version": "3.9.12"
  },
  "toc": {
   "base_numbering": 1,
   "nav_menu": {},
   "number_sections": true,
   "sideBar": true,
   "skip_h1_title": false,
   "title_cell": "Table of Contents",
   "title_sidebar": "Contents",
   "toc_cell": false,
   "toc_position": {},
   "toc_section_display": true,
   "toc_window_display": false
  }
 },
 "nbformat": 4,
 "nbformat_minor": 5
}
