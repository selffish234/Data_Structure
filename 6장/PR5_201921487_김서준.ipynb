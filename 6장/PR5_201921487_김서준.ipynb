{
  "nbformat": 4,
  "nbformat_minor": 0,
  "metadata": {
    "colab": {
      "provenance": []
    },
    "kernelspec": {
      "name": "python3",
      "display_name": "Python 3"
    },
    "language_info": {
      "name": "python"
    }
  },
  "cells": [
    {
      "cell_type": "markdown",
      "source": [
        "# 노드 클래스"
      ],
      "metadata": {
        "id": "Tv2i0zlGU5c7"
      }
    },
    {
      "cell_type": "code",
      "execution_count": 2,
      "metadata": {
        "id": "NSCK4WFEQjfn"
      },
      "outputs": [],
      "source": [
        "class Node:\n",
        "  def __init__(self, elem, link=None):\n",
        "    self.data = elem\n",
        "    self.link = link"
      ]
    },
    {
      "cell_type": "markdown",
      "source": [
        "# 연결된 스택 클래스"
      ],
      "metadata": {
        "id": "KzWUHf8dVBmp"
      }
    },
    {
      "cell_type": "code",
      "source": [
        "class Linkedstack:\n",
        "  def __init__(self):\n",
        "    self.top = None\n",
        "\n",
        "  def isEmpty(self): return self.top == None\n",
        "  def clear(self): self.top = None\n",
        "\n",
        "  #삽입 연산\n",
        "  def push(self, item):\n",
        "    n = Node(item, self.top)\n",
        "    self.top = n\n",
        "  #삭제 연산\n",
        "  def pop(self):\n",
        "    if not self.isEmpty():\n",
        "      n = self.top\n",
        "      self.top = self.n.link\n",
        "      return n.data\n",
        "  #전체 노드의 방문\n",
        "  def size(self):\n",
        "    node = self.top\n",
        "    count = 0\n",
        "    while not node == None:\n",
        "      node = node.link\n",
        "      count += 1\n",
        "    return count\n",
        "  def display(self, msg):\n",
        "    print(msg)\n",
        "    node = self.top\n",
        "    while node is not None:\n",
        "      print(node.data, end=\" \")\n",
        "      node = node.link\n",
        "    print()"
      ],
      "metadata": {
        "id": "DQNw-UDjUGbH"
      },
      "execution_count": 5,
      "outputs": []
    },
    {
      "cell_type": "markdown",
      "source": [
        "# 단순연결리스트 응용: 연결 리스트"
      ],
      "metadata": {
        "id": "2XC8c4vhVFlb"
      }
    },
    {
      "cell_type": "code",
      "source": [
        "class LinkedList:\n",
        "  def __init__(self):\n",
        "    self.head = None\n",
        "\n",
        "  def isEmpty(self): return self.head == None\n",
        "  def clear(self): self.head = None\n",
        "  def size(self):\n",
        "    node = self.head\n",
        "    count = 0\n",
        "    while not node == None:\n",
        "      node = node.link\n",
        "      count += 1\n",
        "    return count\n",
        "  def display(self, msg):\n",
        "    print(msg, end = \"\")\n",
        "    node = self.head\n",
        "    while node is not None:\n",
        "      print(node.data, \"->\", end=\" \")\n",
        "      node = node.link\n",
        "    print(None)\n",
        "  # pos번째 노드 반환\n",
        "  def getNode(self, pos):\n",
        "    if pos < 0 : return None\n",
        "    node = self.head\n",
        "    while pos > 0 and node != None:\n",
        "      node = node.link\n",
        "      pos -= 1\n",
        "    return node\n",
        "\n",
        "  # 항복의 데이터만을 반환\n",
        "  def getEntry(self, pos):\n",
        "    node = self.getNode(pos)\n",
        "    if node == None: return None\n",
        "    else : return node.data\n",
        "\n",
        "\n",
        "  # 어떤 위치의 항목을 다른 데이터로 변경\n",
        "  def replace(self, pos, elem):\n",
        "    node = self.getNode(pos)\n",
        "    if node != None:\n",
        "      node.data = elem\n",
        "\n",
        "  # 원하는 데이터를 가진 노드를 찾는 함수\n",
        "  def find(self, data):\n",
        "    node = self.head\n",
        "    while node is not None:\n",
        "      if node.data == data: return node\n",
        "      node = node.link\n",
        "    return node\n",
        "\n",
        "  # 삽입연산\n",
        "  def insert(self, pos, elem):\n",
        "    before = self.getNode(pos-1)\n",
        "    if before == None:\n",
        "      self.head = Node(elem, self.head)\n",
        "    else:\n",
        "      node = Node(elem, before.link)\n",
        "      before.link = node\n",
        "\n",
        "  #삭제 연산\n",
        "  def delete(self, pos):\n",
        "    before = self.getNode(pos-1)\n",
        "    if before == None:\n",
        "      if self.head is not None:\n",
        "        self.head = self.head.link\n",
        "\n",
        "    elif before.link != None:\n",
        "      before.link = before.link.link"
      ],
      "metadata": {
        "id": "3fg2BiRvXGiw"
      },
      "execution_count": 48,
      "outputs": []
    },
    {
      "cell_type": "markdown",
      "source": [
        "# 테스트 프로그램"
      ],
      "metadata": {
        "id": "jIUqG-hZyyn4"
      }
    },
    {
      "cell_type": "code",
      "source": [
        "s = LinkedList()\n",
        "s.display(\"단순연결리스트로 구현한 리스트(초기상태): \")\n",
        "s.insert(0, 10); s.insert(0, 20); s.insert(1, 30)\n",
        "s.insert(s.size(), 40); s.insert(2, 50)\n",
        "s.display(\"단순연결리스트로 구현한 리스트(삽입x5): \")\n",
        "s.replace(2, 90)\n",
        "s.display(\"단순연결리스트로 구현한 리스트(교체x1): \")\n",
        "s.delete(2); s.delete(s.size() -1); s.delete(0)\n",
        "s.display(\"단순연결리스트로 구현한 리스트(삭제x3): \")\n",
        "s.clear()\n",
        "s.display(\"단순연결리스트로 구현한 리스트(정리후): \")"
      ],
      "metadata": {
        "colab": {
          "base_uri": "https://localhost:8080/"
        },
        "id": "Uxo1KcQRzM73",
        "outputId": "92583254-f21e-4ce2-b99e-2735696b8141"
      },
      "execution_count": 49,
      "outputs": [
        {
          "output_type": "stream",
          "name": "stdout",
          "text": [
            "단순연결리스트로 구현한 리스트(초기상태): None\n",
            "단순연결리스트로 구현한 리스트(삽입x5): 20 -> 30 -> 50 -> 10 -> 40 -> None\n",
            "단순연결리스트로 구현한 리스트(교체x1): 20 -> 30 -> 90 -> 10 -> 40 -> None\n",
            "단순연결리스트로 구현한 리스트(삭제x3): 30 -> 10 -> None\n",
            "단순연결리스트로 구현한 리스트(정리후): None\n"
          ]
        }
      ]
    },
    {
      "cell_type": "markdown",
      "source": [
        "# 연결된 큐 클래스"
      ],
      "metadata": {
        "id": "LPVPabeu2FyK"
      }
    },
    {
      "cell_type": "code",
      "source": [
        "class CircularLinkedQueue:\n",
        "  def __init__(self):\n",
        "    self.tail = None\n",
        "\n",
        "  def isEmpty(self): return self.tail == None\n",
        "  def clear(self): self.tail = None\n",
        "  def peek(self):\n",
        "    if not self.isEmpty():\n",
        "      return self.tail.ink.data\n",
        "\n",
        "  #삽입 연산\n",
        "  def enqueue(self, item):\n",
        "    node = Node(item, None)\n",
        "    if self.isEmpty():\n",
        "      node.link = node\n",
        "      self.tail = node\n",
        "    else:\n",
        "      node.link = self.tail.link\n",
        "      self.tail.link = node\n",
        "      self.tail = node\n",
        "\n",
        "  #삭제 연산\n",
        "  def dequeue(self):\n",
        "    if not self.isEmpty():\n",
        "      data = self.tail.link.data\n",
        "      if self.tail.link == self.tail:\n",
        "        self.tail = None\n",
        "      else:\n",
        "        self.tail.link = self.tail.link.link\n",
        "      return data\n",
        "\n",
        "  # 전체 노드의 방문\n",
        "  def size(self):\n",
        "    if self.isEmpty(): return 0\n",
        "    else :\n",
        "      count = 1\n",
        "      node = self.tail.link\n",
        "      while not node == self.tail:\n",
        "        node = node.link\n",
        "        count += 1\n",
        "      return count\n",
        "\n",
        "  def display(self, msg = \"CircularLinkedQueue: \"):\n",
        "    print(msg, end=\"\")\n",
        "    if not self.isEmpty():\n",
        "      node = self.tail.link\n",
        "      while not node == self.tail:\n",
        "        print(node.data, end = ' ')\n",
        "        node = node.link\n",
        "      print(node.data, end=\" \")\n",
        "    print()"
      ],
      "metadata": {
        "id": "yAPLFlXo2VyV"
      },
      "execution_count": 44,
      "outputs": []
    },
    {
      "cell_type": "markdown",
      "source": [
        "# 테스트 프로그램"
      ],
      "metadata": {
        "id": "OMRdG9mw8fEg"
      }
    },
    {
      "cell_type": "code",
      "source": [
        "q = CircularLinkedQueue()\n",
        "q.enqueue(0); q.enqueue(1); q.enqueue(2)\n",
        "q.enqueue(3); q.enqueue(4);q.enqueue(5);q.enqueue(6); q.enqueue(7)\n",
        "q.display()\n",
        "for i in range(q.size() - 3):\n",
        "  q.dequeue()\n",
        "q.display()\n",
        "for i in range(8, 14):\n",
        "  q.enqueue(i)\n",
        "q.display()"
      ],
      "metadata": {
        "colab": {
          "base_uri": "https://localhost:8080/"
        },
        "id": "VN0WCJH-8cxN",
        "outputId": "ec128521-0a4e-428a-ef5e-a2642ea12b8b"
      },
      "execution_count": 46,
      "outputs": [
        {
          "output_type": "stream",
          "name": "stdout",
          "text": [
            "CircularLinkedQueue: 0 1 2 3 4 5 6 7 \n",
            "CircularLinkedQueue: 5 6 7 \n",
            "CircularLinkedQueue: 5 6 7 8 9 10 11 12 13 \n"
          ]
        }
      ]
    },
    {
      "cell_type": "markdown",
      "source": [
        "# 이중연결리스트로 구현한 덱"
      ],
      "metadata": {
        "id": "FTVxA6ZkAuhg"
      }
    },
    {
      "cell_type": "code",
      "source": [
        "class DNode:\n",
        "  def __init__(self, elem, prev = None, next = None):\n",
        "    self.data = elem\n",
        "    self.prev = prev\n",
        "    self.next = next"
      ],
      "metadata": {
        "id": "Kwxgs_daAtNf"
      },
      "execution_count": 47,
      "outputs": []
    },
    {
      "cell_type": "code",
      "source": [
        "class DoublyLinkedDeque:\n",
        "  def __init__(self):\n",
        "    self.front = None\n",
        "    self.rear = None\n",
        "\n",
        "  def isEmpty(self): return self.front == None\n",
        "  def clear(slef): self.front = self.rear = None\n",
        "  def size(self):\n",
        "    node = self.front\n",
        "    count = 0\n",
        "    while not node == None:\n",
        "      node = node.link\n",
        "      count += 1\n",
        "    return count\n",
        "  def display(self, msg = \"CircularLinkedDeque: \"):\n",
        "    print(msg, end = \"\")\n",
        "    node = self.front\n",
        "    while node is not None:\n",
        "      print(node.data, end=\" \")\n",
        "      node = node.next\n",
        "    print()\n",
        "\n",
        "  #addFront(), addRear()\n",
        "  def addFront(self, item):\n",
        "    node = DNode(item, None, self.front)\n",
        "    if(self.isEmpty()):\n",
        "      self.front = self.rear = node\n",
        "    else:\n",
        "      self.front.prev = node\n",
        "      self.front = node\n",
        "\n",
        "  def addRear(self, item):\n",
        "    node = DNode(item, self.rear, None)\n",
        "    if(self.isEmpty()):\n",
        "      self.front = self.rear = node\n",
        "    else:\n",
        "      self.rear.next = node\n",
        "      self.rear = node\n",
        "\n",
        "  #deleteFront(), deleteRear()\n",
        "\n",
        "  def deleteFront(self):\n",
        "    if not self.isEmpty():\n",
        "      data  = self.front.data\n",
        "      self.front = self.front.next\n",
        "      if self.front == None:\n",
        "        self.rear = None\n",
        "      else:\n",
        "        self.front.prev = None\n",
        "      return data\n",
        "\n",
        "  def deleteRear(self):\n",
        "    if not self.isEmpty():\n",
        "      data = self.rear.data\n",
        "      self.rear = self.rear.prev\n",
        "      if self.rear == None:\n",
        "        self.front = None\n",
        "      else:\n",
        "        self.rear.next = None\n",
        "      return data"
      ],
      "metadata": {
        "id": "qVVOCzEDBPeN"
      },
      "execution_count": 58,
      "outputs": []
    },
    {
      "cell_type": "markdown",
      "source": [
        "# 테스트 프로그램"
      ],
      "metadata": {
        "id": "0MHhrBQlESWy"
      }
    },
    {
      "cell_type": "code",
      "source": [
        "dq = DoublyLinkedDeque()\n",
        "for i in range(9):\n",
        "    if i%2==0:dq.addRear(i)\n",
        "    else: dq.addFront(i)\n",
        "dq.display()\n",
        "for i in range(2): dq.deleteFront()\n",
        "for i in range(3): dq.deleteRear()\n",
        "dq.display()\n",
        "for i in range(9, 14): dq.addFront(i)\n",
        "dq.display()"
      ],
      "metadata": {
        "colab": {
          "base_uri": "https://localhost:8080/"
        },
        "id": "Zi_ZXB07EVho",
        "outputId": "8bbc6c8e-337f-462c-98f5-c7ad35a736e5"
      },
      "execution_count": 59,
      "outputs": [
        {
          "output_type": "stream",
          "name": "stdout",
          "text": [
            "CircularLinkedDeque: 7 5 3 1 0 2 4 6 8 \n",
            "CircularLinkedDeque: 3 1 0 2 \n",
            "CircularLinkedDeque: 13 12 11 10 9 3 1 0 2 \n"
          ]
        }
      ]
    }
  ]
}