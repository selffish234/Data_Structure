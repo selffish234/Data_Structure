{
 "cells": [
  {
   "cell_type": "markdown",
   "metadata": {
    "id": "Tv2i0zlGU5c7"
   },
   "source": [
    "# 노드 클래스"
   ]
  },
  {
   "cell_type": "code",
   "execution_count": 5,
   "metadata": {
    "ExecuteTime": {
     "end_time": "2023-10-16T09:22:10.250596Z",
     "start_time": "2023-10-16T09:22:10.242911Z"
    },
    "id": "NSCK4WFEQjfn"
   },
   "outputs": [],
   "source": [
    "class Node:\n",
    "    def __init__(self, elem, link=None):\n",
    "        self.data = elem\n",
    "        self.link = link"
   ]
  },
  {
   "cell_type": "markdown",
   "metadata": {
    "id": "KzWUHf8dVBmp"
   },
   "source": [
    "# 단순 연결리스트 응용: 연결된 스택 클래스"
   ]
  },
  {
   "cell_type": "code",
   "execution_count": 26,
   "metadata": {
    "ExecuteTime": {
     "end_time": "2023-10-16T09:37:56.113503Z",
     "start_time": "2023-10-16T09:37:56.099844Z"
    },
    "id": "DQNw-UDjUGbH"
   },
   "outputs": [],
   "source": [
    "class LinkedStack:\n",
    "    def __init__(self):\n",
    "        self.top = None\n",
    "\n",
    "    def isEmpty(self):\n",
    "        return self.top is None\n",
    "\n",
    "    def clear(self):\n",
    "        self.top = None\n",
    "\n",
    "    # 삽입 연산\n",
    "    def push(self, item):\n",
    "        n = Node(item, self.top)\n",
    "        self.top = n\n",
    "\n",
    "    # 삭제 연산\n",
    "    def pop(self):\n",
    "        if not self.isEmpty():\n",
    "            n = self.top\n",
    "            self.top = self.top.link\n",
    "            return n.data\n",
    "\n",
    "    # 전체 노드의 방문\n",
    "    def size(self):\n",
    "        node = self.top\n",
    "        count = 0\n",
    "        while node is not None:\n",
    "            node = node.link\n",
    "            count += 1\n",
    "        return count\n",
    "\n",
    "    def display(self, msg):\n",
    "        print(msg)\n",
    "        node = self.top\n",
    "        while node is not None:\n",
    "            print(node.data, end=\" \")\n",
    "            node = node.link\n",
    "        print()"
   ]
  },
  {
   "cell_type": "code",
   "execution_count": 28,
   "metadata": {
    "ExecuteTime": {
     "end_time": "2023-10-16T09:38:00.231077Z",
     "start_time": "2023-10-16T09:38:00.214381Z"
    }
   },
   "outputs": [],
   "source": [
    "class LinkedStack:\n",
    "    def __init__(self):\n",
    "        self.top = None\n",
    "\n",
    "    def isEmpty(self):\n",
    "        return self.top is None\n",
    "\n",
    "    def clear(self):\n",
    "        self.top = None\n",
    "\n",
    "    # 삽입 연산\n",
    "    def push(self, item):\n",
    "        n = Node(item, self.top)\n",
    "        self.top = n\n",
    "\n",
    "    # 삭제 연산\n",
    "    def pop(self):\n",
    "        if not self.isEmpty():\n",
    "            n = self.top\n",
    "            self.top = self.top.link\n",
    "            return n.data\n",
    "\n",
    "    # 전체 노드의 방문\n",
    "    def size(self):\n",
    "        node = self.top\n",
    "        count = 0\n",
    "        while node is not None:\n",
    "            node = node.link\n",
    "            count += 1\n",
    "        return count\n",
    "\n",
    "    def display(self, msg):\n",
    "        print(msg)\n",
    "        node = self.top\n",
    "        while node is not None:\n",
    "            print(node.data, end=\" \")\n",
    "            node = node.link\n",
    "        print()\n"
   ]
  },
  {
   "cell_type": "markdown",
   "metadata": {
    "id": "2XC8c4vhVFlb"
   },
   "source": [
    "# 단순연결리스트 응용: 연결 리스트"
   ]
  },
  {
   "cell_type": "code",
   "execution_count": 9,
   "metadata": {
    "ExecuteTime": {
     "end_time": "2023-10-16T09:22:34.873956Z",
     "start_time": "2023-10-16T09:22:34.854758Z"
    },
    "id": "3fg2BiRvXGiw"
   },
   "outputs": [],
   "source": [
    "class LinkedList:\n",
    "    def __init__(self):\n",
    "        self.head = None\n",
    "\n",
    "    def isEmpty(self):\n",
    "        return self.head is None\n",
    "\n",
    "    def clear(self):\n",
    "        self.head = None\n",
    "\n",
    "    def size(self):\n",
    "        node = self.head\n",
    "        count = 0\n",
    "        while node is not None:\n",
    "            node = node.link\n",
    "            count += 1\n",
    "        return count\n",
    "\n",
    "    def display(self, msg):\n",
    "        print(msg, end=\"\")\n",
    "        node = self.head\n",
    "        while node is not None:\n",
    "            print(node.data, \"->\", end=\" \")\n",
    "            node = node.link\n",
    "        print(None)\n",
    "\n",
    "    # pos번째 노드 반환\n",
    "    def getNode(self, pos):\n",
    "        if pos < 0:\n",
    "            return None\n",
    "        node = self.head\n",
    "        while pos > 0 and node is not None:\n",
    "            node = node.link\n",
    "            pos -= 1\n",
    "        return node\n",
    "\n",
    "    # 항목의 데이터만을 반환\n",
    "    def getEntry(self, pos):\n",
    "        node = self.getNode(pos)\n",
    "        if node is None:\n",
    "            return None\n",
    "        else:\n",
    "            return node.data\n",
    "\n",
    "    # 어떤 위치의 항목을 다른 데이터로 변경\n",
    "    def replace(self, pos, elem):\n",
    "        node = self.getNode(pos)\n",
    "        if node is not None:\n",
    "            node.data = elem\n",
    "\n",
    "    # 원하는 데이터를 가진 노드를 찾는 함수\n",
    "    def find(self, data):\n",
    "        node = self.head\n",
    "        while node is not None:\n",
    "            if node.data == data:\n",
    "                return node\n",
    "            node = node.link\n",
    "        return node\n",
    "\n",
    "    # 삽입 연산\n",
    "    def insert(self, pos, elem):\n",
    "        before = self.getNode(pos - 1)\n",
    "        if before is None:\n",
    "            self.head = Node(elem, self.head)\n",
    "        else:\n",
    "            node = Node(elem, before.link)\n",
    "            before.link = node\n",
    "\n",
    "    # 삭제 연산\n",
    "    def delete(self, pos):\n",
    "        before = self.getNode(pos - 1)\n",
    "        if before is None:\n",
    "            if self.head is not None:\n",
    "                self.head = self.head.link\n",
    "        elif before.link is not None:\n",
    "            before.link = before.link.link"
   ]
  },
  {
   "cell_type": "markdown",
   "metadata": {
    "id": "jIUqG-hZyyn4"
   },
   "source": [
    "# 테스트 프로그램"
   ]
  },
  {
   "cell_type": "code",
   "execution_count": 10,
   "metadata": {
    "ExecuteTime": {
     "end_time": "2023-10-16T09:22:36.913955Z",
     "start_time": "2023-10-16T09:22:36.900046Z"
    },
    "colab": {
     "base_uri": "https://localhost:8080/"
    },
    "id": "Uxo1KcQRzM73",
    "outputId": "92583254-f21e-4ce2-b99e-2735696b8141"
   },
   "outputs": [
    {
     "name": "stdout",
     "output_type": "stream",
     "text": [
      "단순연결리스트로 구현한 리스트(초기상태): None\n",
      "단순연결리스트로 구현한 리스트(삽입x5): 20 -> 30 -> 50 -> 10 -> 40 -> None\n",
      "단순연결리스트로 구현한 리스트(교체x1): 20 -> 30 -> 90 -> 10 -> 40 -> None\n",
      "단순연결리스트로 구현한 리스트(삭제x3): 30 -> 10 -> None\n",
      "단순연결리스트로 구현한 리스트(정리후): None\n"
     ]
    }
   ],
   "source": [
    "s = LinkedList()\n",
    "s.display(\"단순연결리스트로 구현한 리스트(초기상태): \")\n",
    "s.insert(0, 10); s.insert(0, 20); s.insert(1, 30)\n",
    "s.insert(s.size(), 40); s.insert(2, 50)\n",
    "s.display(\"단순연결리스트로 구현한 리스트(삽입x5): \")\n",
    "s.replace(2, 90)\n",
    "s.display(\"단순연결리스트로 구현한 리스트(교체x1): \")\n",
    "s.delete(2); s.delete(s.size() -1); s.delete(0)\n",
    "s.display(\"단순연결리스트로 구현한 리스트(삭제x3): \")\n",
    "s.clear()\n",
    "s.display(\"단순연결리스트로 구현한 리스트(정리후): \")"
   ]
  },
  {
   "cell_type": "markdown",
   "metadata": {
    "id": "LPVPabeu2FyK"
   },
   "source": [
    "# 연결된 큐 클래스"
   ]
  },
  {
   "cell_type": "code",
   "execution_count": 12,
   "metadata": {
    "ExecuteTime": {
     "end_time": "2023-10-16T09:23:19.357521Z",
     "start_time": "2023-10-16T09:23:19.338149Z"
    },
    "id": "yAPLFlXo2VyV"
   },
   "outputs": [],
   "source": [
    "class CircularLinkedQueue:\n",
    "    def __init__(self):\n",
    "        self.tail = None\n",
    "\n",
    "    def isEmpty(self):\n",
    "        return self.tail is None\n",
    "\n",
    "    def clear(self):\n",
    "        self.tail = None\n",
    "\n",
    "    def peek(self):\n",
    "        if not self.isEmpty():\n",
    "            return self.tail.link.data\n",
    "\n",
    "    # 삽입 연산\n",
    "    def enqueue(self, item):\n",
    "        node = Node(item, None)\n",
    "        if self.isEmpty():\n",
    "            node.link = node\n",
    "            self.tail = node\n",
    "        else:\n",
    "            node.link = self.tail.link\n",
    "            self.tail.link = node\n",
    "            self.tail = node\n",
    "\n",
    "    # 삭제 연산\n",
    "    def dequeue(self):\n",
    "        if not self.isEmpty():\n",
    "            data = self.tail.link.data\n",
    "            if self.tail.link == self.tail:\n",
    "                self.tail = None\n",
    "            else:\n",
    "                self.tail.link = self.tail.link.link\n",
    "            return data\n",
    "\n",
    "    # 전체 노드의 방문\n",
    "    def size(self):\n",
    "        if self.isEmpty():\n",
    "            return 0\n",
    "        else:\n",
    "            count = 1\n",
    "            node = self.tail.link\n",
    "            while not node == self.tail:\n",
    "                node = node.link\n",
    "                count += 1\n",
    "            return count\n",
    "\n",
    "    def display(self, msg=\"CircularLinkedQueue: \"):\n",
    "        print(msg, end=\"\")\n",
    "        if not self.isEmpty():\n",
    "            node = self.tail.link\n",
    "            while not node == self.tail:\n",
    "                print(node.data, end=' ')\n",
    "                node = node.link\n",
    "            print(node.data, end=\" \")\n",
    "        print()\n"
   ]
  },
  {
   "cell_type": "markdown",
   "metadata": {
    "id": "OMRdG9mw8fEg"
   },
   "source": [
    "# 테스트 프로그램"
   ]
  },
  {
   "cell_type": "code",
   "execution_count": 13,
   "metadata": {
    "ExecuteTime": {
     "end_time": "2023-10-16T09:23:20.977242Z",
     "start_time": "2023-10-16T09:23:20.964692Z"
    },
    "colab": {
     "base_uri": "https://localhost:8080/"
    },
    "id": "VN0WCJH-8cxN",
    "outputId": "ec128521-0a4e-428a-ef5e-a2642ea12b8b"
   },
   "outputs": [
    {
     "name": "stdout",
     "output_type": "stream",
     "text": [
      "CircularLinkedQueue: 0 1 2 3 4 5 6 7 \n",
      "CircularLinkedQueue: 5 6 7 \n",
      "CircularLinkedQueue: 5 6 7 8 9 10 11 12 13 \n"
     ]
    }
   ],
   "source": [
    "q = CircularLinkedQueue()\n",
    "q.enqueue(0); q.enqueue(1); q.enqueue(2)\n",
    "q.enqueue(3); q.enqueue(4);q.enqueue(5);q.enqueue(6); q.enqueue(7)\n",
    "q.display()\n",
    "for i in range(q.size() - 3):\n",
    "    q.dequeue()\n",
    "q.display()\n",
    "for i in range(8, 14):\n",
    "    q.enqueue(i)\n",
    "q.display()"
   ]
  },
  {
   "cell_type": "markdown",
   "metadata": {
    "id": "FTVxA6ZkAuhg"
   },
   "source": [
    "# 이중연결리스트로 구현한 덱"
   ]
  },
  {
   "cell_type": "code",
   "execution_count": 14,
   "metadata": {
    "ExecuteTime": {
     "end_time": "2023-10-16T09:23:42.750056Z",
     "start_time": "2023-10-16T09:23:42.742668Z"
    },
    "id": "Kwxgs_daAtNf"
   },
   "outputs": [],
   "source": [
    "class DNode:\n",
    "    def __init__(self, elem, prev = None, next = None):\n",
    "        self.data = elem\n",
    "        self.prev = prev\n",
    "        self.next = next"
   ]
  },
  {
   "cell_type": "code",
   "execution_count": 15,
   "metadata": {
    "ExecuteTime": {
     "end_time": "2023-10-16T09:24:12.643059Z",
     "start_time": "2023-10-16T09:24:12.622550Z"
    },
    "id": "qVVOCzEDBPeN"
   },
   "outputs": [],
   "source": [
    "class DoublyLinkedDeque:\n",
    "    def __init__(self):\n",
    "        self.front = None\n",
    "        self.rear = None\n",
    "\n",
    "    def isEmpty(self):\n",
    "        return self.front is None\n",
    "\n",
    "    def clear(self):\n",
    "        self.front = self.rear = None\n",
    "\n",
    "    def size(self):\n",
    "        node = self.front\n",
    "        count = 0\n",
    "        while node is not None:\n",
    "            node = node.link\n",
    "            count += 1\n",
    "        return count\n",
    "\n",
    "    def display(self, msg=\"CircularLinkedDeque: \"):\n",
    "        print(msg, end=\"\")\n",
    "        node = self.front\n",
    "        while node is not None:\n",
    "            print(node.data, end=\" \")\n",
    "            node = node.next\n",
    "        print()\n",
    "\n",
    "    # addFront(), addRear()\n",
    "    def addFront(self, item):\n",
    "        node = DNode(item, None, self.front)\n",
    "        if self.isEmpty():\n",
    "            self.front = self.rear = node\n",
    "        else:\n",
    "            self.front.prev = node\n",
    "            self.front = node\n",
    "\n",
    "    def addRear(self, item):\n",
    "        node = DNode(item, self.rear, None)\n",
    "        if self.isEmpty():\n",
    "            self.front = self.rear = node\n",
    "        else:\n",
    "            self.rear.next = node\n",
    "            self.rear = node\n",
    "\n",
    "    # deleteFront(), deleteRear()\n",
    "    def deleteFront(self):\n",
    "        if not self.isEmpty():\n",
    "            data = self.front.data\n",
    "            self.front = self.front.next\n",
    "            if self.front is None:\n",
    "                self.rear = None\n",
    "            else:\n",
    "                self.front.prev = None\n",
    "            return data\n",
    "\n",
    "    def deleteRear(self):\n",
    "        if not self.isEmpty():\n",
    "            data = self.rear.data\n",
    "            self.rear = self.rear.prev\n",
    "            if self.rear is None:\n",
    "                self.front = None\n",
    "            else:\n",
    "                self.rear.next = None\n",
    "            return data\n"
   ]
  },
  {
   "cell_type": "markdown",
   "metadata": {
    "id": "0MHhrBQlESWy"
   },
   "source": [
    "# 테스트 프로그램"
   ]
  },
  {
   "cell_type": "code",
   "execution_count": 16,
   "metadata": {
    "ExecuteTime": {
     "end_time": "2023-10-16T09:24:14.053557Z",
     "start_time": "2023-10-16T09:24:14.038786Z"
    },
    "colab": {
     "base_uri": "https://localhost:8080/"
    },
    "id": "Zi_ZXB07EVho",
    "outputId": "8bbc6c8e-337f-462c-98f5-c7ad35a736e5"
   },
   "outputs": [
    {
     "name": "stdout",
     "output_type": "stream",
     "text": [
      "CircularLinkedDeque: 7 5 3 1 0 2 4 6 8 \n",
      "CircularLinkedDeque: 3 1 0 2 \n",
      "CircularLinkedDeque: 13 12 11 10 9 3 1 0 2 \n"
     ]
    }
   ],
   "source": [
    "dq = DoublyLinkedDeque()\n",
    "for i in range(9):\n",
    "    if i%2==0:dq.addRear(i)\n",
    "    else: dq.addFront(i)\n",
    "dq.display()\n",
    "for i in range(2): dq.deleteFront()\n",
    "for i in range(3): dq.deleteRear()\n",
    "dq.display()\n",
    "for i in range(9, 14): dq.addFront(i)\n",
    "dq.display()"
   ]
  },
  {
   "cell_type": "markdown",
   "metadata": {},
   "source": [
    "# 연습문제"
   ]
  },
  {
   "cell_type": "markdown",
   "metadata": {},
   "source": [
    "## 연습문제 6.2"
   ]
  },
  {
   "cell_type": "markdown",
   "metadata": {},
   "source": [
    "   * O(1) 인 size를 알려주는 함수 def getsize(self):생성 \n"
   ]
  },
  {
   "cell_type": "code",
   "execution_count": null,
   "metadata": {},
   "outputs": [],
   "source": [
    "class LinkedStack:\n",
    "    def __init__(self):\n",
    "        self.top = None\n",
    "        self.size = 0  # size() 연산의 시간 복잡도를 O(n)에서 O(1)로 개선하기 위한 항목의 수를 관리하는 변수 추가\n",
    "\n",
    "    def isEmpty(self):\n",
    "        return self.top is None\n",
    "\n",
    "    def clear(self):\n",
    "        self.top = None\n",
    "        self.size = 0  # 스택을 비울 때 항목 수를 초기화시키는 기능 추가\n",
    "\n",
    "    def push(self, item):\n",
    "        n = Node(item, self.top)\n",
    "        self.top = n\n",
    "        self.size += 1  # 삽입할 때 항목 수를 증가시키는 기능 추가\n",
    "\n",
    "    def pop(self):\n",
    "        if not self.isEmpty():\n",
    "            n = self.top\n",
    "            self.top = self.top.link\n",
    "            self.size -= 1  # 삭제할 때 항목 수를 감소시키는 기능 추가\n",
    "            return n.data\n",
    "\n",
    "    def getsize(self):\n",
    "        return self.size  # 항목 수를 반환, 시간 복잡도 O(1)\n",
    "\n",
    "    def display(self, msg):\n",
    "        print(msg)\n",
    "        node = self.top\n",
    "        while node is not None:\n",
    "            print(node.data, end=\" \")\n",
    "            node = node.link\n",
    "        print()"
   ]
  },
  {
   "cell_type": "markdown",
   "metadata": {},
   "source": [
    "## 연습문제 6.3"
   ]
  },
  {
   "cell_type": "markdown",
   "metadata": {},
   "source": [
    "1, p 는 p.link, p.link 는 노드 A  \n",
    "2, p는 A.link, A.link는 노드 B  \n",
    "3, p는 B.link, B.link는 노드 C  \n",
    "4, p는 C.link, C.link는 노드 D  \n",
    "5, p.link 는 D.link이고 이는 None이기 때문에 while 문 종료  \n",
    "그렇기 때문에 실행이 끝난 후 포인터 p는 노드 D를 가리킨다."
   ]
  },
  {
   "cell_type": "markdown",
   "metadata": {},
   "source": [
    "## 연습문제 6.4"
   ]
  },
  {
   "cell_type": "markdown",
   "metadata": {
    "ExecuteTime": {
     "end_time": "2023-10-16T05:57:30.514197Z",
     "start_time": "2023-10-16T05:57:30.506199Z"
    }
   },
   "source": [
    "\n",
    "```python\n",
    "p = list\n",
    "while p.link != None :\n",
    "    print(p.data)\n",
    "    p = p.link\n",
    "```"
   ]
  },
  {
   "cell_type": "markdown",
   "metadata": {},
   "source": [
    "## 연습문제 6.5"
   ]
  },
  {
   "cell_type": "markdown",
   "metadata": {},
   "source": [
    "```python\n",
    "p = list\n",
    "stack = []\n",
    "while p.link != None :\n",
    "    p = p.link\n",
    "    stack.append(p.data)\n",
    "    \n",
    "for i in range(len(stack)):\n",
    "    stack.pop()\n",
    "```"
   ]
  },
  {
   "cell_type": "markdown",
   "metadata": {
    "ExecuteTime": {
     "end_time": "2023-10-16T06:26:27.941211Z",
     "start_time": "2023-10-16T06:26:27.928924Z"
    }
   },
   "source": [
    "## 연습문제 6.6"
   ]
  },
  {
   "cell_type": "markdown",
   "metadata": {},
   "source": [
    "정답: (2) newNode.link = preNode.link"
   ]
  },
  {
   "cell_type": "markdown",
   "metadata": {},
   "source": [
    "## 연습문제 6.7"
   ]
  },
  {
   "cell_type": "markdown",
   "metadata": {},
   "source": [
    "정답: (3) (b)에서 자료 C를 가져오려면 pop연산이 2회 필요하다.\n",
    "먼저 pop 한번으로 A, 그리고 2번째 pop으로 B, 세번째 pop으로 C을 가져올 수 있다."
   ]
  },
  {
   "cell_type": "markdown",
   "metadata": {},
   "source": [
    "## 연습문제 6.8"
   ]
  },
  {
   "cell_type": "markdown",
   "metadata": {},
   "source": [
    "정답: (4) deleteLast 연산: 덱의 마지막 원소를 삭제  \n",
    "last를 앞으로 한칸 옮겨야 하는데 last의 선행 노드를 바로 알 수가 없음"
   ]
  },
  {
   "cell_type": "markdown",
   "metadata": {},
   "source": [
    "## 연습문제 6.11"
   ]
  },
  {
   "cell_type": "markdown",
   "metadata": {},
   "source": [
    "연결된 큐를 원형연결리스트로 구현할 때는 rear == tail 이고 head == tail.link로 나타 낼 수 있기 때문에 tail을 사용하는 것이 rear 와 head에 바로 접근할 수 있다는 점에서 훨씬 효율적이다."
   ]
  },
  {
   "cell_type": "markdown",
   "metadata": {},
   "source": [
    "# 실습문제"
   ]
  },
  {
   "cell_type": "markdown",
   "metadata": {},
   "source": [
    "## 실습문제 6.2"
   ]
  },
  {
   "cell_type": "code",
   "execution_count": 19,
   "metadata": {
    "ExecuteTime": {
     "end_time": "2023-10-16T09:32:18.341904Z",
     "start_time": "2023-10-16T09:32:18.322402Z"
    }
   },
   "outputs": [],
   "source": [
    "    def merge(self, B_list):\n",
    "        if B_list.head != None:\n",
    "            if self.head == None:\n",
    "                self.head = B_list.head\n",
    "            else:\n",
    "                current = self.head\n",
    "                while current.link != None:\n",
    "                    current = current.link\n",
    "                current.link = B_list.head\n",
    "            B_list.clear()\n"
   ]
  },
  {
   "cell_type": "code",
   "execution_count": 25,
   "metadata": {
    "ExecuteTime": {
     "end_time": "2023-10-16T09:35:12.087843Z",
     "start_time": "2023-10-16T09:35:12.067007Z"
    },
    "scrolled": true
   },
   "outputs": [
    {
     "name": "stdout",
     "output_type": "stream",
     "text": [
      "merged A : 1 -> 2 -> 3 -> 4 -> 5 -> 6 -> 7 -> 8 -> 9 -> 10 -> None\n",
      "B : None\n"
     ]
    }
   ],
   "source": [
    "A = LinkedList()\n",
    "B = LinkedList()\n",
    "\n",
    "for item in [1, 2, 3, 4, 5]:\n",
    "    A.insert(A.size(), item)\n",
    "\n",
    "for item in [6, 7, 8, 9, 10]:\n",
    "    B.insert(B.size(), item)\n",
    "\n",
    "# 두 LinkedList 병합\n",
    "A.merge(B)\n",
    "\n",
    "# 결과 출력\n",
    "A.display(\"merged A : \")\n",
    "B.display(\"B : \")"
   ]
  },
  {
   "cell_type": "markdown",
   "metadata": {},
   "source": [
    "## 실습문제 6.3"
   ]
  },
  {
   "cell_type": "code",
   "execution_count": 46,
   "metadata": {
    "ExecuteTime": {
     "end_time": "2023-10-16T10:27:06.774168Z",
     "start_time": "2023-10-16T10:27:06.752606Z"
    }
   },
   "outputs": [],
   "source": [
    "class LinkedQueue:\n",
    "    def __init__(self):\n",
    "        self.front = None\n",
    "        self.tail = None\n",
    "        \n",
    "    def isEmpty(self):\n",
    "        return self.front == None\n",
    "    \n",
    "    def clear(self):\n",
    "        self.front = None\n",
    "        self.tail = None\n",
    "     \n",
    "    def peek(self):\n",
    "        if not self.isEmpty():\n",
    "            return self.front.data\n",
    "\n",
    "    # 삽입 연산\n",
    "    def enqueue(self, item):\n",
    "        node = Node(item, None)\n",
    "        if self.isEmpty():\n",
    "            self.front = node\n",
    "            self.tail = node\n",
    "        else:\n",
    "            self.tail.link = node\n",
    "            self.tail = node\n",
    "\n",
    "    # 삭제 연산\n",
    "    def dequeue(self):\n",
    "        if not self.isEmpty():\n",
    "            data = self.front.data\n",
    "            self.front = self.front.link\n",
    "            if self.front == None:\n",
    "                self.tail = None\n",
    "            return data\n",
    "\n",
    "    # 전체 노드의 방문\n",
    "    def size(self):\n",
    "        if self.isEmpty():\n",
    "            return 0\n",
    "        else:\n",
    "            count = 1\n",
    "            node = self.front\n",
    "            while not node == self.tail:\n",
    "                node = node.link\n",
    "                count += 1\n",
    "            return count\n",
    "\n",
    "    def display(self, msg=\"LinkedQueue: \"):\n",
    "        print(msg, end=\"\")\n",
    "        if not self.isEmpty():\n",
    "            node = self.front\n",
    "            while not node == self.tail:\n",
    "                print(node.data, end=' ')\n",
    "                node = node.link\n",
    "            print(node.data, end=\" \")\n",
    "        print(None)"
   ]
  },
  {
   "cell_type": "markdown",
   "metadata": {},
   "source": [
    "## 테스트 프로그램"
   ]
  },
  {
   "cell_type": "code",
   "execution_count": 47,
   "metadata": {
    "ExecuteTime": {
     "end_time": "2023-10-16T10:27:08.063993Z",
     "start_time": "2023-10-16T10:27:08.056782Z"
    }
   },
   "outputs": [
    {
     "name": "stdout",
     "output_type": "stream",
     "text": [
      "인큐 후 큐의 상태: 1 2 3 4 5 None\n",
      "디큐 후 큐의 상태: 4 5 None\n",
      "큐는 빈 상태가 아닙니다.\n",
      "Queue size: 2\n",
      "Queue 삭제 후 : None\n"
     ]
    }
   ],
   "source": [
    "queue = LinkedQueue()\n",
    "# 큐에 항목 추가\n",
    "for item in [1, 2, 3, 4, 5]:\n",
    "    queue.enqueue(item)\n",
    "# 큐의 상태 출력\n",
    "queue.display(\"인큐 후 큐의 상태: \")\n",
    "# 큐에서 항목 제거\n",
    "for i in range(3):\n",
    "    queue.dequeue()\n",
    "# 큐의 상태 출력\n",
    "queue.display(\"디큐 후 큐의 상태: \")\n",
    "# 큐가 비어 있는지 확인\n",
    "if queue.isEmpty():\n",
    "    print(\"큐는 빈 상태입니다.\")\n",
    "else:\n",
    "    print(\"큐는 빈 상태가 아닙니다.\")\n",
    "# 큐의 크기 출력\n",
    "print(\"Queue size:\", queue.size())\n",
    "# 큐 비우기\n",
    "queue.clear()\n",
    "queue.display(\"Queue 삭제 후 : \")\n"
   ]
  },
  {
   "cell_type": "code",
   "execution_count": null,
   "metadata": {},
   "outputs": [],
   "source": []
  }
 ],
 "metadata": {
  "colab": {
   "provenance": []
  },
  "kernelspec": {
   "display_name": "Python 3 (ipykernel)",
   "language": "python",
   "name": "python3"
  },
  "language_info": {
   "codemirror_mode": {
    "name": "ipython",
    "version": 3
   },
   "file_extension": ".py",
   "mimetype": "text/x-python",
   "name": "python",
   "nbconvert_exporter": "python",
   "pygments_lexer": "ipython3",
   "version": "3.9.12"
  },
  "toc": {
   "base_numbering": 1,
   "nav_menu": {},
   "number_sections": true,
   "sideBar": true,
   "skip_h1_title": false,
   "title_cell": "Table of Contents",
   "title_sidebar": "Contents",
   "toc_cell": false,
   "toc_position": {},
   "toc_section_display": true,
   "toc_window_display": false
  }
 },
 "nbformat": 4,
 "nbformat_minor": 1
}
