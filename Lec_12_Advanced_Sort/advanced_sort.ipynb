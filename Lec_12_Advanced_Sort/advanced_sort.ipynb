{
 "cells": [
  {
   "cell_type": "markdown",
   "id": "3e885838",
   "metadata": {},
   "source": [
    "# 연습문제"
   ]
  },
  {
   "cell_type": "markdown",
   "id": "316b5eee",
   "metadata": {},
   "source": [
    "## 12.1\n",
    "1, 5, 9, 10"
   ]
  },
  {
   "cell_type": "markdown",
   "id": "37ec3a64",
   "metadata": {},
   "source": [
    "## 12.2\n",
    "2, 3, 4"
   ]
  },
  {
   "cell_type": "markdown",
   "id": "38b25eb3",
   "metadata": {},
   "source": [
    "## 12.3\n",
    "5"
   ]
  },
  {
   "cell_type": "markdown",
   "id": "548ba23b",
   "metadata": {},
   "source": [
    "## 12.4\n",
    "7, 8"
   ]
  },
  {
   "cell_type": "markdown",
   "id": "909f1702",
   "metadata": {},
   "source": [
    "## 12.5\n",
    "9, 10"
   ]
  },
  {
   "cell_type": "markdown",
   "id": "2aece67a",
   "metadata": {},
   "source": [
    "## 12.6\n",
    "5, 6"
   ]
  },
  {
   "cell_type": "markdown",
   "id": "53a63fff",
   "metadata": {},
   "source": [
    "## 12.7\n",
    "1, 2, 3"
   ]
  },
  {
   "cell_type": "markdown",
   "id": "51de0a58",
   "metadata": {},
   "source": [
    "## 12.8\n",
    "1, 2, 3, 7"
   ]
  },
  {
   "cell_type": "markdown",
   "id": "e22a495b",
   "metadata": {},
   "source": [
    "## 12.9\n",
    "9, 10"
   ]
  },
  {
   "cell_type": "markdown",
   "id": "516b1341",
   "metadata": {},
   "source": [
    "## 12.10\n",
    "2, 4"
   ]
  },
  {
   "cell_type": "markdown",
   "id": "08ef8e0d",
   "metadata": {},
   "source": [
    "## 12.13\n",
    "\n",
    "gap = 5\n",
    "7, 4, 5, 6, 4, 8, 7, 9\n",
    "\n",
    "gap = 3\n",
    "6, 3, 5, 7, 4, 8, 7, 9\n",
    "\n",
    "gap = 1\n",
    "3, 4, 5, 6, 7, 7, 8, 9\n",
    "\n",
    "최종:\n",
    "3, 4, 5, 6, 7, 7, 8, 9"
   ]
  },
  {
   "cell_type": "markdown",
   "id": "a764064c",
   "metadata": {},
   "source": [
    "## 12.15\n",
    "71, 49, 92, 55, 38, 82, 72, 53  \n",
    "\n",
    "71, 49, 92, 55, 38, 82, 72, 53  \n",
    "\n",
    "71, 49, 92, 55, 38, 82, 72, 53  \n",
    "\n",
    "71, 55, 92, 53, 38, 82, 72, 49  \n",
    "\n",
    "92, 55, 82, 53, 38, 71, 72, 49"
   ]
  },
  {
   "cell_type": "markdown",
   "id": "39c0b133",
   "metadata": {},
   "source": [
    "## 12.17\n",
    "병합 1 : 49 71 55 92 38 82 53 72  \n",
    "\n",
    "병합 2 : 49 55 71 92 38 53 72 82  \n",
    "\n",
    "병합 3 : 38 49 53 55 71 72 82 92  "
   ]
  },
  {
   "cell_type": "markdown",
   "id": "70b47509",
   "metadata": {},
   "source": [
    "## 12.18\n",
    "71, 49, 92, 55, 38, 82, 72, 53  \n",
    "71, 49, 53, 55, 38, 82, 72, 92  \n",
    "38, 49, 53, 55, 71, 82, 72, 9  \n",
    "38, 49, 53, 55, 71, 82, 72, 92  \n",
    "38, 49, 53, 55, 71, 72, 82, 92  \n",
    "38, 49, 53, 55, 71, 72, 82, 92  \n",
    "38, 49, 53, 55, 71, 72, 82, 92  \n",
    "38, 49, 53, 55, 71, 72, 82, 92  "
   ]
  },
  {
   "cell_type": "markdown",
   "id": "323f7194",
   "metadata": {},
   "source": [
    "## 12.19\n",
    "왼쪽: 피벗 1 배열: 1, 2, 3, 4, 5, 6, 7, 8  \n",
    "중간: 피벗 4 배열: 1, 2, 3, 4, 5, 6, 7, 8  \n",
    "오른쪽: 피벗 8 배열: 1, 2, 3, 4, 5, 6, 7, 8  \n",
    "가운데 중간값: 피벗 : 4, 배열 : 1, 2, 3, 4, 5, 6, 7, 8  "
   ]
  },
  {
   "cell_type": "code",
   "execution_count": 2,
   "id": "bb1430af",
   "metadata": {
    "ExecuteTime": {
     "end_time": "2023-12-12T12:45:40.608991Z",
     "start_time": "2023-12-12T12:45:40.565322Z"
    }
   },
   "outputs": [
    {
     "name": "stdout",
     "output_type": "stream",
     "text": [
      "Tim       : [0, 4, 7, 15, 16, 19, 20, 21, 21, 22, 23, 23, 24, 25, 26, 26, 26, 26, 27, 28, 28, 29, 33, 33, 37, 38, 41, 41, 42, 50, 52, 52, 54, 54, 55, 57, 58, 59, 61, 62, 63, 64, 67, 72, 73, 73, 74, 74, 76, 80, 83, 85, 88, 88, 91, 91, 94, 99, 99, 103, 106, 108, 110, 110, 115, 123, 126, 135, 136, 136, 137, 138, 138, 142, 146, 147, 150, 152, 153, 153, 154, 156, 158, 159, 159, 164, 166, 166, 167, 168, 170, 171, 172, 173, 173, 174, 177, 177, 177, 177, 178, 181, 183, 183, 187, 191, 191, 192, 196, 197, 200, 201, 203, 206, 206, 207, 207, 208, 210, 211, 213, 215, 217, 219, 223, 225, 230, 231, 231, 233, 234, 239, 240, 240, 244, 244, 246, 248, 248, 248, 249, 256, 260, 265, 266, 274, 276, 278, 279, 282, 285, 286, 287, 291, 292, 303, 306, 308, 309, 312, 314, 318, 318, 323, 327, 335, 335, 336, 336, 342, 345, 346, 347, 348, 352, 353, 354, 357, 358, 363, 364, 367, 369, 370, 371, 373, 374, 376, 376, 378, 380, 384, 390, 390, 390, 392, 392, 400, 401, 405, 406, 408, 410, 411, 411, 413, 415, 417, 417, 420, 420, 424, 425, 426, 431, 432, 433, 434, 436, 436, 438, 439, 440, 441, 442, 442, 443, 443, 444, 449, 449, 451, 452, 456, 456, 456, 463, 464, 468, 469, 469, 470, 472, 473, 475, 477, 480, 485, 488, 489, 492, 494, 497, 499, 503, 504, 505, 506, 507, 515, 515, 518, 520, 521, 524, 524, 526, 527, 528, 528, 528, 529, 533, 535, 535, 538, 538, 540, 543, 544, 546, 551, 551, 553, 558, 561, 567, 570, 571, 578, 580, 581, 581, 583, 583, 584, 585, 586, 590, 591, 597, 598, 603, 606, 608, 613, 615, 616, 618, 621, 623, 623, 628, 628, 631, 635, 635, 637, 638, 638, 639, 641, 642, 643, 644, 645, 646, 649, 653, 656, 657, 663, 666, 671, 672, 676, 678, 683, 685, 686, 689, 689, 696, 697, 698, 699, 701, 705, 710, 711, 711, 712, 713, 717, 718, 719, 720, 725, 727, 735, 735, 738, 738, 739, 741, 741, 742, 743, 745, 746, 748, 751, 752, 755, 757, 757, 758, 759, 759, 762, 764, 765, 765, 772, 774, 774, 776, 780, 784, 785, 786, 786, 789, 792, 794, 798, 798, 800, 800, 801, 803, 804, 807, 807, 807, 807, 810, 813, 815, 817, 821, 830, 831, 835, 837, 838, 839, 839, 840, 843, 844, 844, 846, 848, 849, 849, 857, 862, 863, 867, 868, 870, 872, 872, 872, 883, 884, 887, 888, 889, 892, 895, 896, 896, 897, 897, 903, 907, 909, 909, 912, 914, 916, 917, 918, 921, 921, 924, 924, 926, 928, 930, 930, 932, 933, 933, 936, 939, 944, 945, 947, 949, 950, 952, 954, 954, 954, 959, 967, 968, 969, 971, 971, 971, 973, 977, 978, 981, 983, 987, 989, 990, 990, 991, 993, 993, 994, 995, 995, 998]\n"
     ]
    }
   ],
   "source": [
    "def insertionSort(A, left, right):  \n",
    "   \n",
    "    for i in range(left + 1, right+1):  \n",
    "        temp = A[i]  \n",
    "        j = i - 1 \n",
    "        while A[j] > temp and j >= left:  \n",
    "            A[j+1] = A[j]  \n",
    "            j -= 1\n",
    "        A[j+1] = temp  \n",
    "\n",
    "def merge(A, left, mid, right) :\n",
    "    global sorted\n",
    "    k = left\t\t\t# k는 정렬될 리스트에 대한 인덱스\n",
    "    i = left\n",
    "    j = mid + 1\n",
    "    while i<=mid and j<=right :\n",
    "        if A[i] <= A[j] :\n",
    "            sorted[k] = A[i]\n",
    "            i, k = i+1, k+1\n",
    "            #i += 1\n",
    "            #k += 1\n",
    "        else:\n",
    "            sorted[k] = A[j]\n",
    "            j, k = j+1, k+1\n",
    "            #j += 1\n",
    "            #k += 1\n",
    "\t# 한쪽에 남아 있는 레코드의 일괄 복사\n",
    "    if i > mid :\n",
    "        sorted[k:k+right-j+1] = A[j:right+1]\n",
    "    else :\n",
    "        sorted[k:k+mid-i+1] = A[i:mid+1]\n",
    "\t# 배열 sorted[]의 리스트를 배열 list[]로 다시 복사\n",
    "    A[left:right+1] = sorted[left:right+1]\n",
    "\n",
    "# Timsort 함수. RUN의 삽입정렬을 위한 최소 부분 배열의 크기임\n",
    "RUN = 32\n",
    "def timSort(arr, n):  \n",
    "    # 크기가 RUN인 각 부분 배열을 삽입정렬로 정렬\n",
    "    for i in range(0, n, RUN):  \n",
    "        insertionSort(arr, i, min((i+RUN-1), (n-1)))  \n",
    "    \n",
    "    # 크기 RUN에서 부터 병합 시작. 32->64->128->...  \n",
    "    size = RUN \n",
    "    while size < n:  \n",
    "        # 부분 배열 A[left]와 A[left+1]을 병합함\n",
    "        # left는 매번 2*size만큼 증가해야 함\n",
    "        for left in range(0, n, 2*size):  \n",
    "            mid = left + size - 1                       # 배열 중앙\n",
    "            right = min((left + 2*size - 1), (n-1))     # 배열의 끝\n",
    "    \n",
    "            # A[left.....mid] 와 A[mid+1....right] 를 병합\n",
    "            merge(arr, left, mid, right)  \n",
    "          \n",
    "        size = 2*size   # size는 매번 2배로 증가함.\n",
    "\n",
    "import random\n",
    "sorted = []\n",
    "def testAllSort() :\n",
    "    # org = [ 5, 3, 8, 4, 9, 1, 6, 2, 7 ]\n",
    "    org = [random.randint(0, 1000) for _ in range(500)]\n",
    "    global sorted\n",
    "    sorted = list(org)\n",
    "    data = list(org)\n",
    "    timSort(data, len(data))\n",
    "    print(\"Tim       : \" + str(data))\n",
    "\n",
    "testAllSort()\n"
   ]
  },
  {
   "cell_type": "code",
   "execution_count": 4,
   "id": "4c3c56e6",
   "metadata": {
    "ExecuteTime": {
     "end_time": "2023-12-12T12:55:18.153849Z",
     "start_time": "2023-12-12T12:55:18.133895Z"
    }
   },
   "outputs": [
    {
     "name": "stdout",
     "output_type": "stream",
     "text": [
      "Hybrid Sort: [4, 5, 6, 6, 6, 7, 10, 10, 15, 15, 17, 19, 20, 21, 24, 25, 35, 37, 41, 43, 45, 46, 46, 47, 51, 52, 52, 52, 56, 57, 59, 59, 59, 61, 75, 77, 77, 81, 82, 82, 84, 84, 85, 87, 88, 88, 92, 92, 95, 98]\n"
     ]
    }
   ],
   "source": [
    "def insertion_sort(arr, left, right):\n",
    "    for i in range(left + 1, right + 1):\n",
    "        temp = arr[i]\n",
    "        j = i - 1\n",
    "        while arr[j] > temp and j >= left:\n",
    "            arr[j + 1] = arr[j]\n",
    "            j -= 1\n",
    "        arr[j + 1] = temp\n",
    "\n",
    "def merge(arr, left, mid, right):\n",
    "    global sorted_array\n",
    "    k = left\n",
    "    i = left\n",
    "    j = mid + 1\n",
    "    while i <= mid and j <= right:\n",
    "        if arr[i] <= arr[j]:\n",
    "            sorted_array[k] = arr[i]\n",
    "            i, k = i + 1, k + 1\n",
    "        else:\n",
    "            sorted_array[k] = arr[j]\n",
    "            j, k = j + 1, k + 1\n",
    "\n",
    "    if i > mid:\n",
    "        sorted_array[k:k + right - j + 1] = arr[j:right + 1]\n",
    "    else:\n",
    "        sorted_array[k:k + mid - i + 1] = arr[i:mid + 1]\n",
    "\n",
    "    arr[left:right + 1] = sorted_array[left:right + 1]\n",
    "\n",
    "RUN = 32\n",
    "\n",
    "def hybrid_sort(arr, left, right):\n",
    "    if left < right:\n",
    "        if right - left <= RUN:\n",
    "            insertion_sort(arr, left, right)\n",
    "        else:\n",
    "            mid = (left + right) // 2\n",
    "            hybrid_sort(arr, left, mid)\n",
    "            hybrid_sort(arr, mid + 1, right)\n",
    "            merge(arr, left, mid, right)\n",
    "\n",
    "def tim_sort(arr, n):\n",
    "    for i in range(0, n, RUN):\n",
    "        insertion_sort(arr, i, min((i + RUN - 1), (n - 1)))\n",
    "\n",
    "    size = RUN\n",
    "    while size < n:\n",
    "        for left in range(0, n, 2 * size):\n",
    "            mid = left + size - 1\n",
    "            right = min((left + 2 * size - 1), (n - 1))\n",
    "            merge(arr, left, mid, right)\n",
    "        size = 2 * size\n",
    "\n",
    "import random\n",
    "\n",
    "sorted_array = []\n",
    "\n",
    "def test_all_sort():\n",
    "    org = [random.randint(0, 100) for _ in range(50)]\n",
    "    global sorted_array\n",
    "    sorted_array = list(org)\n",
    "    data = list(org)\n",
    "    hybrid_sort(data, 0, len(data) - 1)\n",
    "    print(\"Hybrid Sort: \" + str(data))\n",
    "\n",
    "test_all_sort()\n"
   ]
  }
 ],
 "metadata": {
  "kernelspec": {
   "display_name": "Python 3 (ipykernel)",
   "language": "python",
   "name": "python3"
  },
  "language_info": {
   "codemirror_mode": {
    "name": "ipython",
    "version": 3
   },
   "file_extension": ".py",
   "mimetype": "text/x-python",
   "name": "python",
   "nbconvert_exporter": "python",
   "pygments_lexer": "ipython3",
   "version": "3.9.12"
  },
  "toc": {
   "base_numbering": 1,
   "nav_menu": {},
   "number_sections": true,
   "sideBar": true,
   "skip_h1_title": false,
   "title_cell": "Table of Contents",
   "title_sidebar": "Contents",
   "toc_cell": false,
   "toc_position": {},
   "toc_section_display": true,
   "toc_window_display": false
  }
 },
 "nbformat": 4,
 "nbformat_minor": 5
}
