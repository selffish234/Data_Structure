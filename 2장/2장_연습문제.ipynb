{
 "cells": [
  {
   "cell_type": "markdown",
   "id": "7fa8b951",
   "metadata": {},
   "source": [
    "## 연습문제 2.4"
   ]
  },
  {
   "cell_type": "code",
   "execution_count": 9,
   "id": "bdafe1d0",
   "metadata": {
    "ExecuteTime": {
     "end_time": "2023-10-04T13:26:42.494807Z",
     "start_time": "2023-10-04T13:26:42.472773Z"
    }
   },
   "outputs": [],
   "source": [
    "def convert(c):\n",
    "    f = 32 + (1.8*c)\n",
    "    return print(\"화씨\",f,\"도 입니다\")"
   ]
  },
  {
   "cell_type": "code",
   "execution_count": 11,
   "id": "b58a72cc",
   "metadata": {
    "ExecuteTime": {
     "end_time": "2023-10-04T13:26:53.476054Z",
     "start_time": "2023-10-04T13:26:53.459624Z"
    }
   },
   "outputs": [
    {
     "name": "stdout",
     "output_type": "stream",
     "text": [
      "화씨 14.0 도 입니다\n"
     ]
    }
   ],
   "source": [
    "convert(-10)"
   ]
  },
  {
   "cell_type": "markdown",
   "id": "65c4cad1",
   "metadata": {},
   "source": [
    "## 연습문제 2.6"
   ]
  },
  {
   "cell_type": "code",
   "execution_count": 19,
   "id": "a67dfb3f",
   "metadata": {
    "ExecuteTime": {
     "end_time": "2023-10-04T13:32:53.787112Z",
     "start_time": "2023-10-04T13:32:53.768216Z"
    }
   },
   "outputs": [],
   "source": [
    "A = [1, 2, 3, 4]"
   ]
  },
  {
   "cell_type": "code",
   "execution_count": 20,
   "id": "ff95e98a",
   "metadata": {
    "ExecuteTime": {
     "end_time": "2023-10-04T13:32:54.952594Z",
     "start_time": "2023-10-04T13:32:54.937249Z"
    }
   },
   "outputs": [
    {
     "name": "stdout",
     "output_type": "stream",
     "text": [
      "4\n",
      "3\n",
      "2\n",
      "1\n"
     ]
    }
   ],
   "source": [
    "a = -1\n",
    "for i in range(len(A)):\n",
    "    print(A[a])\n",
    "    a-=1"
   ]
  },
  {
   "cell_type": "markdown",
   "id": "3d396725",
   "metadata": {
    "ExecuteTime": {
     "end_time": "2023-10-04T13:30:44.710915Z",
     "start_time": "2023-10-04T13:30:44.692351Z"
    }
   },
   "source": [
    "## 연습문제 2.9"
   ]
  },
  {
   "cell_type": "code",
   "execution_count": 31,
   "id": "c3e32a90",
   "metadata": {
    "ExecuteTime": {
     "end_time": "2023-10-04T13:41:29.071477Z",
     "start_time": "2023-10-04T13:41:29.057191Z"
    },
    "scrolled": true
   },
   "outputs": [
    {
     "name": "stdout",
     "output_type": "stream",
     "text": [
      "{'콩나물해장국': 4500, '갈비탕': 9000, '돈가스': 8000, '팟타이': 7000}\n"
     ]
    }
   ],
   "source": [
    "price = {\"콩나물해장국\":4500, \"갈비탕\":9000, \"돈가스\" :8000}\n",
    "price.update({\"팟타이\":7000})\n",
    "print(price)"
   ]
  },
  {
   "cell_type": "markdown",
   "id": "fd3d0a9b",
   "metadata": {},
   "source": [
    "## 연습문제 2.10"
   ]
  },
  {
   "cell_type": "code",
   "execution_count": 32,
   "id": "fcf9582f",
   "metadata": {
    "ExecuteTime": {
     "end_time": "2023-10-04T13:41:30.589418Z",
     "start_time": "2023-10-04T13:41:30.572255Z"
    }
   },
   "outputs": [
    {
     "name": "stdout",
     "output_type": "stream",
     "text": [
      "{'콩나물해장국': 4000, '갈비탕': 8500, '돈가스': 7500, '팟타이': 6500}\n"
     ]
    }
   ],
   "source": [
    "for i in price:\n",
    "    price[i] -= 500\n",
    "print(price)"
   ]
  },
  {
   "cell_type": "markdown",
   "id": "2fc969fb",
   "metadata": {},
   "source": [
    "## 연습문제 2.12"
   ]
  },
  {
   "cell_type": "code",
   "execution_count": 37,
   "id": "2bb4ff22",
   "metadata": {
    "ExecuteTime": {
     "end_time": "2023-10-04T13:46:51.245429Z",
     "start_time": "2023-10-04T13:46:51.236926Z"
    }
   },
   "outputs": [],
   "source": [
    "def reverse_sum(n):\n",
    "    if n == 1:\n",
    "        return 1\n",
    "    else:\n",
    "        return 1 / n + reverse_sum(n - 1)"
   ]
  },
  {
   "cell_type": "code",
   "execution_count": 38,
   "id": "dd4c23d1",
   "metadata": {
    "ExecuteTime": {
     "end_time": "2023-10-04T13:46:53.224741Z",
     "start_time": "2023-10-04T13:46:53.203869Z"
    }
   },
   "outputs": [
    {
     "data": {
      "text/plain": [
       "2.283333333333333"
      ]
     },
     "execution_count": 38,
     "metadata": {},
     "output_type": "execute_result"
    }
   ],
   "source": [
    "reverse_sum(5)"
   ]
  },
  {
   "cell_type": "markdown",
   "id": "7072a0b8",
   "metadata": {},
   "source": [
    "## 연습문제 2.15"
   ]
  },
  {
   "cell_type": "code",
   "execution_count": 40,
   "id": "311caae0",
   "metadata": {
    "ExecuteTime": {
     "end_time": "2023-10-04T13:59:08.873532Z",
     "start_time": "2023-10-04T13:59:08.866440Z"
    }
   },
   "outputs": [],
   "source": [
    "def reverse(n):\n",
    "    list = []\n",
    "    for i in n:\n",
    "        list.append(i)\n",
    "    string = \"\".join(list)\n",
    "    rev_string = string[::-1]\n",
    "    return rev_string"
   ]
  },
  {
   "cell_type": "code",
   "execution_count": 42,
   "id": "7e9c994c",
   "metadata": {
    "ExecuteTime": {
     "end_time": "2023-10-04T13:59:43.001290Z",
     "start_time": "2023-10-04T13:59:42.988422Z"
    }
   },
   "outputs": [
    {
     "data": {
      "text/plain": [
       "'EDCBA'"
      ]
     },
     "execution_count": 42,
     "metadata": {},
     "output_type": "execute_result"
    }
   ],
   "source": [
    "reverse(\"ABCDE\")"
   ]
  }
 ],
 "metadata": {
  "kernelspec": {
   "display_name": "Python 3 (ipykernel)",
   "language": "python",
   "name": "python3"
  },
  "language_info": {
   "codemirror_mode": {
    "name": "ipython",
    "version": 3
   },
   "file_extension": ".py",
   "mimetype": "text/x-python",
   "name": "python",
   "nbconvert_exporter": "python",
   "pygments_lexer": "ipython3",
   "version": "3.9.12"
  },
  "toc": {
   "base_numbering": 1,
   "nav_menu": {},
   "number_sections": true,
   "sideBar": true,
   "skip_h1_title": false,
   "title_cell": "Table of Contents",
   "title_sidebar": "Contents",
   "toc_cell": false,
   "toc_position": {},
   "toc_section_display": true,
   "toc_window_display": false
  }
 },
 "nbformat": 4,
 "nbformat_minor": 5
}
